{
  "nbformat": 4,
  "nbformat_minor": 0,
  "metadata": {
    "colab": {
      "provenance": [],
      "toc_visible": true
    },
    "kernelspec": {
      "name": "python3",
      "display_name": "Python 3"
    },
    "language_info": {
      "name": "python"
    }
  },
  "cells": [
    {
      "cell_type": "markdown",
      "source": [
        "# Scoring a model on a Task B dataset, fitted on Task A dataset\n",
        "\n",
        "\n",
        "\n"
      ],
      "metadata": {
        "id": "BcWHh8kt0PVa"
      }
    },
    {
      "cell_type": "code",
      "execution_count": null,
      "metadata": {
        "id": "qc7UdLiq8f23"
      },
      "outputs": [],
      "source": [
        "import pandas as pd\n",
        "import numpy as np\n",
        "import matplotlib.pyplot as plt\n",
        "import seaborn as sns\n",
        "import os\n",
        "import requests\n",
        "import glob"
      ]
    },
    {
      "cell_type": "code",
      "source": [
        "df=pd.read_csv('/content/drive/MyDrive/features_taskb/result.csv',index_col=[0])"
      ],
      "metadata": {
        "id": "VgaKeDvxofmC"
      },
      "execution_count": null,
      "outputs": []
    },
    {
      "cell_type": "code",
      "source": [
        "df"
      ],
      "metadata": {
        "colab": {
          "base_uri": "https://localhost:8080/",
          "height": 443
        },
        "id": "l7mmWc6zrTgY",
        "outputId": "59bf71bc-777e-4314-fde8-686877291fb0"
      },
      "execution_count": null,
      "outputs": [
        {
          "output_type": "execute_result",
          "data": {
            "text/plain": [
              "        Nav/Raw.X[RightCheek]_mean  Nav/Raw.X[RightCheek]_std  \\\n",
              "0                         1.161789                   0.013268   \n",
              "1                         1.170971                   0.015568   \n",
              "2                         1.181609                   0.015521   \n",
              "3                         1.190956                   0.014049   \n",
              "4                         1.198325                   0.010126   \n",
              "...                            ...                        ...   \n",
              "183769                   -2.000474                   0.048074   \n",
              "183770                   -1.989905                   0.057664   \n",
              "183771                   -1.971478                   0.060928   \n",
              "183772                   -1.976536                   0.065066   \n",
              "183773                   -2.008762                   0.064057   \n",
              "\n",
              "        Nav/Raw.X[RightCheek]_min_  Nav/Raw.X[RightCheek]_max_  \\\n",
              "0                         1.146034                    1.186698   \n",
              "1                         1.146034                    1.197692   \n",
              "2                         1.157029                    1.204343   \n",
              "3                         1.167509                    1.210380   \n",
              "4                         1.175406                    1.210380   \n",
              "...                            ...                         ...   \n",
              "183769                   -2.037821                   -1.870405   \n",
              "183770                   -2.037821                   -1.855048   \n",
              "183771                   -2.037821                   -1.855048   \n",
              "183772                   -2.061803                   -1.855048   \n",
              "183773                   -2.081856                   -1.855048   \n",
              "\n",
              "        Nav/Raw.X[RightCheek]_range_  Nav/Raw.X[RightCheek]_iqr  \\\n",
              "0                           0.040664                   0.023819   \n",
              "1                           0.051659                   0.025621   \n",
              "2                           0.047314                   0.028760   \n",
              "3                           0.042870                   0.025365   \n",
              "4                           0.034974                   0.016080   \n",
              "...                              ...                        ...   \n",
              "183769                      0.167416                   0.043178   \n",
              "183770                      0.182773                   0.059186   \n",
              "183771                      0.182773                   0.112349   \n",
              "183772                      0.206755                   0.113255   \n",
              "183773                      0.226808                   0.066754   \n",
              "\n",
              "        Nav/Raw.X[RightCheek]_kurtosis  Nav/Raw.X[RightCheek]_skewness  \\\n",
              "0                            -1.099109                        0.383375   \n",
              "1                            -1.161798                        0.083202   \n",
              "2                            -1.373486                        0.008466   \n",
              "3                            -1.273589                       -0.338018   \n",
              "4                            -0.650981                       -0.788129   \n",
              "...                                ...                             ...   \n",
              "183769                        1.118882                        1.566707   \n",
              "183770                       -0.224888                        1.119873   \n",
              "183771                       -1.144223                        0.575649   \n",
              "183772                       -1.181786                        0.516532   \n",
              "183773                        0.196349                        1.101691   \n",
              "\n",
              "        Nav/Raw.X[RightCheek]_rms  Nav/Raw.Y[RightCheek]_mean  ...  \\\n",
              "0                        1.161865                    2.347599  ...   \n",
              "1                        1.171074                    2.353774  ...   \n",
              "2                        1.181711                    2.352999  ...   \n",
              "3                        1.191039                    2.349553  ...   \n",
              "4                        1.198368                    2.345920  ...   \n",
              "...                           ...                         ...  ...   \n",
              "183769                   2.001052                    0.062767  ...   \n",
              "183770                   1.990740                    0.043004  ...   \n",
              "183771                   1.972419                    0.004511  ...   \n",
              "183772                   1.977607                   -0.012029  ...   \n",
              "183773                   2.009783                   -0.000409  ...   \n",
              "\n",
              "        Prox/Raw[LeftCheek]_std  Prox/Raw[LeftCheek]_min_  \\\n",
              "0                      0.006692                  0.910076   \n",
              "1                      0.006163                  0.910076   \n",
              "2                      0.003812                  0.910076   \n",
              "3                      0.002263                  0.910076   \n",
              "4                      0.002642                  0.914351   \n",
              "...                         ...                       ...   \n",
              "183769                 0.005197                 -0.642866   \n",
              "183770                 0.007584                 -0.643957   \n",
              "183771                 0.008153                 -0.644637   \n",
              "183772                 0.009507                 -0.656932   \n",
              "183773                 0.012827                 -0.672574   \n",
              "\n",
              "        Prox/Raw[LeftCheek]_max_  Prox/Raw[LeftCheek]_range_  \\\n",
              "0                       0.934514                    0.024438   \n",
              "1                       0.934514                    0.024438   \n",
              "2                       0.928820                    0.018744   \n",
              "3                       0.921606                    0.011529   \n",
              "4                       0.928226                    0.013875   \n",
              "...                          ...                         ...   \n",
              "183769                 -0.624412                    0.018454   \n",
              "183770                 -0.611042                    0.032915   \n",
              "183771                 -0.611042                    0.033594   \n",
              "183772                 -0.611042                    0.045890   \n",
              "183773                 -0.611042                    0.061532   \n",
              "\n",
              "        Prox/Raw[LeftCheek]_iqr  Prox/Raw[LeftCheek]_kurtosis  \\\n",
              "0                      0.012252                     -1.116658   \n",
              "1                      0.009317                     -0.648856   \n",
              "2                      0.002672                      1.304087   \n",
              "3                      0.002408                      2.277726   \n",
              "4                      0.002533                      6.469843   \n",
              "...                         ...                           ...   \n",
              "183769                 0.007044                     -0.640041   \n",
              "183770                 0.011382                      0.399859   \n",
              "183771                 0.012347                      0.570945   \n",
              "183772                 0.008331                      1.225116   \n",
              "183773                 0.011179                      1.165939   \n",
              "\n",
              "        Prox/Raw[LeftCheek]_skewness  Prox/Raw[LeftCheek]_rms    Label  FileId  \n",
              "0                          -0.261660                 0.925071  neutral       0  \n",
              "1                           0.484894                 0.922422  neutral       0  \n",
              "2                           0.578205                 0.919343  neutral       0  \n",
              "3                          -1.143697                 0.917384  neutral       0  \n",
              "4                           2.111412                 0.917981  neutral       0  \n",
              "...                              ...                      ...      ...     ...  \n",
              "183769                     -0.752143                 0.631986  neutral      58  \n",
              "183770                      0.461958                 0.632486  neutral      58  \n",
              "183771                      0.909235                 0.634938  neutral      58  \n",
              "183772                      0.937588                 0.639078  neutral      58  \n",
              "183773                      0.020052                 0.645765  neutral      58  \n",
              "\n",
              "[183774 rows x 164 columns]"
            ],
            "text/html": [
              "\n",
              "  <div id=\"df-0b59899b-d779-4678-acc8-1b06282647ba\" class=\"colab-df-container\">\n",
              "    <div>\n",
              "<style scoped>\n",
              "    .dataframe tbody tr th:only-of-type {\n",
              "        vertical-align: middle;\n",
              "    }\n",
              "\n",
              "    .dataframe tbody tr th {\n",
              "        vertical-align: top;\n",
              "    }\n",
              "\n",
              "    .dataframe thead th {\n",
              "        text-align: right;\n",
              "    }\n",
              "</style>\n",
              "<table border=\"1\" class=\"dataframe\">\n",
              "  <thead>\n",
              "    <tr style=\"text-align: right;\">\n",
              "      <th></th>\n",
              "      <th>Nav/Raw.X[RightCheek]_mean</th>\n",
              "      <th>Nav/Raw.X[RightCheek]_std</th>\n",
              "      <th>Nav/Raw.X[RightCheek]_min_</th>\n",
              "      <th>Nav/Raw.X[RightCheek]_max_</th>\n",
              "      <th>Nav/Raw.X[RightCheek]_range_</th>\n",
              "      <th>Nav/Raw.X[RightCheek]_iqr</th>\n",
              "      <th>Nav/Raw.X[RightCheek]_kurtosis</th>\n",
              "      <th>Nav/Raw.X[RightCheek]_skewness</th>\n",
              "      <th>Nav/Raw.X[RightCheek]_rms</th>\n",
              "      <th>Nav/Raw.Y[RightCheek]_mean</th>\n",
              "      <th>...</th>\n",
              "      <th>Prox/Raw[LeftCheek]_std</th>\n",
              "      <th>Prox/Raw[LeftCheek]_min_</th>\n",
              "      <th>Prox/Raw[LeftCheek]_max_</th>\n",
              "      <th>Prox/Raw[LeftCheek]_range_</th>\n",
              "      <th>Prox/Raw[LeftCheek]_iqr</th>\n",
              "      <th>Prox/Raw[LeftCheek]_kurtosis</th>\n",
              "      <th>Prox/Raw[LeftCheek]_skewness</th>\n",
              "      <th>Prox/Raw[LeftCheek]_rms</th>\n",
              "      <th>Label</th>\n",
              "      <th>FileId</th>\n",
              "    </tr>\n",
              "  </thead>\n",
              "  <tbody>\n",
              "    <tr>\n",
              "      <th>0</th>\n",
              "      <td>1.161789</td>\n",
              "      <td>0.013268</td>\n",
              "      <td>1.146034</td>\n",
              "      <td>1.186698</td>\n",
              "      <td>0.040664</td>\n",
              "      <td>0.023819</td>\n",
              "      <td>-1.099109</td>\n",
              "      <td>0.383375</td>\n",
              "      <td>1.161865</td>\n",
              "      <td>2.347599</td>\n",
              "      <td>...</td>\n",
              "      <td>0.006692</td>\n",
              "      <td>0.910076</td>\n",
              "      <td>0.934514</td>\n",
              "      <td>0.024438</td>\n",
              "      <td>0.012252</td>\n",
              "      <td>-1.116658</td>\n",
              "      <td>-0.261660</td>\n",
              "      <td>0.925071</td>\n",
              "      <td>neutral</td>\n",
              "      <td>0</td>\n",
              "    </tr>\n",
              "    <tr>\n",
              "      <th>1</th>\n",
              "      <td>1.170971</td>\n",
              "      <td>0.015568</td>\n",
              "      <td>1.146034</td>\n",
              "      <td>1.197692</td>\n",
              "      <td>0.051659</td>\n",
              "      <td>0.025621</td>\n",
              "      <td>-1.161798</td>\n",
              "      <td>0.083202</td>\n",
              "      <td>1.171074</td>\n",
              "      <td>2.353774</td>\n",
              "      <td>...</td>\n",
              "      <td>0.006163</td>\n",
              "      <td>0.910076</td>\n",
              "      <td>0.934514</td>\n",
              "      <td>0.024438</td>\n",
              "      <td>0.009317</td>\n",
              "      <td>-0.648856</td>\n",
              "      <td>0.484894</td>\n",
              "      <td>0.922422</td>\n",
              "      <td>neutral</td>\n",
              "      <td>0</td>\n",
              "    </tr>\n",
              "    <tr>\n",
              "      <th>2</th>\n",
              "      <td>1.181609</td>\n",
              "      <td>0.015521</td>\n",
              "      <td>1.157029</td>\n",
              "      <td>1.204343</td>\n",
              "      <td>0.047314</td>\n",
              "      <td>0.028760</td>\n",
              "      <td>-1.373486</td>\n",
              "      <td>0.008466</td>\n",
              "      <td>1.181711</td>\n",
              "      <td>2.352999</td>\n",
              "      <td>...</td>\n",
              "      <td>0.003812</td>\n",
              "      <td>0.910076</td>\n",
              "      <td>0.928820</td>\n",
              "      <td>0.018744</td>\n",
              "      <td>0.002672</td>\n",
              "      <td>1.304087</td>\n",
              "      <td>0.578205</td>\n",
              "      <td>0.919343</td>\n",
              "      <td>neutral</td>\n",
              "      <td>0</td>\n",
              "    </tr>\n",
              "    <tr>\n",
              "      <th>3</th>\n",
              "      <td>1.190956</td>\n",
              "      <td>0.014049</td>\n",
              "      <td>1.167509</td>\n",
              "      <td>1.210380</td>\n",
              "      <td>0.042870</td>\n",
              "      <td>0.025365</td>\n",
              "      <td>-1.273589</td>\n",
              "      <td>-0.338018</td>\n",
              "      <td>1.191039</td>\n",
              "      <td>2.349553</td>\n",
              "      <td>...</td>\n",
              "      <td>0.002263</td>\n",
              "      <td>0.910076</td>\n",
              "      <td>0.921606</td>\n",
              "      <td>0.011529</td>\n",
              "      <td>0.002408</td>\n",
              "      <td>2.277726</td>\n",
              "      <td>-1.143697</td>\n",
              "      <td>0.917384</td>\n",
              "      <td>neutral</td>\n",
              "      <td>0</td>\n",
              "    </tr>\n",
              "    <tr>\n",
              "      <th>4</th>\n",
              "      <td>1.198325</td>\n",
              "      <td>0.010126</td>\n",
              "      <td>1.175406</td>\n",
              "      <td>1.210380</td>\n",
              "      <td>0.034974</td>\n",
              "      <td>0.016080</td>\n",
              "      <td>-0.650981</td>\n",
              "      <td>-0.788129</td>\n",
              "      <td>1.198368</td>\n",
              "      <td>2.345920</td>\n",
              "      <td>...</td>\n",
              "      <td>0.002642</td>\n",
              "      <td>0.914351</td>\n",
              "      <td>0.928226</td>\n",
              "      <td>0.013875</td>\n",
              "      <td>0.002533</td>\n",
              "      <td>6.469843</td>\n",
              "      <td>2.111412</td>\n",
              "      <td>0.917981</td>\n",
              "      <td>neutral</td>\n",
              "      <td>0</td>\n",
              "    </tr>\n",
              "    <tr>\n",
              "      <th>...</th>\n",
              "      <td>...</td>\n",
              "      <td>...</td>\n",
              "      <td>...</td>\n",
              "      <td>...</td>\n",
              "      <td>...</td>\n",
              "      <td>...</td>\n",
              "      <td>...</td>\n",
              "      <td>...</td>\n",
              "      <td>...</td>\n",
              "      <td>...</td>\n",
              "      <td>...</td>\n",
              "      <td>...</td>\n",
              "      <td>...</td>\n",
              "      <td>...</td>\n",
              "      <td>...</td>\n",
              "      <td>...</td>\n",
              "      <td>...</td>\n",
              "      <td>...</td>\n",
              "      <td>...</td>\n",
              "      <td>...</td>\n",
              "      <td>...</td>\n",
              "    </tr>\n",
              "    <tr>\n",
              "      <th>183769</th>\n",
              "      <td>-2.000474</td>\n",
              "      <td>0.048074</td>\n",
              "      <td>-2.037821</td>\n",
              "      <td>-1.870405</td>\n",
              "      <td>0.167416</td>\n",
              "      <td>0.043178</td>\n",
              "      <td>1.118882</td>\n",
              "      <td>1.566707</td>\n",
              "      <td>2.001052</td>\n",
              "      <td>0.062767</td>\n",
              "      <td>...</td>\n",
              "      <td>0.005197</td>\n",
              "      <td>-0.642866</td>\n",
              "      <td>-0.624412</td>\n",
              "      <td>0.018454</td>\n",
              "      <td>0.007044</td>\n",
              "      <td>-0.640041</td>\n",
              "      <td>-0.752143</td>\n",
              "      <td>0.631986</td>\n",
              "      <td>neutral</td>\n",
              "      <td>58</td>\n",
              "    </tr>\n",
              "    <tr>\n",
              "      <th>183770</th>\n",
              "      <td>-1.989905</td>\n",
              "      <td>0.057664</td>\n",
              "      <td>-2.037821</td>\n",
              "      <td>-1.855048</td>\n",
              "      <td>0.182773</td>\n",
              "      <td>0.059186</td>\n",
              "      <td>-0.224888</td>\n",
              "      <td>1.119873</td>\n",
              "      <td>1.990740</td>\n",
              "      <td>0.043004</td>\n",
              "      <td>...</td>\n",
              "      <td>0.007584</td>\n",
              "      <td>-0.643957</td>\n",
              "      <td>-0.611042</td>\n",
              "      <td>0.032915</td>\n",
              "      <td>0.011382</td>\n",
              "      <td>0.399859</td>\n",
              "      <td>0.461958</td>\n",
              "      <td>0.632486</td>\n",
              "      <td>neutral</td>\n",
              "      <td>58</td>\n",
              "    </tr>\n",
              "    <tr>\n",
              "      <th>183771</th>\n",
              "      <td>-1.971478</td>\n",
              "      <td>0.060928</td>\n",
              "      <td>-2.037821</td>\n",
              "      <td>-1.855048</td>\n",
              "      <td>0.182773</td>\n",
              "      <td>0.112349</td>\n",
              "      <td>-1.144223</td>\n",
              "      <td>0.575649</td>\n",
              "      <td>1.972419</td>\n",
              "      <td>0.004511</td>\n",
              "      <td>...</td>\n",
              "      <td>0.008153</td>\n",
              "      <td>-0.644637</td>\n",
              "      <td>-0.611042</td>\n",
              "      <td>0.033594</td>\n",
              "      <td>0.012347</td>\n",
              "      <td>0.570945</td>\n",
              "      <td>0.909235</td>\n",
              "      <td>0.634938</td>\n",
              "      <td>neutral</td>\n",
              "      <td>58</td>\n",
              "    </tr>\n",
              "    <tr>\n",
              "      <th>183772</th>\n",
              "      <td>-1.976536</td>\n",
              "      <td>0.065066</td>\n",
              "      <td>-2.061803</td>\n",
              "      <td>-1.855048</td>\n",
              "      <td>0.206755</td>\n",
              "      <td>0.113255</td>\n",
              "      <td>-1.181786</td>\n",
              "      <td>0.516532</td>\n",
              "      <td>1.977607</td>\n",
              "      <td>-0.012029</td>\n",
              "      <td>...</td>\n",
              "      <td>0.009507</td>\n",
              "      <td>-0.656932</td>\n",
              "      <td>-0.611042</td>\n",
              "      <td>0.045890</td>\n",
              "      <td>0.008331</td>\n",
              "      <td>1.225116</td>\n",
              "      <td>0.937588</td>\n",
              "      <td>0.639078</td>\n",
              "      <td>neutral</td>\n",
              "      <td>58</td>\n",
              "    </tr>\n",
              "    <tr>\n",
              "      <th>183773</th>\n",
              "      <td>-2.008762</td>\n",
              "      <td>0.064057</td>\n",
              "      <td>-2.081856</td>\n",
              "      <td>-1.855048</td>\n",
              "      <td>0.226808</td>\n",
              "      <td>0.066754</td>\n",
              "      <td>0.196349</td>\n",
              "      <td>1.101691</td>\n",
              "      <td>2.009783</td>\n",
              "      <td>-0.000409</td>\n",
              "      <td>...</td>\n",
              "      <td>0.012827</td>\n",
              "      <td>-0.672574</td>\n",
              "      <td>-0.611042</td>\n",
              "      <td>0.061532</td>\n",
              "      <td>0.011179</td>\n",
              "      <td>1.165939</td>\n",
              "      <td>0.020052</td>\n",
              "      <td>0.645765</td>\n",
              "      <td>neutral</td>\n",
              "      <td>58</td>\n",
              "    </tr>\n",
              "  </tbody>\n",
              "</table>\n",
              "<p>183774 rows × 164 columns</p>\n",
              "</div>\n",
              "    <div class=\"colab-df-buttons\">\n",
              "\n",
              "  <div class=\"colab-df-container\">\n",
              "    <button class=\"colab-df-convert\" onclick=\"convertToInteractive('df-0b59899b-d779-4678-acc8-1b06282647ba')\"\n",
              "            title=\"Convert this dataframe to an interactive table.\"\n",
              "            style=\"display:none;\">\n",
              "\n",
              "  <svg xmlns=\"http://www.w3.org/2000/svg\" height=\"24px\" viewBox=\"0 -960 960 960\">\n",
              "    <path d=\"M120-120v-720h720v720H120Zm60-500h600v-160H180v160Zm220 220h160v-160H400v160Zm0 220h160v-160H400v160ZM180-400h160v-160H180v160Zm440 0h160v-160H620v160ZM180-180h160v-160H180v160Zm440 0h160v-160H620v160Z\"/>\n",
              "  </svg>\n",
              "    </button>\n",
              "\n",
              "  <style>\n",
              "    .colab-df-container {\n",
              "      display:flex;\n",
              "      gap: 12px;\n",
              "    }\n",
              "\n",
              "    .colab-df-convert {\n",
              "      background-color: #E8F0FE;\n",
              "      border: none;\n",
              "      border-radius: 50%;\n",
              "      cursor: pointer;\n",
              "      display: none;\n",
              "      fill: #1967D2;\n",
              "      height: 32px;\n",
              "      padding: 0 0 0 0;\n",
              "      width: 32px;\n",
              "    }\n",
              "\n",
              "    .colab-df-convert:hover {\n",
              "      background-color: #E2EBFA;\n",
              "      box-shadow: 0px 1px 2px rgba(60, 64, 67, 0.3), 0px 1px 3px 1px rgba(60, 64, 67, 0.15);\n",
              "      fill: #174EA6;\n",
              "    }\n",
              "\n",
              "    .colab-df-buttons div {\n",
              "      margin-bottom: 4px;\n",
              "    }\n",
              "\n",
              "    [theme=dark] .colab-df-convert {\n",
              "      background-color: #3B4455;\n",
              "      fill: #D2E3FC;\n",
              "    }\n",
              "\n",
              "    [theme=dark] .colab-df-convert:hover {\n",
              "      background-color: #434B5C;\n",
              "      box-shadow: 0px 1px 3px 1px rgba(0, 0, 0, 0.15);\n",
              "      filter: drop-shadow(0px 1px 2px rgba(0, 0, 0, 0.3));\n",
              "      fill: #FFFFFF;\n",
              "    }\n",
              "  </style>\n",
              "\n",
              "    <script>\n",
              "      const buttonEl =\n",
              "        document.querySelector('#df-0b59899b-d779-4678-acc8-1b06282647ba button.colab-df-convert');\n",
              "      buttonEl.style.display =\n",
              "        google.colab.kernel.accessAllowed ? 'block' : 'none';\n",
              "\n",
              "      async function convertToInteractive(key) {\n",
              "        const element = document.querySelector('#df-0b59899b-d779-4678-acc8-1b06282647ba');\n",
              "        const dataTable =\n",
              "          await google.colab.kernel.invokeFunction('convertToInteractive',\n",
              "                                                    [key], {});\n",
              "        if (!dataTable) return;\n",
              "\n",
              "        const docLinkHtml = 'Like what you see? Visit the ' +\n",
              "          '<a target=\"_blank\" href=https://colab.research.google.com/notebooks/data_table.ipynb>data table notebook</a>'\n",
              "          + ' to learn more about interactive tables.';\n",
              "        element.innerHTML = '';\n",
              "        dataTable['output_type'] = 'display_data';\n",
              "        await google.colab.output.renderOutput(dataTable, element);\n",
              "        const docLink = document.createElement('div');\n",
              "        docLink.innerHTML = docLinkHtml;\n",
              "        element.appendChild(docLink);\n",
              "      }\n",
              "    </script>\n",
              "  </div>\n",
              "\n",
              "\n",
              "<div id=\"df-d2034049-4625-40d5-90a2-9c48f20c19d5\">\n",
              "  <button class=\"colab-df-quickchart\" onclick=\"quickchart('df-d2034049-4625-40d5-90a2-9c48f20c19d5')\"\n",
              "            title=\"Suggest charts.\"\n",
              "            style=\"display:none;\">\n",
              "\n",
              "<svg xmlns=\"http://www.w3.org/2000/svg\" height=\"24px\"viewBox=\"0 0 24 24\"\n",
              "     width=\"24px\">\n",
              "    <g>\n",
              "        <path d=\"M19 3H5c-1.1 0-2 .9-2 2v14c0 1.1.9 2 2 2h14c1.1 0 2-.9 2-2V5c0-1.1-.9-2-2-2zM9 17H7v-7h2v7zm4 0h-2V7h2v10zm4 0h-2v-4h2v4z\"/>\n",
              "    </g>\n",
              "</svg>\n",
              "  </button>\n",
              "\n",
              "<style>\n",
              "  .colab-df-quickchart {\n",
              "      --bg-color: #E8F0FE;\n",
              "      --fill-color: #1967D2;\n",
              "      --hover-bg-color: #E2EBFA;\n",
              "      --hover-fill-color: #174EA6;\n",
              "      --disabled-fill-color: #AAA;\n",
              "      --disabled-bg-color: #DDD;\n",
              "  }\n",
              "\n",
              "  [theme=dark] .colab-df-quickchart {\n",
              "      --bg-color: #3B4455;\n",
              "      --fill-color: #D2E3FC;\n",
              "      --hover-bg-color: #434B5C;\n",
              "      --hover-fill-color: #FFFFFF;\n",
              "      --disabled-bg-color: #3B4455;\n",
              "      --disabled-fill-color: #666;\n",
              "  }\n",
              "\n",
              "  .colab-df-quickchart {\n",
              "    background-color: var(--bg-color);\n",
              "    border: none;\n",
              "    border-radius: 50%;\n",
              "    cursor: pointer;\n",
              "    display: none;\n",
              "    fill: var(--fill-color);\n",
              "    height: 32px;\n",
              "    padding: 0;\n",
              "    width: 32px;\n",
              "  }\n",
              "\n",
              "  .colab-df-quickchart:hover {\n",
              "    background-color: var(--hover-bg-color);\n",
              "    box-shadow: 0 1px 2px rgba(60, 64, 67, 0.3), 0 1px 3px 1px rgba(60, 64, 67, 0.15);\n",
              "    fill: var(--button-hover-fill-color);\n",
              "  }\n",
              "\n",
              "  .colab-df-quickchart-complete:disabled,\n",
              "  .colab-df-quickchart-complete:disabled:hover {\n",
              "    background-color: var(--disabled-bg-color);\n",
              "    fill: var(--disabled-fill-color);\n",
              "    box-shadow: none;\n",
              "  }\n",
              "\n",
              "  .colab-df-spinner {\n",
              "    border: 2px solid var(--fill-color);\n",
              "    border-color: transparent;\n",
              "    border-bottom-color: var(--fill-color);\n",
              "    animation:\n",
              "      spin 1s steps(1) infinite;\n",
              "  }\n",
              "\n",
              "  @keyframes spin {\n",
              "    0% {\n",
              "      border-color: transparent;\n",
              "      border-bottom-color: var(--fill-color);\n",
              "      border-left-color: var(--fill-color);\n",
              "    }\n",
              "    20% {\n",
              "      border-color: transparent;\n",
              "      border-left-color: var(--fill-color);\n",
              "      border-top-color: var(--fill-color);\n",
              "    }\n",
              "    30% {\n",
              "      border-color: transparent;\n",
              "      border-left-color: var(--fill-color);\n",
              "      border-top-color: var(--fill-color);\n",
              "      border-right-color: var(--fill-color);\n",
              "    }\n",
              "    40% {\n",
              "      border-color: transparent;\n",
              "      border-right-color: var(--fill-color);\n",
              "      border-top-color: var(--fill-color);\n",
              "    }\n",
              "    60% {\n",
              "      border-color: transparent;\n",
              "      border-right-color: var(--fill-color);\n",
              "    }\n",
              "    80% {\n",
              "      border-color: transparent;\n",
              "      border-right-color: var(--fill-color);\n",
              "      border-bottom-color: var(--fill-color);\n",
              "    }\n",
              "    90% {\n",
              "      border-color: transparent;\n",
              "      border-bottom-color: var(--fill-color);\n",
              "    }\n",
              "  }\n",
              "</style>\n",
              "\n",
              "  <script>\n",
              "    async function quickchart(key) {\n",
              "      const quickchartButtonEl =\n",
              "        document.querySelector('#' + key + ' button');\n",
              "      quickchartButtonEl.disabled = true;  // To prevent multiple clicks.\n",
              "      quickchartButtonEl.classList.add('colab-df-spinner');\n",
              "      try {\n",
              "        const charts = await google.colab.kernel.invokeFunction(\n",
              "            'suggestCharts', [key], {});\n",
              "      } catch (error) {\n",
              "        console.error('Error during call to suggestCharts:', error);\n",
              "      }\n",
              "      quickchartButtonEl.classList.remove('colab-df-spinner');\n",
              "      quickchartButtonEl.classList.add('colab-df-quickchart-complete');\n",
              "    }\n",
              "    (() => {\n",
              "      let quickchartButtonEl =\n",
              "        document.querySelector('#df-d2034049-4625-40d5-90a2-9c48f20c19d5 button');\n",
              "      quickchartButtonEl.style.display =\n",
              "        google.colab.kernel.accessAllowed ? 'block' : 'none';\n",
              "    })();\n",
              "  </script>\n",
              "</div>\n",
              "    </div>\n",
              "  </div>\n"
            ]
          },
          "metadata": {},
          "execution_count": 3
        }
      ]
    },
    {
      "cell_type": "code",
      "source": [
        "#Checking for null values\n",
        "missing_values = df.isnull().sum()\n",
        "print(f\"Number of missing values by column:\\n{missing_values}\")"
      ],
      "metadata": {
        "colab": {
          "base_uri": "https://localhost:8080/"
        },
        "id": "DUO4wghzrW0p",
        "outputId": "e11b60e8-7684-4019-f178-8802d3139b94"
      },
      "execution_count": null,
      "outputs": [
        {
          "output_type": "stream",
          "name": "stdout",
          "text": [
            "Number of missing values by column:\n",
            "Nav/Raw.X[RightCheek]_mean      0\n",
            "Nav/Raw.X[RightCheek]_std       0\n",
            "Nav/Raw.X[RightCheek]_min_      0\n",
            "Nav/Raw.X[RightCheek]_max_      0\n",
            "Nav/Raw.X[RightCheek]_range_    0\n",
            "                               ..\n",
            "Prox/Raw[LeftCheek]_kurtosis    0\n",
            "Prox/Raw[LeftCheek]_skewness    0\n",
            "Prox/Raw[LeftCheek]_rms         0\n",
            "Label                           0\n",
            "FileId                          0\n",
            "Length: 164, dtype: int64\n"
          ]
        }
      ]
    },
    {
      "cell_type": "code",
      "source": [
        "df.fillna(0, inplace=True)"
      ],
      "metadata": {
        "id": "xQ8kKzNLz51I"
      },
      "execution_count": null,
      "outputs": []
    },
    {
      "cell_type": "code",
      "source": [
        "df.value_counts('Label')"
      ],
      "metadata": {
        "colab": {
          "base_uri": "https://localhost:8080/"
        },
        "id": "_XY6WUgis9aN",
        "outputId": "e923e826-8f98-46bf-e1fa-bace494d1681"
      },
      "execution_count": null,
      "outputs": [
        {
          "output_type": "execute_result",
          "data": {
            "text/plain": [
              "Label\n",
              "neutral          105928\n",
              "smile             19844\n",
              "frown             19637\n",
              "eyebrow_raise     19308\n",
              "squeezed_eyes     19057\n",
              "dtype: int64"
            ]
          },
          "metadata": {},
          "execution_count": 6
        }
      ]
    },
    {
      "cell_type": "code",
      "source": [
        "import random"
      ],
      "metadata": {
        "id": "j_5JFbAns_x-"
      },
      "execution_count": null,
      "outputs": []
    },
    {
      "cell_type": "code",
      "source": [
        "all_subjects=list(range(1,60))"
      ],
      "metadata": {
        "id": "VlA5hxdktKWJ"
      },
      "execution_count": null,
      "outputs": []
    },
    {
      "cell_type": "code",
      "source": [
        "random.shuffle(all_subjects)"
      ],
      "metadata": {
        "id": "1fTltCq0tO22"
      },
      "execution_count": null,
      "outputs": []
    },
    {
      "cell_type": "code",
      "source": [
        "# 40/10/9 train test validation split\n",
        "train_ids=all_subjects[:40]\n",
        "test_ids=all_subjects[40:50]\n",
        "validation_ids=all_subjects[50:59]"
      ],
      "metadata": {
        "id": "Vx0zcQuOtQai"
      },
      "execution_count": null,
      "outputs": []
    },
    {
      "cell_type": "code",
      "source": [
        "train_df=df[df['FileId'].isin(train_ids)]\n",
        "test_df=df[df['FileId'].isin(test_ids)]\n",
        "validation_df=df[df['FileId'].isin(validation_ids)]"
      ],
      "metadata": {
        "id": "TzD6SYA8taL0"
      },
      "execution_count": null,
      "outputs": []
    },
    {
      "cell_type": "code",
      "source": [
        "def undersample_neutral(df, factor):\n",
        "    df_neutral = df.loc[df.Label == 'neutral'].iloc[::factor, :]\n",
        "    df = df.loc[df.Label != 'neutral']\n",
        "    df = pd.concat([df, df_neutral], axis=0)\n",
        "    return df"
      ],
      "metadata": {
        "id": "ZAy02M5YuCq9"
      },
      "execution_count": null,
      "outputs": []
    },
    {
      "cell_type": "code",
      "source": [
        "#undersampling only the train set\n",
        "undersampled_train_df=pd.DataFrame()\n",
        "undersampled_train_df=undersample_neutral(train_df,5)"
      ],
      "metadata": {
        "id": "_AdCPOtIubHC"
      },
      "execution_count": null,
      "outputs": []
    },
    {
      "cell_type": "code",
      "source": [
        "undersampled_train_df.value_counts('Label')"
      ],
      "metadata": {
        "colab": {
          "base_uri": "https://localhost:8080/"
        },
        "id": "G-uXy7b1ueN-",
        "outputId": "f41a3452-865e-4d08-d961-44263048563d"
      },
      "execution_count": null,
      "outputs": [
        {
          "output_type": "execute_result",
          "data": {
            "text/plain": [
              "Label\n",
              "neutral          14882\n",
              "smile            13569\n",
              "frown            13530\n",
              "eyebrow_raise    13266\n",
              "squeezed_eyes    13178\n",
              "dtype: int64"
            ]
          },
          "metadata": {},
          "execution_count": 26
        }
      ]
    },
    {
      "cell_type": "code",
      "source": [
        "X_train=undersampled_train_df.drop(['Label','FileId'],axis=1)\n",
        "y_train=undersampled_train_df['Label']\n",
        "\n",
        "X_test=test_df.drop(['Label','FileId'],axis=1)\n",
        "y_test=test_df['Label']\n",
        "\n",
        "X_val=validation_df.drop(['Label','FileId'],axis=1)\n",
        "y_val=validation_df['Label']"
      ],
      "metadata": {
        "id": "lo6zPgJ-ugCI"
      },
      "execution_count": null,
      "outputs": []
    },
    {
      "cell_type": "code",
      "source": [
        "import joblib"
      ],
      "metadata": {
        "id": "W8rpRiNYujXf"
      },
      "execution_count": null,
      "outputs": []
    },
    {
      "cell_type": "code",
      "source": [
        "rf=joblib.load('/content/drive/MyDrive/rf_500.sav')"
      ],
      "metadata": {
        "id": "BoojJEk_wUCd"
      },
      "execution_count": null,
      "outputs": []
    },
    {
      "cell_type": "code",
      "source": [
        "result_rf = rf.score(X_test, y_test)\n",
        "print(result_rf)"
      ],
      "metadata": {
        "colab": {
          "base_uri": "https://localhost:8080/"
        },
        "id": "1oKwiN2KwY2N",
        "outputId": "bc5c2fa4-9ce0-43ed-9d90-f5bdf0db4b5f"
      },
      "execution_count": null,
      "outputs": [
        {
          "output_type": "stream",
          "name": "stdout",
          "text": [
            "0.8677709689774032\n"
          ]
        }
      ]
    },
    {
      "cell_type": "code",
      "source": [
        "xgb=joblib.load('/content/drive/MyDrive/xgb_500.sav')"
      ],
      "metadata": {
        "id": "X6KtPCjo7fEa"
      },
      "execution_count": null,
      "outputs": []
    },
    {
      "cell_type": "code",
      "source": [
        "df.columns = df.columns.str.replace('[', '(').str.replace(']', ')')"
      ],
      "metadata": {
        "id": "pSFk7xZo7t3g"
      },
      "execution_count": null,
      "outputs": []
    },
    {
      "cell_type": "code",
      "source": [
        "from sklearn.preprocessing import LabelEncoder\n",
        "le = LabelEncoder()\n",
        "y_train = le.fit_transform(y_train)\n",
        "y_test=le.fit_transform(y_test)"
      ],
      "metadata": {
        "id": "YrQDNgCs78FE"
      },
      "execution_count": null,
      "outputs": []
    },
    {
      "cell_type": "code",
      "source": [
        "result_xgb=xgb.score(X_test,y_test)\n",
        "print(result_xgb)"
      ],
      "metadata": {
        "colab": {
          "base_uri": "https://localhost:8080/"
        },
        "id": "4MK38jwn7mAp",
        "outputId": "e736e4e4-054b-4ed6-e1f1-d93186e5764a"
      },
      "execution_count": null,
      "outputs": [
        {
          "output_type": "stream",
          "name": "stdout",
          "text": [
            "0.8812715434699349\n"
          ]
        }
      ]
    },
    {
      "cell_type": "markdown",
      "source": [
        "# Training a model on a Task A + Task B dataset"
      ],
      "metadata": {
        "id": "XS14ypCe0mvQ"
      }
    },
    {
      "cell_type": "markdown",
      "source": [
        "First creating a joint dataframe, from the Task A and the Task B filtered, calculated features"
      ],
      "metadata": {
        "id": "B2enKu0T3tvM"
      }
    },
    {
      "cell_type": "code",
      "source": [
        "folders_taskA=glob.glob('/content/drive/MyDrive/filtered_500/*')"
      ],
      "metadata": {
        "id": "xCAjxmwlCk5W"
      },
      "execution_count": null,
      "outputs": []
    },
    {
      "cell_type": "code",
      "source": [
        "names_taskA=[]"
      ],
      "metadata": {
        "id": "dHDAMFZkD4FV"
      },
      "execution_count": null,
      "outputs": []
    },
    {
      "cell_type": "code",
      "source": [
        "for folder in folders_taskA:\n",
        "  parts=folder.split('/')\n",
        "  name=parts[-1]\n",
        "  names_taskA.append(name)"
      ],
      "metadata": {
        "id": "RPlg_jR7Dyty"
      },
      "execution_count": null,
      "outputs": []
    },
    {
      "cell_type": "code",
      "source": [
        "names_taskA.remove('result.csv')\n",
        "len(names_taskA)"
      ],
      "metadata": {
        "colab": {
          "base_uri": "https://localhost:8080/"
        },
        "id": "RbGzG5LrEFvh",
        "outputId": "cbbd59fc-7309-4b71-bbbf-13454484da68"
      },
      "execution_count": null,
      "outputs": [
        {
          "output_type": "execute_result",
          "data": {
            "text/plain": [
              "65"
            ]
          },
          "metadata": {},
          "execution_count": 46
        }
      ]
    },
    {
      "cell_type": "code",
      "source": [
        "calculated_taskA=glob.glob('/content/drive/MyDrive/filtered_500/*/calculated_features.csv')"
      ],
      "metadata": {
        "id": "sDiRMCmUQDju"
      },
      "execution_count": null,
      "outputs": []
    },
    {
      "cell_type": "code",
      "source": [
        "folders_taskB=glob.glob('/content/drive/MyDrive/features_taskb/*')"
      ],
      "metadata": {
        "id": "BZK67QtiEV0f"
      },
      "execution_count": null,
      "outputs": []
    },
    {
      "cell_type": "code",
      "source": [
        "names_taskB=[]"
      ],
      "metadata": {
        "id": "JB9C-_REEgU5"
      },
      "execution_count": null,
      "outputs": []
    },
    {
      "cell_type": "code",
      "source": [
        "for folder in folders_taskB:\n",
        "  parts=folder.split('/')\n",
        "  name=parts[-1]\n",
        "  names_taskB.append(name)"
      ],
      "metadata": {
        "id": "D9xODYYcEjw0"
      },
      "execution_count": null,
      "outputs": []
    },
    {
      "cell_type": "code",
      "source": [
        "names_taskB.remove('result.csv')\n",
        "len(names_taskB)"
      ],
      "metadata": {
        "colab": {
          "base_uri": "https://localhost:8080/"
        },
        "id": "wbX1rdChEr-H",
        "outputId": "30369a54-03b6-41f8-ad1d-37fae5090bc0"
      },
      "execution_count": null,
      "outputs": [
        {
          "output_type": "execute_result",
          "data": {
            "text/plain": [
              "59"
            ]
          },
          "metadata": {},
          "execution_count": 51
        }
      ]
    },
    {
      "cell_type": "code",
      "source": [
        "calculated_taskB=glob.glob('/content/drive/MyDrive/features_taskb/*/calculated_features.csv')"
      ],
      "metadata": {
        "id": "G8ZQQgzCxbS9"
      },
      "execution_count": null,
      "outputs": []
    },
    {
      "cell_type": "code",
      "source": [
        "#combining the names lists without duplicates\n",
        "names_combined=list(set(names_taskA + names_taskB))"
      ],
      "metadata": {
        "id": "FNPS-4m3FoqT"
      },
      "execution_count": null,
      "outputs": []
    },
    {
      "cell_type": "code",
      "source": [
        "names_combined.sort()"
      ],
      "metadata": {
        "id": "R7C9wol_1xaS"
      },
      "execution_count": null,
      "outputs": []
    },
    {
      "cell_type": "code",
      "source": [
        "len(names_combined)"
      ],
      "metadata": {
        "colab": {
          "base_uri": "https://localhost:8080/"
        },
        "id": "g8skaaZkFyrs",
        "outputId": "3203a268-5d91-4172-a2a5-80dabecf86bd"
      },
      "execution_count": null,
      "outputs": [
        {
          "output_type": "execute_result",
          "data": {
            "text/plain": [
              "68"
            ]
          },
          "metadata": {},
          "execution_count": 55
        }
      ]
    },
    {
      "cell_type": "code",
      "source": [
        "names_dict={}"
      ],
      "metadata": {
        "id": "9lpM4a5Q1cL_"
      },
      "execution_count": null,
      "outputs": []
    },
    {
      "cell_type": "code",
      "source": [
        "for index, name in enumerate(names_combined):\n",
        "  names_dict[name]=index"
      ],
      "metadata": {
        "id": "t9IpyhVJ1gVj"
      },
      "execution_count": null,
      "outputs": []
    },
    {
      "cell_type": "code",
      "source": [
        "result=pd.DataFrame()"
      ],
      "metadata": {
        "id": "OH-aD3p7H8BT"
      },
      "execution_count": null,
      "outputs": []
    },
    {
      "cell_type": "code",
      "source": [
        "#all of the calculated features from both tasks\n",
        "files=calculated_taskA+calculated_taskB"
      ],
      "metadata": {
        "id": "WlcO-7JPF9Sz"
      },
      "execution_count": null,
      "outputs": []
    },
    {
      "cell_type": "code",
      "source": [
        "for file in files:\n",
        "  df=pd.read_csv(file)\n",
        "  parts=file.split('/')\n",
        "  name=parts[-2]\n",
        "  df['FileId']=names_dict[name]\n",
        "  result=pd.concat([result,df],axis=0).reset_index(drop=True)"
      ],
      "metadata": {
        "id": "9cGfNLDQ0X64"
      },
      "execution_count": null,
      "outputs": []
    },
    {
      "cell_type": "code",
      "source": [
        "result"
      ],
      "metadata": {
        "colab": {
          "base_uri": "https://localhost:8080/",
          "height": 443
        },
        "id": "QTWzRIJh3E2U",
        "outputId": "becb7ea6-ebc9-4676-b43b-d886eb4ad9f3"
      },
      "execution_count": null,
      "outputs": [
        {
          "output_type": "execute_result",
          "data": {
            "text/plain": [
              "        Nav/Raw.X[RightCheek]_mean  Nav/Raw.X[RightCheek]_std  \\\n",
              "0                         1.192156                   0.077390   \n",
              "1                         1.153786                   0.132542   \n",
              "2                         1.058085                   0.163610   \n",
              "3                         0.996057                   0.134400   \n",
              "4                         0.940828                   0.105722   \n",
              "...                            ...                        ...   \n",
              "391130                    0.322789                   1.278603   \n",
              "391131                   -0.427204                   0.931623   \n",
              "391132                   -0.969824                   0.600849   \n",
              "391133                   -1.326958                   0.438037   \n",
              "391134                   -1.610744                   0.298555   \n",
              "\n",
              "        Nav/Raw.X[RightCheek]_min_  Nav/Raw.X[RightCheek]_max_  \\\n",
              "0                         1.060395                    1.323887   \n",
              "1                         0.861667                    1.323887   \n",
              "2                         0.794020                    1.289034   \n",
              "3                         0.794020                    1.213684   \n",
              "4                         0.794020                    1.144590   \n",
              "...                            ...                         ...   \n",
              "391130                   -1.339922                    2.406812   \n",
              "391131                   -1.469874                    1.840298   \n",
              "391132                   -1.725323                    0.265983   \n",
              "391133                   -1.920038                   -0.361707   \n",
              "391134                   -2.027371                   -1.001887   \n",
              "\n",
              "        Nav/Raw.X[RightCheek]_range_  Nav/Raw.X[RightCheek]_iqr  \\\n",
              "0                           0.263492                   0.113806   \n",
              "1                           0.462221                   0.142413   \n",
              "2                           0.495014                   0.295620   \n",
              "3                           0.419664                   0.253627   \n",
              "4                           0.350570                   0.120380   \n",
              "...                              ...                        ...   \n",
              "391130                      3.746734                   2.097422   \n",
              "391131                      3.310172                   1.375048   \n",
              "391132                      1.991306                   0.972562   \n",
              "391133                      1.558330                   0.596092   \n",
              "391134                      1.025483                   0.469556   \n",
              "\n",
              "        Nav/Raw.X[RightCheek]_kurtosis  Nav/Raw.X[RightCheek]_skewness  \\\n",
              "0                            -1.152773                        0.210310   \n",
              "1                            -0.437263                       -0.738305   \n",
              "2                            -1.371567                       -0.339156   \n",
              "3                            -1.411802                        0.067908   \n",
              "4                            -0.610440                        0.650154   \n",
              "...                                ...                             ...   \n",
              "391130                       -1.195207                        0.458554   \n",
              "391131                       -0.280373                        0.798368   \n",
              "391132                       -1.010949                        0.570205   \n",
              "391133                       -0.446095                        0.760662   \n",
              "391134                       -0.989069                        0.225702   \n",
              "\n",
              "        Nav/Raw.X[RightCheek]_rms  Nav/Raw.Y[RightCheek]_mean  ...  \\\n",
              "0                        1.194665                   -0.300051  ...   \n",
              "1                        1.161374                   -0.195903  ...   \n",
              "2                        1.070660                   -0.213663  ...   \n",
              "3                        1.005084                   -0.283364  ...   \n",
              "4                        0.946750                   -0.466014  ...   \n",
              "...                           ...                         ...  ...   \n",
              "391130                   1.318719                   -0.817331  ...   \n",
              "391131                   1.024902                    0.111488  ...   \n",
              "391132                   1.140867                    0.860179  ...   \n",
              "391133                   1.397389                    1.406912  ...   \n",
              "391134                   1.638179                    1.783350  ...   \n",
              "\n",
              "        Prox/Raw[LeftCheek]_std  Prox/Raw[LeftCheek]_min_  \\\n",
              "0                      0.081483                  3.108834   \n",
              "1                      0.089348                  3.108834   \n",
              "2                      0.128636                  2.917786   \n",
              "3                      0.204233                  2.765285   \n",
              "4                      0.247919                  2.730801   \n",
              "...                         ...                       ...   \n",
              "391130                 0.068826                 -1.008502   \n",
              "391131                 0.075694                 -1.010354   \n",
              "391132                 0.075760                 -1.010354   \n",
              "391133                 0.104801                 -1.010354   \n",
              "391134                 0.117697                 -1.010354   \n",
              "\n",
              "        Prox/Raw[LeftCheek]_max_  Prox/Raw[LeftCheek]_range_  \\\n",
              "0                       3.349678                    0.240845   \n",
              "1                       3.349678                    0.240845   \n",
              "2                       3.349678                    0.431892   \n",
              "3                       3.349678                    0.584393   \n",
              "4                       3.349678                    0.618877   \n",
              "...                          ...                         ...   \n",
              "391130                 -0.797106                    0.211397   \n",
              "391131                 -0.797106                    0.213248   \n",
              "391132                 -0.772441                    0.237913   \n",
              "391133                 -0.707294                    0.303060   \n",
              "391134                 -0.707294                    0.303060   \n",
              "\n",
              "        Prox/Raw[LeftCheek]_iqr  Prox/Raw[LeftCheek]_kurtosis  \\\n",
              "0                      0.061842                     -0.587867   \n",
              "1                      0.190429                     -1.587034   \n",
              "2                      0.205156                     -0.842719   \n",
              "3                      0.379452                     -1.170319   \n",
              "4                      0.552836                     -1.702184   \n",
              "...                         ...                           ...   \n",
              "391130                 0.134027                     -1.546083   \n",
              "391131                 0.154635                     -1.600995   \n",
              "391132                 0.151289                     -1.487383   \n",
              "391133                 0.174660                     -1.239743   \n",
              "391134                 0.246009                     -1.763081   \n",
              "\n",
              "        Prox/Raw[LeftCheek]_skewness  Prox/Raw[LeftCheek]_rms    Label  FileId  \n",
              "0                           0.969505                 3.196034  neutral       0  \n",
              "1                           0.329223                 3.218957  neutral       0  \n",
              "2                          -0.297132                 3.186437  neutral       0  \n",
              "3                          -0.465728                 3.124522  neutral       0  \n",
              "4                           0.088022                 3.044532  neutral       0  \n",
              "...                              ...                      ...      ...     ...  \n",
              "391130                     -0.013367                 0.900467  neutral      67  \n",
              "391131                     -0.060785                 0.907341  neutral      67  \n",
              "391132                      0.024200                 0.908693  neutral      67  \n",
              "391133                      0.426012                 0.890154  neutral      67  \n",
              "391134                     -0.018613                 0.867454  neutral      67  \n",
              "\n",
              "[391135 rows x 164 columns]"
            ],
            "text/html": [
              "\n",
              "  <div id=\"df-efe1b31c-2a05-44b4-a9ea-a4f54b449028\" class=\"colab-df-container\">\n",
              "    <div>\n",
              "<style scoped>\n",
              "    .dataframe tbody tr th:only-of-type {\n",
              "        vertical-align: middle;\n",
              "    }\n",
              "\n",
              "    .dataframe tbody tr th {\n",
              "        vertical-align: top;\n",
              "    }\n",
              "\n",
              "    .dataframe thead th {\n",
              "        text-align: right;\n",
              "    }\n",
              "</style>\n",
              "<table border=\"1\" class=\"dataframe\">\n",
              "  <thead>\n",
              "    <tr style=\"text-align: right;\">\n",
              "      <th></th>\n",
              "      <th>Nav/Raw.X[RightCheek]_mean</th>\n",
              "      <th>Nav/Raw.X[RightCheek]_std</th>\n",
              "      <th>Nav/Raw.X[RightCheek]_min_</th>\n",
              "      <th>Nav/Raw.X[RightCheek]_max_</th>\n",
              "      <th>Nav/Raw.X[RightCheek]_range_</th>\n",
              "      <th>Nav/Raw.X[RightCheek]_iqr</th>\n",
              "      <th>Nav/Raw.X[RightCheek]_kurtosis</th>\n",
              "      <th>Nav/Raw.X[RightCheek]_skewness</th>\n",
              "      <th>Nav/Raw.X[RightCheek]_rms</th>\n",
              "      <th>Nav/Raw.Y[RightCheek]_mean</th>\n",
              "      <th>...</th>\n",
              "      <th>Prox/Raw[LeftCheek]_std</th>\n",
              "      <th>Prox/Raw[LeftCheek]_min_</th>\n",
              "      <th>Prox/Raw[LeftCheek]_max_</th>\n",
              "      <th>Prox/Raw[LeftCheek]_range_</th>\n",
              "      <th>Prox/Raw[LeftCheek]_iqr</th>\n",
              "      <th>Prox/Raw[LeftCheek]_kurtosis</th>\n",
              "      <th>Prox/Raw[LeftCheek]_skewness</th>\n",
              "      <th>Prox/Raw[LeftCheek]_rms</th>\n",
              "      <th>Label</th>\n",
              "      <th>FileId</th>\n",
              "    </tr>\n",
              "  </thead>\n",
              "  <tbody>\n",
              "    <tr>\n",
              "      <th>0</th>\n",
              "      <td>1.192156</td>\n",
              "      <td>0.077390</td>\n",
              "      <td>1.060395</td>\n",
              "      <td>1.323887</td>\n",
              "      <td>0.263492</td>\n",
              "      <td>0.113806</td>\n",
              "      <td>-1.152773</td>\n",
              "      <td>0.210310</td>\n",
              "      <td>1.194665</td>\n",
              "      <td>-0.300051</td>\n",
              "      <td>...</td>\n",
              "      <td>0.081483</td>\n",
              "      <td>3.108834</td>\n",
              "      <td>3.349678</td>\n",
              "      <td>0.240845</td>\n",
              "      <td>0.061842</td>\n",
              "      <td>-0.587867</td>\n",
              "      <td>0.969505</td>\n",
              "      <td>3.196034</td>\n",
              "      <td>neutral</td>\n",
              "      <td>0</td>\n",
              "    </tr>\n",
              "    <tr>\n",
              "      <th>1</th>\n",
              "      <td>1.153786</td>\n",
              "      <td>0.132542</td>\n",
              "      <td>0.861667</td>\n",
              "      <td>1.323887</td>\n",
              "      <td>0.462221</td>\n",
              "      <td>0.142413</td>\n",
              "      <td>-0.437263</td>\n",
              "      <td>-0.738305</td>\n",
              "      <td>1.161374</td>\n",
              "      <td>-0.195903</td>\n",
              "      <td>...</td>\n",
              "      <td>0.089348</td>\n",
              "      <td>3.108834</td>\n",
              "      <td>3.349678</td>\n",
              "      <td>0.240845</td>\n",
              "      <td>0.190429</td>\n",
              "      <td>-1.587034</td>\n",
              "      <td>0.329223</td>\n",
              "      <td>3.218957</td>\n",
              "      <td>neutral</td>\n",
              "      <td>0</td>\n",
              "    </tr>\n",
              "    <tr>\n",
              "      <th>2</th>\n",
              "      <td>1.058085</td>\n",
              "      <td>0.163610</td>\n",
              "      <td>0.794020</td>\n",
              "      <td>1.289034</td>\n",
              "      <td>0.495014</td>\n",
              "      <td>0.295620</td>\n",
              "      <td>-1.371567</td>\n",
              "      <td>-0.339156</td>\n",
              "      <td>1.070660</td>\n",
              "      <td>-0.213663</td>\n",
              "      <td>...</td>\n",
              "      <td>0.128636</td>\n",
              "      <td>2.917786</td>\n",
              "      <td>3.349678</td>\n",
              "      <td>0.431892</td>\n",
              "      <td>0.205156</td>\n",
              "      <td>-0.842719</td>\n",
              "      <td>-0.297132</td>\n",
              "      <td>3.186437</td>\n",
              "      <td>neutral</td>\n",
              "      <td>0</td>\n",
              "    </tr>\n",
              "    <tr>\n",
              "      <th>3</th>\n",
              "      <td>0.996057</td>\n",
              "      <td>0.134400</td>\n",
              "      <td>0.794020</td>\n",
              "      <td>1.213684</td>\n",
              "      <td>0.419664</td>\n",
              "      <td>0.253627</td>\n",
              "      <td>-1.411802</td>\n",
              "      <td>0.067908</td>\n",
              "      <td>1.005084</td>\n",
              "      <td>-0.283364</td>\n",
              "      <td>...</td>\n",
              "      <td>0.204233</td>\n",
              "      <td>2.765285</td>\n",
              "      <td>3.349678</td>\n",
              "      <td>0.584393</td>\n",
              "      <td>0.379452</td>\n",
              "      <td>-1.170319</td>\n",
              "      <td>-0.465728</td>\n",
              "      <td>3.124522</td>\n",
              "      <td>neutral</td>\n",
              "      <td>0</td>\n",
              "    </tr>\n",
              "    <tr>\n",
              "      <th>4</th>\n",
              "      <td>0.940828</td>\n",
              "      <td>0.105722</td>\n",
              "      <td>0.794020</td>\n",
              "      <td>1.144590</td>\n",
              "      <td>0.350570</td>\n",
              "      <td>0.120380</td>\n",
              "      <td>-0.610440</td>\n",
              "      <td>0.650154</td>\n",
              "      <td>0.946750</td>\n",
              "      <td>-0.466014</td>\n",
              "      <td>...</td>\n",
              "      <td>0.247919</td>\n",
              "      <td>2.730801</td>\n",
              "      <td>3.349678</td>\n",
              "      <td>0.618877</td>\n",
              "      <td>0.552836</td>\n",
              "      <td>-1.702184</td>\n",
              "      <td>0.088022</td>\n",
              "      <td>3.044532</td>\n",
              "      <td>neutral</td>\n",
              "      <td>0</td>\n",
              "    </tr>\n",
              "    <tr>\n",
              "      <th>...</th>\n",
              "      <td>...</td>\n",
              "      <td>...</td>\n",
              "      <td>...</td>\n",
              "      <td>...</td>\n",
              "      <td>...</td>\n",
              "      <td>...</td>\n",
              "      <td>...</td>\n",
              "      <td>...</td>\n",
              "      <td>...</td>\n",
              "      <td>...</td>\n",
              "      <td>...</td>\n",
              "      <td>...</td>\n",
              "      <td>...</td>\n",
              "      <td>...</td>\n",
              "      <td>...</td>\n",
              "      <td>...</td>\n",
              "      <td>...</td>\n",
              "      <td>...</td>\n",
              "      <td>...</td>\n",
              "      <td>...</td>\n",
              "      <td>...</td>\n",
              "    </tr>\n",
              "    <tr>\n",
              "      <th>391130</th>\n",
              "      <td>0.322789</td>\n",
              "      <td>1.278603</td>\n",
              "      <td>-1.339922</td>\n",
              "      <td>2.406812</td>\n",
              "      <td>3.746734</td>\n",
              "      <td>2.097422</td>\n",
              "      <td>-1.195207</td>\n",
              "      <td>0.458554</td>\n",
              "      <td>1.318719</td>\n",
              "      <td>-0.817331</td>\n",
              "      <td>...</td>\n",
              "      <td>0.068826</td>\n",
              "      <td>-1.008502</td>\n",
              "      <td>-0.797106</td>\n",
              "      <td>0.211397</td>\n",
              "      <td>0.134027</td>\n",
              "      <td>-1.546083</td>\n",
              "      <td>-0.013367</td>\n",
              "      <td>0.900467</td>\n",
              "      <td>neutral</td>\n",
              "      <td>67</td>\n",
              "    </tr>\n",
              "    <tr>\n",
              "      <th>391131</th>\n",
              "      <td>-0.427204</td>\n",
              "      <td>0.931623</td>\n",
              "      <td>-1.469874</td>\n",
              "      <td>1.840298</td>\n",
              "      <td>3.310172</td>\n",
              "      <td>1.375048</td>\n",
              "      <td>-0.280373</td>\n",
              "      <td>0.798368</td>\n",
              "      <td>1.024902</td>\n",
              "      <td>0.111488</td>\n",
              "      <td>...</td>\n",
              "      <td>0.075694</td>\n",
              "      <td>-1.010354</td>\n",
              "      <td>-0.797106</td>\n",
              "      <td>0.213248</td>\n",
              "      <td>0.154635</td>\n",
              "      <td>-1.600995</td>\n",
              "      <td>-0.060785</td>\n",
              "      <td>0.907341</td>\n",
              "      <td>neutral</td>\n",
              "      <td>67</td>\n",
              "    </tr>\n",
              "    <tr>\n",
              "      <th>391132</th>\n",
              "      <td>-0.969824</td>\n",
              "      <td>0.600849</td>\n",
              "      <td>-1.725323</td>\n",
              "      <td>0.265983</td>\n",
              "      <td>1.991306</td>\n",
              "      <td>0.972562</td>\n",
              "      <td>-1.010949</td>\n",
              "      <td>0.570205</td>\n",
              "      <td>1.140867</td>\n",
              "      <td>0.860179</td>\n",
              "      <td>...</td>\n",
              "      <td>0.075760</td>\n",
              "      <td>-1.010354</td>\n",
              "      <td>-0.772441</td>\n",
              "      <td>0.237913</td>\n",
              "      <td>0.151289</td>\n",
              "      <td>-1.487383</td>\n",
              "      <td>0.024200</td>\n",
              "      <td>0.908693</td>\n",
              "      <td>neutral</td>\n",
              "      <td>67</td>\n",
              "    </tr>\n",
              "    <tr>\n",
              "      <th>391133</th>\n",
              "      <td>-1.326958</td>\n",
              "      <td>0.438037</td>\n",
              "      <td>-1.920038</td>\n",
              "      <td>-0.361707</td>\n",
              "      <td>1.558330</td>\n",
              "      <td>0.596092</td>\n",
              "      <td>-0.446095</td>\n",
              "      <td>0.760662</td>\n",
              "      <td>1.397389</td>\n",
              "      <td>1.406912</td>\n",
              "      <td>...</td>\n",
              "      <td>0.104801</td>\n",
              "      <td>-1.010354</td>\n",
              "      <td>-0.707294</td>\n",
              "      <td>0.303060</td>\n",
              "      <td>0.174660</td>\n",
              "      <td>-1.239743</td>\n",
              "      <td>0.426012</td>\n",
              "      <td>0.890154</td>\n",
              "      <td>neutral</td>\n",
              "      <td>67</td>\n",
              "    </tr>\n",
              "    <tr>\n",
              "      <th>391134</th>\n",
              "      <td>-1.610744</td>\n",
              "      <td>0.298555</td>\n",
              "      <td>-2.027371</td>\n",
              "      <td>-1.001887</td>\n",
              "      <td>1.025483</td>\n",
              "      <td>0.469556</td>\n",
              "      <td>-0.989069</td>\n",
              "      <td>0.225702</td>\n",
              "      <td>1.638179</td>\n",
              "      <td>1.783350</td>\n",
              "      <td>...</td>\n",
              "      <td>0.117697</td>\n",
              "      <td>-1.010354</td>\n",
              "      <td>-0.707294</td>\n",
              "      <td>0.303060</td>\n",
              "      <td>0.246009</td>\n",
              "      <td>-1.763081</td>\n",
              "      <td>-0.018613</td>\n",
              "      <td>0.867454</td>\n",
              "      <td>neutral</td>\n",
              "      <td>67</td>\n",
              "    </tr>\n",
              "  </tbody>\n",
              "</table>\n",
              "<p>391135 rows × 164 columns</p>\n",
              "</div>\n",
              "    <div class=\"colab-df-buttons\">\n",
              "\n",
              "  <div class=\"colab-df-container\">\n",
              "    <button class=\"colab-df-convert\" onclick=\"convertToInteractive('df-efe1b31c-2a05-44b4-a9ea-a4f54b449028')\"\n",
              "            title=\"Convert this dataframe to an interactive table.\"\n",
              "            style=\"display:none;\">\n",
              "\n",
              "  <svg xmlns=\"http://www.w3.org/2000/svg\" height=\"24px\" viewBox=\"0 -960 960 960\">\n",
              "    <path d=\"M120-120v-720h720v720H120Zm60-500h600v-160H180v160Zm220 220h160v-160H400v160Zm0 220h160v-160H400v160ZM180-400h160v-160H180v160Zm440 0h160v-160H620v160ZM180-180h160v-160H180v160Zm440 0h160v-160H620v160Z\"/>\n",
              "  </svg>\n",
              "    </button>\n",
              "\n",
              "  <style>\n",
              "    .colab-df-container {\n",
              "      display:flex;\n",
              "      gap: 12px;\n",
              "    }\n",
              "\n",
              "    .colab-df-convert {\n",
              "      background-color: #E8F0FE;\n",
              "      border: none;\n",
              "      border-radius: 50%;\n",
              "      cursor: pointer;\n",
              "      display: none;\n",
              "      fill: #1967D2;\n",
              "      height: 32px;\n",
              "      padding: 0 0 0 0;\n",
              "      width: 32px;\n",
              "    }\n",
              "\n",
              "    .colab-df-convert:hover {\n",
              "      background-color: #E2EBFA;\n",
              "      box-shadow: 0px 1px 2px rgba(60, 64, 67, 0.3), 0px 1px 3px 1px rgba(60, 64, 67, 0.15);\n",
              "      fill: #174EA6;\n",
              "    }\n",
              "\n",
              "    .colab-df-buttons div {\n",
              "      margin-bottom: 4px;\n",
              "    }\n",
              "\n",
              "    [theme=dark] .colab-df-convert {\n",
              "      background-color: #3B4455;\n",
              "      fill: #D2E3FC;\n",
              "    }\n",
              "\n",
              "    [theme=dark] .colab-df-convert:hover {\n",
              "      background-color: #434B5C;\n",
              "      box-shadow: 0px 1px 3px 1px rgba(0, 0, 0, 0.15);\n",
              "      filter: drop-shadow(0px 1px 2px rgba(0, 0, 0, 0.3));\n",
              "      fill: #FFFFFF;\n",
              "    }\n",
              "  </style>\n",
              "\n",
              "    <script>\n",
              "      const buttonEl =\n",
              "        document.querySelector('#df-efe1b31c-2a05-44b4-a9ea-a4f54b449028 button.colab-df-convert');\n",
              "      buttonEl.style.display =\n",
              "        google.colab.kernel.accessAllowed ? 'block' : 'none';\n",
              "\n",
              "      async function convertToInteractive(key) {\n",
              "        const element = document.querySelector('#df-efe1b31c-2a05-44b4-a9ea-a4f54b449028');\n",
              "        const dataTable =\n",
              "          await google.colab.kernel.invokeFunction('convertToInteractive',\n",
              "                                                    [key], {});\n",
              "        if (!dataTable) return;\n",
              "\n",
              "        const docLinkHtml = 'Like what you see? Visit the ' +\n",
              "          '<a target=\"_blank\" href=https://colab.research.google.com/notebooks/data_table.ipynb>data table notebook</a>'\n",
              "          + ' to learn more about interactive tables.';\n",
              "        element.innerHTML = '';\n",
              "        dataTable['output_type'] = 'display_data';\n",
              "        await google.colab.output.renderOutput(dataTable, element);\n",
              "        const docLink = document.createElement('div');\n",
              "        docLink.innerHTML = docLinkHtml;\n",
              "        element.appendChild(docLink);\n",
              "      }\n",
              "    </script>\n",
              "  </div>\n",
              "\n",
              "\n",
              "<div id=\"df-00287bb5-6133-4fcd-a428-8d41a154b0bf\">\n",
              "  <button class=\"colab-df-quickchart\" onclick=\"quickchart('df-00287bb5-6133-4fcd-a428-8d41a154b0bf')\"\n",
              "            title=\"Suggest charts.\"\n",
              "            style=\"display:none;\">\n",
              "\n",
              "<svg xmlns=\"http://www.w3.org/2000/svg\" height=\"24px\"viewBox=\"0 0 24 24\"\n",
              "     width=\"24px\">\n",
              "    <g>\n",
              "        <path d=\"M19 3H5c-1.1 0-2 .9-2 2v14c0 1.1.9 2 2 2h14c1.1 0 2-.9 2-2V5c0-1.1-.9-2-2-2zM9 17H7v-7h2v7zm4 0h-2V7h2v10zm4 0h-2v-4h2v4z\"/>\n",
              "    </g>\n",
              "</svg>\n",
              "  </button>\n",
              "\n",
              "<style>\n",
              "  .colab-df-quickchart {\n",
              "      --bg-color: #E8F0FE;\n",
              "      --fill-color: #1967D2;\n",
              "      --hover-bg-color: #E2EBFA;\n",
              "      --hover-fill-color: #174EA6;\n",
              "      --disabled-fill-color: #AAA;\n",
              "      --disabled-bg-color: #DDD;\n",
              "  }\n",
              "\n",
              "  [theme=dark] .colab-df-quickchart {\n",
              "      --bg-color: #3B4455;\n",
              "      --fill-color: #D2E3FC;\n",
              "      --hover-bg-color: #434B5C;\n",
              "      --hover-fill-color: #FFFFFF;\n",
              "      --disabled-bg-color: #3B4455;\n",
              "      --disabled-fill-color: #666;\n",
              "  }\n",
              "\n",
              "  .colab-df-quickchart {\n",
              "    background-color: var(--bg-color);\n",
              "    border: none;\n",
              "    border-radius: 50%;\n",
              "    cursor: pointer;\n",
              "    display: none;\n",
              "    fill: var(--fill-color);\n",
              "    height: 32px;\n",
              "    padding: 0;\n",
              "    width: 32px;\n",
              "  }\n",
              "\n",
              "  .colab-df-quickchart:hover {\n",
              "    background-color: var(--hover-bg-color);\n",
              "    box-shadow: 0 1px 2px rgba(60, 64, 67, 0.3), 0 1px 3px 1px rgba(60, 64, 67, 0.15);\n",
              "    fill: var(--button-hover-fill-color);\n",
              "  }\n",
              "\n",
              "  .colab-df-quickchart-complete:disabled,\n",
              "  .colab-df-quickchart-complete:disabled:hover {\n",
              "    background-color: var(--disabled-bg-color);\n",
              "    fill: var(--disabled-fill-color);\n",
              "    box-shadow: none;\n",
              "  }\n",
              "\n",
              "  .colab-df-spinner {\n",
              "    border: 2px solid var(--fill-color);\n",
              "    border-color: transparent;\n",
              "    border-bottom-color: var(--fill-color);\n",
              "    animation:\n",
              "      spin 1s steps(1) infinite;\n",
              "  }\n",
              "\n",
              "  @keyframes spin {\n",
              "    0% {\n",
              "      border-color: transparent;\n",
              "      border-bottom-color: var(--fill-color);\n",
              "      border-left-color: var(--fill-color);\n",
              "    }\n",
              "    20% {\n",
              "      border-color: transparent;\n",
              "      border-left-color: var(--fill-color);\n",
              "      border-top-color: var(--fill-color);\n",
              "    }\n",
              "    30% {\n",
              "      border-color: transparent;\n",
              "      border-left-color: var(--fill-color);\n",
              "      border-top-color: var(--fill-color);\n",
              "      border-right-color: var(--fill-color);\n",
              "    }\n",
              "    40% {\n",
              "      border-color: transparent;\n",
              "      border-right-color: var(--fill-color);\n",
              "      border-top-color: var(--fill-color);\n",
              "    }\n",
              "    60% {\n",
              "      border-color: transparent;\n",
              "      border-right-color: var(--fill-color);\n",
              "    }\n",
              "    80% {\n",
              "      border-color: transparent;\n",
              "      border-right-color: var(--fill-color);\n",
              "      border-bottom-color: var(--fill-color);\n",
              "    }\n",
              "    90% {\n",
              "      border-color: transparent;\n",
              "      border-bottom-color: var(--fill-color);\n",
              "    }\n",
              "  }\n",
              "</style>\n",
              "\n",
              "  <script>\n",
              "    async function quickchart(key) {\n",
              "      const quickchartButtonEl =\n",
              "        document.querySelector('#' + key + ' button');\n",
              "      quickchartButtonEl.disabled = true;  // To prevent multiple clicks.\n",
              "      quickchartButtonEl.classList.add('colab-df-spinner');\n",
              "      try {\n",
              "        const charts = await google.colab.kernel.invokeFunction(\n",
              "            'suggestCharts', [key], {});\n",
              "      } catch (error) {\n",
              "        console.error('Error during call to suggestCharts:', error);\n",
              "      }\n",
              "      quickchartButtonEl.classList.remove('colab-df-spinner');\n",
              "      quickchartButtonEl.classList.add('colab-df-quickchart-complete');\n",
              "    }\n",
              "    (() => {\n",
              "      let quickchartButtonEl =\n",
              "        document.querySelector('#df-00287bb5-6133-4fcd-a428-8d41a154b0bf button');\n",
              "      quickchartButtonEl.style.display =\n",
              "        google.colab.kernel.accessAllowed ? 'block' : 'none';\n",
              "    })();\n",
              "  </script>\n",
              "</div>\n",
              "    </div>\n",
              "  </div>\n"
            ]
          },
          "metadata": {},
          "execution_count": 73
        }
      ]
    },
    {
      "cell_type": "code",
      "source": [
        "result.to_csv('/content/drive/MyDrive/result_taskab.csv')"
      ],
      "metadata": {
        "id": "lvdHXgwV3ZVm"
      },
      "execution_count": null,
      "outputs": []
    },
    {
      "cell_type": "code",
      "source": [
        "result=pd.read_csv('/content/drive/MyDrive/result_taskab.csv',index_col=[0])"
      ],
      "metadata": {
        "id": "K5KWvNas4hoU"
      },
      "execution_count": null,
      "outputs": []
    },
    {
      "cell_type": "code",
      "source": [
        "result"
      ],
      "metadata": {
        "colab": {
          "base_uri": "https://localhost:8080/",
          "height": 443
        },
        "id": "zr-2YDIfS3VV",
        "outputId": "3094e7f3-3c92-4d27-b7dd-da30f6b2f1d0"
      },
      "execution_count": null,
      "outputs": [
        {
          "output_type": "execute_result",
          "data": {
            "text/plain": [
              "        Nav/Raw.X[RightCheek]_mean  Nav/Raw.X[RightCheek]_std  \\\n",
              "0                         1.192156                   0.077390   \n",
              "1                         1.153786                   0.132542   \n",
              "2                         1.058085                   0.163610   \n",
              "3                         0.996057                   0.134400   \n",
              "4                         0.940828                   0.105722   \n",
              "...                            ...                        ...   \n",
              "391130                    0.322789                   1.278603   \n",
              "391131                   -0.427204                   0.931623   \n",
              "391132                   -0.969824                   0.600849   \n",
              "391133                   -1.326958                   0.438037   \n",
              "391134                   -1.610744                   0.298555   \n",
              "\n",
              "        Nav/Raw.X[RightCheek]_min_  Nav/Raw.X[RightCheek]_max_  \\\n",
              "0                         1.060395                    1.323887   \n",
              "1                         0.861667                    1.323887   \n",
              "2                         0.794020                    1.289034   \n",
              "3                         0.794020                    1.213684   \n",
              "4                         0.794020                    1.144590   \n",
              "...                            ...                         ...   \n",
              "391130                   -1.339922                    2.406812   \n",
              "391131                   -1.469874                    1.840298   \n",
              "391132                   -1.725323                    0.265983   \n",
              "391133                   -1.920038                   -0.361707   \n",
              "391134                   -2.027371                   -1.001887   \n",
              "\n",
              "        Nav/Raw.X[RightCheek]_range_  Nav/Raw.X[RightCheek]_iqr  \\\n",
              "0                           0.263492                   0.113806   \n",
              "1                           0.462221                   0.142413   \n",
              "2                           0.495014                   0.295620   \n",
              "3                           0.419664                   0.253627   \n",
              "4                           0.350570                   0.120380   \n",
              "...                              ...                        ...   \n",
              "391130                      3.746734                   2.097422   \n",
              "391131                      3.310172                   1.375048   \n",
              "391132                      1.991306                   0.972562   \n",
              "391133                      1.558330                   0.596092   \n",
              "391134                      1.025483                   0.469556   \n",
              "\n",
              "        Nav/Raw.X[RightCheek]_kurtosis  Nav/Raw.X[RightCheek]_skewness  \\\n",
              "0                            -1.152773                        0.210310   \n",
              "1                            -0.437263                       -0.738305   \n",
              "2                            -1.371567                       -0.339156   \n",
              "3                            -1.411802                        0.067908   \n",
              "4                            -0.610440                        0.650154   \n",
              "...                                ...                             ...   \n",
              "391130                       -1.195207                        0.458554   \n",
              "391131                       -0.280373                        0.798368   \n",
              "391132                       -1.010949                        0.570205   \n",
              "391133                       -0.446095                        0.760662   \n",
              "391134                       -0.989069                        0.225702   \n",
              "\n",
              "        Nav/Raw.X[RightCheek]_rms  Nav/Raw.Y[RightCheek]_mean  ...  \\\n",
              "0                        1.194665                   -0.300051  ...   \n",
              "1                        1.161374                   -0.195903  ...   \n",
              "2                        1.070660                   -0.213663  ...   \n",
              "3                        1.005084                   -0.283364  ...   \n",
              "4                        0.946750                   -0.466014  ...   \n",
              "...                           ...                         ...  ...   \n",
              "391130                   1.318719                   -0.817331  ...   \n",
              "391131                   1.024902                    0.111488  ...   \n",
              "391132                   1.140867                    0.860179  ...   \n",
              "391133                   1.397389                    1.406912  ...   \n",
              "391134                   1.638179                    1.783350  ...   \n",
              "\n",
              "        Prox/Raw[LeftCheek]_std  Prox/Raw[LeftCheek]_min_  \\\n",
              "0                      0.081483                  3.108834   \n",
              "1                      0.089348                  3.108834   \n",
              "2                      0.128636                  2.917786   \n",
              "3                      0.204233                  2.765285   \n",
              "4                      0.247919                  2.730801   \n",
              "...                         ...                       ...   \n",
              "391130                 0.068826                 -1.008502   \n",
              "391131                 0.075694                 -1.010354   \n",
              "391132                 0.075760                 -1.010354   \n",
              "391133                 0.104801                 -1.010354   \n",
              "391134                 0.117697                 -1.010354   \n",
              "\n",
              "        Prox/Raw[LeftCheek]_max_  Prox/Raw[LeftCheek]_range_  \\\n",
              "0                       3.349678                    0.240845   \n",
              "1                       3.349678                    0.240845   \n",
              "2                       3.349678                    0.431892   \n",
              "3                       3.349678                    0.584393   \n",
              "4                       3.349678                    0.618877   \n",
              "...                          ...                         ...   \n",
              "391130                 -0.797106                    0.211397   \n",
              "391131                 -0.797106                    0.213248   \n",
              "391132                 -0.772441                    0.237913   \n",
              "391133                 -0.707294                    0.303060   \n",
              "391134                 -0.707294                    0.303060   \n",
              "\n",
              "        Prox/Raw[LeftCheek]_iqr  Prox/Raw[LeftCheek]_kurtosis  \\\n",
              "0                      0.061842                     -0.587867   \n",
              "1                      0.190429                     -1.587034   \n",
              "2                      0.205156                     -0.842719   \n",
              "3                      0.379452                     -1.170319   \n",
              "4                      0.552836                     -1.702184   \n",
              "...                         ...                           ...   \n",
              "391130                 0.134027                     -1.546083   \n",
              "391131                 0.154635                     -1.600995   \n",
              "391132                 0.151289                     -1.487383   \n",
              "391133                 0.174660                     -1.239743   \n",
              "391134                 0.246009                     -1.763081   \n",
              "\n",
              "        Prox/Raw[LeftCheek]_skewness  Prox/Raw[LeftCheek]_rms    Label  FileId  \n",
              "0                           0.969505                 3.196034  neutral       0  \n",
              "1                           0.329223                 3.218957  neutral       0  \n",
              "2                          -0.297132                 3.186437  neutral       0  \n",
              "3                          -0.465728                 3.124522  neutral       0  \n",
              "4                           0.088022                 3.044532  neutral       0  \n",
              "...                              ...                      ...      ...     ...  \n",
              "391130                     -0.013367                 0.900467  neutral      67  \n",
              "391131                     -0.060785                 0.907341  neutral      67  \n",
              "391132                      0.024200                 0.908693  neutral      67  \n",
              "391133                      0.426012                 0.890154  neutral      67  \n",
              "391134                     -0.018613                 0.867454  neutral      67  \n",
              "\n",
              "[391135 rows x 164 columns]"
            ],
            "text/html": [
              "\n",
              "  <div id=\"df-33a4c224-da7b-4094-96bd-f6e07531c3c7\" class=\"colab-df-container\">\n",
              "    <div>\n",
              "<style scoped>\n",
              "    .dataframe tbody tr th:only-of-type {\n",
              "        vertical-align: middle;\n",
              "    }\n",
              "\n",
              "    .dataframe tbody tr th {\n",
              "        vertical-align: top;\n",
              "    }\n",
              "\n",
              "    .dataframe thead th {\n",
              "        text-align: right;\n",
              "    }\n",
              "</style>\n",
              "<table border=\"1\" class=\"dataframe\">\n",
              "  <thead>\n",
              "    <tr style=\"text-align: right;\">\n",
              "      <th></th>\n",
              "      <th>Nav/Raw.X[RightCheek]_mean</th>\n",
              "      <th>Nav/Raw.X[RightCheek]_std</th>\n",
              "      <th>Nav/Raw.X[RightCheek]_min_</th>\n",
              "      <th>Nav/Raw.X[RightCheek]_max_</th>\n",
              "      <th>Nav/Raw.X[RightCheek]_range_</th>\n",
              "      <th>Nav/Raw.X[RightCheek]_iqr</th>\n",
              "      <th>Nav/Raw.X[RightCheek]_kurtosis</th>\n",
              "      <th>Nav/Raw.X[RightCheek]_skewness</th>\n",
              "      <th>Nav/Raw.X[RightCheek]_rms</th>\n",
              "      <th>Nav/Raw.Y[RightCheek]_mean</th>\n",
              "      <th>...</th>\n",
              "      <th>Prox/Raw[LeftCheek]_std</th>\n",
              "      <th>Prox/Raw[LeftCheek]_min_</th>\n",
              "      <th>Prox/Raw[LeftCheek]_max_</th>\n",
              "      <th>Prox/Raw[LeftCheek]_range_</th>\n",
              "      <th>Prox/Raw[LeftCheek]_iqr</th>\n",
              "      <th>Prox/Raw[LeftCheek]_kurtosis</th>\n",
              "      <th>Prox/Raw[LeftCheek]_skewness</th>\n",
              "      <th>Prox/Raw[LeftCheek]_rms</th>\n",
              "      <th>Label</th>\n",
              "      <th>FileId</th>\n",
              "    </tr>\n",
              "  </thead>\n",
              "  <tbody>\n",
              "    <tr>\n",
              "      <th>0</th>\n",
              "      <td>1.192156</td>\n",
              "      <td>0.077390</td>\n",
              "      <td>1.060395</td>\n",
              "      <td>1.323887</td>\n",
              "      <td>0.263492</td>\n",
              "      <td>0.113806</td>\n",
              "      <td>-1.152773</td>\n",
              "      <td>0.210310</td>\n",
              "      <td>1.194665</td>\n",
              "      <td>-0.300051</td>\n",
              "      <td>...</td>\n",
              "      <td>0.081483</td>\n",
              "      <td>3.108834</td>\n",
              "      <td>3.349678</td>\n",
              "      <td>0.240845</td>\n",
              "      <td>0.061842</td>\n",
              "      <td>-0.587867</td>\n",
              "      <td>0.969505</td>\n",
              "      <td>3.196034</td>\n",
              "      <td>neutral</td>\n",
              "      <td>0</td>\n",
              "    </tr>\n",
              "    <tr>\n",
              "      <th>1</th>\n",
              "      <td>1.153786</td>\n",
              "      <td>0.132542</td>\n",
              "      <td>0.861667</td>\n",
              "      <td>1.323887</td>\n",
              "      <td>0.462221</td>\n",
              "      <td>0.142413</td>\n",
              "      <td>-0.437263</td>\n",
              "      <td>-0.738305</td>\n",
              "      <td>1.161374</td>\n",
              "      <td>-0.195903</td>\n",
              "      <td>...</td>\n",
              "      <td>0.089348</td>\n",
              "      <td>3.108834</td>\n",
              "      <td>3.349678</td>\n",
              "      <td>0.240845</td>\n",
              "      <td>0.190429</td>\n",
              "      <td>-1.587034</td>\n",
              "      <td>0.329223</td>\n",
              "      <td>3.218957</td>\n",
              "      <td>neutral</td>\n",
              "      <td>0</td>\n",
              "    </tr>\n",
              "    <tr>\n",
              "      <th>2</th>\n",
              "      <td>1.058085</td>\n",
              "      <td>0.163610</td>\n",
              "      <td>0.794020</td>\n",
              "      <td>1.289034</td>\n",
              "      <td>0.495014</td>\n",
              "      <td>0.295620</td>\n",
              "      <td>-1.371567</td>\n",
              "      <td>-0.339156</td>\n",
              "      <td>1.070660</td>\n",
              "      <td>-0.213663</td>\n",
              "      <td>...</td>\n",
              "      <td>0.128636</td>\n",
              "      <td>2.917786</td>\n",
              "      <td>3.349678</td>\n",
              "      <td>0.431892</td>\n",
              "      <td>0.205156</td>\n",
              "      <td>-0.842719</td>\n",
              "      <td>-0.297132</td>\n",
              "      <td>3.186437</td>\n",
              "      <td>neutral</td>\n",
              "      <td>0</td>\n",
              "    </tr>\n",
              "    <tr>\n",
              "      <th>3</th>\n",
              "      <td>0.996057</td>\n",
              "      <td>0.134400</td>\n",
              "      <td>0.794020</td>\n",
              "      <td>1.213684</td>\n",
              "      <td>0.419664</td>\n",
              "      <td>0.253627</td>\n",
              "      <td>-1.411802</td>\n",
              "      <td>0.067908</td>\n",
              "      <td>1.005084</td>\n",
              "      <td>-0.283364</td>\n",
              "      <td>...</td>\n",
              "      <td>0.204233</td>\n",
              "      <td>2.765285</td>\n",
              "      <td>3.349678</td>\n",
              "      <td>0.584393</td>\n",
              "      <td>0.379452</td>\n",
              "      <td>-1.170319</td>\n",
              "      <td>-0.465728</td>\n",
              "      <td>3.124522</td>\n",
              "      <td>neutral</td>\n",
              "      <td>0</td>\n",
              "    </tr>\n",
              "    <tr>\n",
              "      <th>4</th>\n",
              "      <td>0.940828</td>\n",
              "      <td>0.105722</td>\n",
              "      <td>0.794020</td>\n",
              "      <td>1.144590</td>\n",
              "      <td>0.350570</td>\n",
              "      <td>0.120380</td>\n",
              "      <td>-0.610440</td>\n",
              "      <td>0.650154</td>\n",
              "      <td>0.946750</td>\n",
              "      <td>-0.466014</td>\n",
              "      <td>...</td>\n",
              "      <td>0.247919</td>\n",
              "      <td>2.730801</td>\n",
              "      <td>3.349678</td>\n",
              "      <td>0.618877</td>\n",
              "      <td>0.552836</td>\n",
              "      <td>-1.702184</td>\n",
              "      <td>0.088022</td>\n",
              "      <td>3.044532</td>\n",
              "      <td>neutral</td>\n",
              "      <td>0</td>\n",
              "    </tr>\n",
              "    <tr>\n",
              "      <th>...</th>\n",
              "      <td>...</td>\n",
              "      <td>...</td>\n",
              "      <td>...</td>\n",
              "      <td>...</td>\n",
              "      <td>...</td>\n",
              "      <td>...</td>\n",
              "      <td>...</td>\n",
              "      <td>...</td>\n",
              "      <td>...</td>\n",
              "      <td>...</td>\n",
              "      <td>...</td>\n",
              "      <td>...</td>\n",
              "      <td>...</td>\n",
              "      <td>...</td>\n",
              "      <td>...</td>\n",
              "      <td>...</td>\n",
              "      <td>...</td>\n",
              "      <td>...</td>\n",
              "      <td>...</td>\n",
              "      <td>...</td>\n",
              "      <td>...</td>\n",
              "    </tr>\n",
              "    <tr>\n",
              "      <th>391130</th>\n",
              "      <td>0.322789</td>\n",
              "      <td>1.278603</td>\n",
              "      <td>-1.339922</td>\n",
              "      <td>2.406812</td>\n",
              "      <td>3.746734</td>\n",
              "      <td>2.097422</td>\n",
              "      <td>-1.195207</td>\n",
              "      <td>0.458554</td>\n",
              "      <td>1.318719</td>\n",
              "      <td>-0.817331</td>\n",
              "      <td>...</td>\n",
              "      <td>0.068826</td>\n",
              "      <td>-1.008502</td>\n",
              "      <td>-0.797106</td>\n",
              "      <td>0.211397</td>\n",
              "      <td>0.134027</td>\n",
              "      <td>-1.546083</td>\n",
              "      <td>-0.013367</td>\n",
              "      <td>0.900467</td>\n",
              "      <td>neutral</td>\n",
              "      <td>67</td>\n",
              "    </tr>\n",
              "    <tr>\n",
              "      <th>391131</th>\n",
              "      <td>-0.427204</td>\n",
              "      <td>0.931623</td>\n",
              "      <td>-1.469874</td>\n",
              "      <td>1.840298</td>\n",
              "      <td>3.310172</td>\n",
              "      <td>1.375048</td>\n",
              "      <td>-0.280373</td>\n",
              "      <td>0.798368</td>\n",
              "      <td>1.024902</td>\n",
              "      <td>0.111488</td>\n",
              "      <td>...</td>\n",
              "      <td>0.075694</td>\n",
              "      <td>-1.010354</td>\n",
              "      <td>-0.797106</td>\n",
              "      <td>0.213248</td>\n",
              "      <td>0.154635</td>\n",
              "      <td>-1.600995</td>\n",
              "      <td>-0.060785</td>\n",
              "      <td>0.907341</td>\n",
              "      <td>neutral</td>\n",
              "      <td>67</td>\n",
              "    </tr>\n",
              "    <tr>\n",
              "      <th>391132</th>\n",
              "      <td>-0.969824</td>\n",
              "      <td>0.600849</td>\n",
              "      <td>-1.725323</td>\n",
              "      <td>0.265983</td>\n",
              "      <td>1.991306</td>\n",
              "      <td>0.972562</td>\n",
              "      <td>-1.010949</td>\n",
              "      <td>0.570205</td>\n",
              "      <td>1.140867</td>\n",
              "      <td>0.860179</td>\n",
              "      <td>...</td>\n",
              "      <td>0.075760</td>\n",
              "      <td>-1.010354</td>\n",
              "      <td>-0.772441</td>\n",
              "      <td>0.237913</td>\n",
              "      <td>0.151289</td>\n",
              "      <td>-1.487383</td>\n",
              "      <td>0.024200</td>\n",
              "      <td>0.908693</td>\n",
              "      <td>neutral</td>\n",
              "      <td>67</td>\n",
              "    </tr>\n",
              "    <tr>\n",
              "      <th>391133</th>\n",
              "      <td>-1.326958</td>\n",
              "      <td>0.438037</td>\n",
              "      <td>-1.920038</td>\n",
              "      <td>-0.361707</td>\n",
              "      <td>1.558330</td>\n",
              "      <td>0.596092</td>\n",
              "      <td>-0.446095</td>\n",
              "      <td>0.760662</td>\n",
              "      <td>1.397389</td>\n",
              "      <td>1.406912</td>\n",
              "      <td>...</td>\n",
              "      <td>0.104801</td>\n",
              "      <td>-1.010354</td>\n",
              "      <td>-0.707294</td>\n",
              "      <td>0.303060</td>\n",
              "      <td>0.174660</td>\n",
              "      <td>-1.239743</td>\n",
              "      <td>0.426012</td>\n",
              "      <td>0.890154</td>\n",
              "      <td>neutral</td>\n",
              "      <td>67</td>\n",
              "    </tr>\n",
              "    <tr>\n",
              "      <th>391134</th>\n",
              "      <td>-1.610744</td>\n",
              "      <td>0.298555</td>\n",
              "      <td>-2.027371</td>\n",
              "      <td>-1.001887</td>\n",
              "      <td>1.025483</td>\n",
              "      <td>0.469556</td>\n",
              "      <td>-0.989069</td>\n",
              "      <td>0.225702</td>\n",
              "      <td>1.638179</td>\n",
              "      <td>1.783350</td>\n",
              "      <td>...</td>\n",
              "      <td>0.117697</td>\n",
              "      <td>-1.010354</td>\n",
              "      <td>-0.707294</td>\n",
              "      <td>0.303060</td>\n",
              "      <td>0.246009</td>\n",
              "      <td>-1.763081</td>\n",
              "      <td>-0.018613</td>\n",
              "      <td>0.867454</td>\n",
              "      <td>neutral</td>\n",
              "      <td>67</td>\n",
              "    </tr>\n",
              "  </tbody>\n",
              "</table>\n",
              "<p>391135 rows × 164 columns</p>\n",
              "</div>\n",
              "    <div class=\"colab-df-buttons\">\n",
              "\n",
              "  <div class=\"colab-df-container\">\n",
              "    <button class=\"colab-df-convert\" onclick=\"convertToInteractive('df-33a4c224-da7b-4094-96bd-f6e07531c3c7')\"\n",
              "            title=\"Convert this dataframe to an interactive table.\"\n",
              "            style=\"display:none;\">\n",
              "\n",
              "  <svg xmlns=\"http://www.w3.org/2000/svg\" height=\"24px\" viewBox=\"0 -960 960 960\">\n",
              "    <path d=\"M120-120v-720h720v720H120Zm60-500h600v-160H180v160Zm220 220h160v-160H400v160Zm0 220h160v-160H400v160ZM180-400h160v-160H180v160Zm440 0h160v-160H620v160ZM180-180h160v-160H180v160Zm440 0h160v-160H620v160Z\"/>\n",
              "  </svg>\n",
              "    </button>\n",
              "\n",
              "  <style>\n",
              "    .colab-df-container {\n",
              "      display:flex;\n",
              "      gap: 12px;\n",
              "    }\n",
              "\n",
              "    .colab-df-convert {\n",
              "      background-color: #E8F0FE;\n",
              "      border: none;\n",
              "      border-radius: 50%;\n",
              "      cursor: pointer;\n",
              "      display: none;\n",
              "      fill: #1967D2;\n",
              "      height: 32px;\n",
              "      padding: 0 0 0 0;\n",
              "      width: 32px;\n",
              "    }\n",
              "\n",
              "    .colab-df-convert:hover {\n",
              "      background-color: #E2EBFA;\n",
              "      box-shadow: 0px 1px 2px rgba(60, 64, 67, 0.3), 0px 1px 3px 1px rgba(60, 64, 67, 0.15);\n",
              "      fill: #174EA6;\n",
              "    }\n",
              "\n",
              "    .colab-df-buttons div {\n",
              "      margin-bottom: 4px;\n",
              "    }\n",
              "\n",
              "    [theme=dark] .colab-df-convert {\n",
              "      background-color: #3B4455;\n",
              "      fill: #D2E3FC;\n",
              "    }\n",
              "\n",
              "    [theme=dark] .colab-df-convert:hover {\n",
              "      background-color: #434B5C;\n",
              "      box-shadow: 0px 1px 3px 1px rgba(0, 0, 0, 0.15);\n",
              "      filter: drop-shadow(0px 1px 2px rgba(0, 0, 0, 0.3));\n",
              "      fill: #FFFFFF;\n",
              "    }\n",
              "  </style>\n",
              "\n",
              "    <script>\n",
              "      const buttonEl =\n",
              "        document.querySelector('#df-33a4c224-da7b-4094-96bd-f6e07531c3c7 button.colab-df-convert');\n",
              "      buttonEl.style.display =\n",
              "        google.colab.kernel.accessAllowed ? 'block' : 'none';\n",
              "\n",
              "      async function convertToInteractive(key) {\n",
              "        const element = document.querySelector('#df-33a4c224-da7b-4094-96bd-f6e07531c3c7');\n",
              "        const dataTable =\n",
              "          await google.colab.kernel.invokeFunction('convertToInteractive',\n",
              "                                                    [key], {});\n",
              "        if (!dataTable) return;\n",
              "\n",
              "        const docLinkHtml = 'Like what you see? Visit the ' +\n",
              "          '<a target=\"_blank\" href=https://colab.research.google.com/notebooks/data_table.ipynb>data table notebook</a>'\n",
              "          + ' to learn more about interactive tables.';\n",
              "        element.innerHTML = '';\n",
              "        dataTable['output_type'] = 'display_data';\n",
              "        await google.colab.output.renderOutput(dataTable, element);\n",
              "        const docLink = document.createElement('div');\n",
              "        docLink.innerHTML = docLinkHtml;\n",
              "        element.appendChild(docLink);\n",
              "      }\n",
              "    </script>\n",
              "  </div>\n",
              "\n",
              "\n",
              "<div id=\"df-6189b818-1f3b-4303-9829-d447a4775169\">\n",
              "  <button class=\"colab-df-quickchart\" onclick=\"quickchart('df-6189b818-1f3b-4303-9829-d447a4775169')\"\n",
              "            title=\"Suggest charts.\"\n",
              "            style=\"display:none;\">\n",
              "\n",
              "<svg xmlns=\"http://www.w3.org/2000/svg\" height=\"24px\"viewBox=\"0 0 24 24\"\n",
              "     width=\"24px\">\n",
              "    <g>\n",
              "        <path d=\"M19 3H5c-1.1 0-2 .9-2 2v14c0 1.1.9 2 2 2h14c1.1 0 2-.9 2-2V5c0-1.1-.9-2-2-2zM9 17H7v-7h2v7zm4 0h-2V7h2v10zm4 0h-2v-4h2v4z\"/>\n",
              "    </g>\n",
              "</svg>\n",
              "  </button>\n",
              "\n",
              "<style>\n",
              "  .colab-df-quickchart {\n",
              "      --bg-color: #E8F0FE;\n",
              "      --fill-color: #1967D2;\n",
              "      --hover-bg-color: #E2EBFA;\n",
              "      --hover-fill-color: #174EA6;\n",
              "      --disabled-fill-color: #AAA;\n",
              "      --disabled-bg-color: #DDD;\n",
              "  }\n",
              "\n",
              "  [theme=dark] .colab-df-quickchart {\n",
              "      --bg-color: #3B4455;\n",
              "      --fill-color: #D2E3FC;\n",
              "      --hover-bg-color: #434B5C;\n",
              "      --hover-fill-color: #FFFFFF;\n",
              "      --disabled-bg-color: #3B4455;\n",
              "      --disabled-fill-color: #666;\n",
              "  }\n",
              "\n",
              "  .colab-df-quickchart {\n",
              "    background-color: var(--bg-color);\n",
              "    border: none;\n",
              "    border-radius: 50%;\n",
              "    cursor: pointer;\n",
              "    display: none;\n",
              "    fill: var(--fill-color);\n",
              "    height: 32px;\n",
              "    padding: 0;\n",
              "    width: 32px;\n",
              "  }\n",
              "\n",
              "  .colab-df-quickchart:hover {\n",
              "    background-color: var(--hover-bg-color);\n",
              "    box-shadow: 0 1px 2px rgba(60, 64, 67, 0.3), 0 1px 3px 1px rgba(60, 64, 67, 0.15);\n",
              "    fill: var(--button-hover-fill-color);\n",
              "  }\n",
              "\n",
              "  .colab-df-quickchart-complete:disabled,\n",
              "  .colab-df-quickchart-complete:disabled:hover {\n",
              "    background-color: var(--disabled-bg-color);\n",
              "    fill: var(--disabled-fill-color);\n",
              "    box-shadow: none;\n",
              "  }\n",
              "\n",
              "  .colab-df-spinner {\n",
              "    border: 2px solid var(--fill-color);\n",
              "    border-color: transparent;\n",
              "    border-bottom-color: var(--fill-color);\n",
              "    animation:\n",
              "      spin 1s steps(1) infinite;\n",
              "  }\n",
              "\n",
              "  @keyframes spin {\n",
              "    0% {\n",
              "      border-color: transparent;\n",
              "      border-bottom-color: var(--fill-color);\n",
              "      border-left-color: var(--fill-color);\n",
              "    }\n",
              "    20% {\n",
              "      border-color: transparent;\n",
              "      border-left-color: var(--fill-color);\n",
              "      border-top-color: var(--fill-color);\n",
              "    }\n",
              "    30% {\n",
              "      border-color: transparent;\n",
              "      border-left-color: var(--fill-color);\n",
              "      border-top-color: var(--fill-color);\n",
              "      border-right-color: var(--fill-color);\n",
              "    }\n",
              "    40% {\n",
              "      border-color: transparent;\n",
              "      border-right-color: var(--fill-color);\n",
              "      border-top-color: var(--fill-color);\n",
              "    }\n",
              "    60% {\n",
              "      border-color: transparent;\n",
              "      border-right-color: var(--fill-color);\n",
              "    }\n",
              "    80% {\n",
              "      border-color: transparent;\n",
              "      border-right-color: var(--fill-color);\n",
              "      border-bottom-color: var(--fill-color);\n",
              "    }\n",
              "    90% {\n",
              "      border-color: transparent;\n",
              "      border-bottom-color: var(--fill-color);\n",
              "    }\n",
              "  }\n",
              "</style>\n",
              "\n",
              "  <script>\n",
              "    async function quickchart(key) {\n",
              "      const quickchartButtonEl =\n",
              "        document.querySelector('#' + key + ' button');\n",
              "      quickchartButtonEl.disabled = true;  // To prevent multiple clicks.\n",
              "      quickchartButtonEl.classList.add('colab-df-spinner');\n",
              "      try {\n",
              "        const charts = await google.colab.kernel.invokeFunction(\n",
              "            'suggestCharts', [key], {});\n",
              "      } catch (error) {\n",
              "        console.error('Error during call to suggestCharts:', error);\n",
              "      }\n",
              "      quickchartButtonEl.classList.remove('colab-df-spinner');\n",
              "      quickchartButtonEl.classList.add('colab-df-quickchart-complete');\n",
              "    }\n",
              "    (() => {\n",
              "      let quickchartButtonEl =\n",
              "        document.querySelector('#df-6189b818-1f3b-4303-9829-d447a4775169 button');\n",
              "      quickchartButtonEl.style.display =\n",
              "        google.colab.kernel.accessAllowed ? 'block' : 'none';\n",
              "    })();\n",
              "  </script>\n",
              "</div>\n",
              "    </div>\n",
              "  </div>\n"
            ]
          },
          "metadata": {},
          "execution_count": 62
        }
      ]
    },
    {
      "cell_type": "code",
      "source": [
        "#Checking for null values\n",
        "missing_values = result.isnull().sum()\n",
        "print(f\"Number of missing values by column:\\n{missing_values}\")"
      ],
      "metadata": {
        "colab": {
          "base_uri": "https://localhost:8080/"
        },
        "id": "rSV0UtWYTdlU",
        "outputId": "9d453bc4-25cb-420d-9960-52720487c323"
      },
      "execution_count": null,
      "outputs": [
        {
          "output_type": "stream",
          "name": "stdout",
          "text": [
            "Number of missing values by column:\n",
            "Nav/Raw.X[RightCheek]_mean      0\n",
            "Nav/Raw.X[RightCheek]_std       0\n",
            "Nav/Raw.X[RightCheek]_min_      0\n",
            "Nav/Raw.X[RightCheek]_max_      0\n",
            "Nav/Raw.X[RightCheek]_range_    0\n",
            "                               ..\n",
            "Prox/Raw[LeftCheek]_kurtosis    0\n",
            "Prox/Raw[LeftCheek]_skewness    0\n",
            "Prox/Raw[LeftCheek]_rms         0\n",
            "Label                           0\n",
            "FileId                          0\n",
            "Length: 164, dtype: int64\n"
          ]
        }
      ]
    },
    {
      "cell_type": "code",
      "source": [
        "result.fillna(0,inplace=True)"
      ],
      "metadata": {
        "id": "2M2b4xaiVZrC"
      },
      "execution_count": null,
      "outputs": []
    },
    {
      "cell_type": "code",
      "source": [
        "result.value_counts('Label')"
      ],
      "metadata": {
        "colab": {
          "base_uri": "https://localhost:8080/"
        },
        "id": "cSFiEI4RVf1l",
        "outputId": "59b3abfc-601b-4af2-abc4-a0c4b0290e10"
      },
      "execution_count": null,
      "outputs": [
        {
          "output_type": "execute_result",
          "data": {
            "text/plain": [
              "Label\n",
              "neutral          237313\n",
              "smile             39304\n",
              "frown             38820\n",
              "eyebrow_raise     38181\n",
              "squeezed_eyes     37517\n",
              "dtype: int64"
            ]
          },
          "metadata": {},
          "execution_count": 65
        }
      ]
    },
    {
      "cell_type": "code",
      "source": [
        "all_subjects=list(range(1,69))"
      ],
      "metadata": {
        "id": "X5PqAohQVlID"
      },
      "execution_count": null,
      "outputs": []
    },
    {
      "cell_type": "code",
      "source": [
        "random.shuffle(all_subjects)"
      ],
      "metadata": {
        "id": "nOmDjhZNVru8"
      },
      "execution_count": null,
      "outputs": []
    },
    {
      "cell_type": "code",
      "source": [
        "result.columns = result.columns.str.replace('[', '(').str.replace(']', ')')"
      ],
      "metadata": {
        "id": "92m8WOb7IxYf"
      },
      "execution_count": null,
      "outputs": []
    },
    {
      "cell_type": "code",
      "source": [
        "# 48/10/10 train test validation split\n",
        "train_ids=all_subjects[:48]\n",
        "test_ids=all_subjects[48:58]\n",
        "validation_ids=all_subjects[58:68]"
      ],
      "metadata": {
        "id": "y2tVfsH3VvBO"
      },
      "execution_count": null,
      "outputs": []
    },
    {
      "cell_type": "code",
      "source": [
        "train_df=result[result['FileId'].isin(train_ids)]\n",
        "test_df=result[result['FileId'].isin(test_ids)]\n",
        "validation_df=result[result['FileId'].isin(validation_ids)]"
      ],
      "metadata": {
        "id": "CTi4dfdgWUfY"
      },
      "execution_count": null,
      "outputs": []
    },
    {
      "cell_type": "code",
      "source": [
        "#undersampling only the train set\n",
        "undersampled_train_df=pd.DataFrame()\n",
        "undersampled_train_df=undersample_neutral(train_df,6)"
      ],
      "metadata": {
        "id": "0i8-2h2qWfbO"
      },
      "execution_count": null,
      "outputs": []
    },
    {
      "cell_type": "code",
      "source": [
        "undersampled_train_df.value_counts('Label')"
      ],
      "metadata": {
        "colab": {
          "base_uri": "https://localhost:8080/"
        },
        "id": "YHut1EXcWqzy",
        "outputId": "8def3f0f-a9c8-4ca8-9260-b35b2e284869"
      },
      "execution_count": null,
      "outputs": [
        {
          "output_type": "execute_result",
          "data": {
            "text/plain": [
              "Label\n",
              "neutral          26137\n",
              "smile            25902\n",
              "frown            25666\n",
              "eyebrow_raise    25306\n",
              "squeezed_eyes    24629\n",
              "dtype: int64"
            ]
          },
          "metadata": {},
          "execution_count": 98
        }
      ]
    },
    {
      "cell_type": "code",
      "source": [
        "X_train=undersampled_train_df.drop(['Label','FileId'],axis=1)\n",
        "y_train=undersampled_train_df['Label']\n",
        "\n",
        "X_test=test_df.drop(['Label','FileId'],axis=1)\n",
        "y_test=test_df['Label']\n",
        "\n",
        "X_val=validation_df.drop(['Label','FileId'],axis=1)\n",
        "y_val=validation_df['Label']"
      ],
      "metadata": {
        "id": "7ynmOrwVWv4j"
      },
      "execution_count": null,
      "outputs": []
    },
    {
      "cell_type": "code",
      "source": [
        "from sklearn.dummy import DummyClassifier\n",
        "from sklearn.ensemble import RandomForestClassifier\n",
        "from sklearn.svm import SVC\n",
        "from xgboost import XGBClassifier\n",
        "from sklearn.neighbors import KNeighborsClassifier\n",
        "from sklearn.metrics import f1_score, ConfusionMatrixDisplay, confusion_matrix"
      ],
      "metadata": {
        "id": "md6WW3I9W5Ik"
      },
      "execution_count": null,
      "outputs": []
    },
    {
      "cell_type": "code",
      "source": [
        "dummy = DummyClassifier(strategy='uniform')\n",
        "dummy.fit(X_train, y_train)\n",
        "\n",
        "print(\"Score on test: {}\".format(dummy.score(X_test, y_test)))"
      ],
      "metadata": {
        "colab": {
          "base_uri": "https://localhost:8080/"
        },
        "id": "awzhJUVKXIr_",
        "outputId": "f3998983-7204-412c-9097-02f21b2bea36"
      },
      "execution_count": null,
      "outputs": [
        {
          "output_type": "stream",
          "name": "stdout",
          "text": [
            "Score on test: 0.2003974070816639\n"
          ]
        }
      ]
    },
    {
      "cell_type": "code",
      "source": [
        "cm=confusion_matrix(y_test, dummy.predict(X_test),labels=dummy.classes_)\n",
        "disp=ConfusionMatrixDisplay(confusion_matrix=cm,\n",
        "                            display_labels=dummy.classes_)\n",
        "disp.plot()\n",
        "plt.show()"
      ],
      "metadata": {
        "colab": {
          "base_uri": "https://localhost:8080/",
          "height": 450
        },
        "id": "S_Horc7jXMaT",
        "outputId": "3b3ac04a-6c26-4c8c-a24d-413e2620b44c"
      },
      "execution_count": null,
      "outputs": [
        {
          "output_type": "display_data",
          "data": {
            "text/plain": [
              "<Figure size 640x480 with 2 Axes>"
            ],
            "image/png": "[encoded data removed]"
          },
          "metadata": {}
        }
      ]
    },
    {
      "cell_type": "code",
      "source": [
        "rf=RandomForestClassifier()\n",
        "rf.fit(X_train, y_train)\n",
        "\n",
        "print(\"Score on test: {}\".format(rf.score(X_test, y_test)))"
      ],
      "metadata": {
        "colab": {
          "base_uri": "https://localhost:8080/"
        },
        "id": "MN6ZmDhKXSQz",
        "outputId": "8ec0a958-7842-4a65-fec3-dbc3f7f0a921"
      },
      "execution_count": null,
      "outputs": [
        {
          "output_type": "stream",
          "name": "stdout",
          "text": [
            "Score on test: 0.8952554112554113\n"
          ]
        }
      ]
    },
    {
      "cell_type": "code",
      "source": [
        "from sklearn.metrics import classification_report"
      ],
      "metadata": {
        "id": "VTDxW8c6XVBX"
      },
      "execution_count": null,
      "outputs": []
    },
    {
      "cell_type": "code",
      "source": [
        "y_pred=rf.predict(X_test)"
      ],
      "metadata": {
        "id": "fxQMAzT23Epo"
      },
      "execution_count": null,
      "outputs": []
    },
    {
      "cell_type": "code",
      "source": [
        "print(classification_report(y_test,y_pred, target_names=result['Label'].unique()))"
      ],
      "metadata": {
        "colab": {
          "base_uri": "https://localhost:8080/"
        },
        "id": "CKqm4Ay25zMW",
        "outputId": "93a78944-bc56-4b18-f7db-6d5d08f7ebe1"
      },
      "execution_count": null,
      "outputs": [
        {
          "output_type": "stream",
          "name": "stdout",
          "text": [
            "               precision    recall  f1-score   support\n",
            "\n",
            "      neutral       0.79      0.83      0.81      5534\n",
            "        smile       0.81      0.90      0.85      5631\n",
            "        frown       0.95      0.89      0.92     35454\n",
            "eyebrow_raise       0.83      0.97      0.89      5749\n",
            "squeezed_eyes       0.83      0.89      0.86      5382\n",
            "\n",
            "     accuracy                           0.90     57750\n",
            "    macro avg       0.84      0.90      0.87     57750\n",
            " weighted avg       0.90      0.90      0.90     57750\n",
            "\n"
          ]
        }
      ]
    },
    {
      "cell_type": "code",
      "source": [
        "le = LabelEncoder()\n",
        "y_train = le.fit_transform(y_train)\n",
        "y_test=le.fit_transform(y_test)"
      ],
      "metadata": {
        "id": "55lziRY5I5Pm"
      },
      "execution_count": null,
      "outputs": []
    },
    {
      "cell_type": "code",
      "source": [
        "xgb=XGBClassifier()\n",
        "xgb.fit(X_train, y_train)\n",
        "\n",
        "print(\"Score on test: {}\".format(xgb.score(X_test, y_test)))"
      ],
      "metadata": {
        "colab": {
          "base_uri": "https://localhost:8080/"
        },
        "id": "85g8zmQtI-4F",
        "outputId": "f4e43360-1734-4697-9bf2-5899e9fff007"
      },
      "execution_count": null,
      "outputs": [
        {
          "output_type": "stream",
          "name": "stdout",
          "text": [
            "Score on test: 0.876380338121763\n"
          ]
        }
      ]
    },
    {
      "cell_type": "markdown",
      "source": [
        "# Training a model on a Task A + Task C dataset"
      ],
      "metadata": {
        "id": "lLNKBcLY6EmB"
      }
    },
    {
      "cell_type": "code",
      "source": [
        "folders_taskC=glob.glob('/content/drive/MyDrive/features_taskc/*')"
      ],
      "metadata": {
        "id": "onJ0QgE_524o"
      },
      "execution_count": null,
      "outputs": []
    },
    {
      "cell_type": "code",
      "source": [
        "names_taskC=[]"
      ],
      "metadata": {
        "id": "RfnELwsM6Y9m"
      },
      "execution_count": null,
      "outputs": []
    },
    {
      "cell_type": "code",
      "source": [
        "for folder in folders_taskC:\n",
        "  parts=folder.split('/')\n",
        "  name=parts[-1]\n",
        "  names_taskC.append(name)"
      ],
      "metadata": {
        "id": "XloEf7sL6eCA"
      },
      "execution_count": null,
      "outputs": []
    },
    {
      "cell_type": "code",
      "source": [
        "len(names_taskC)"
      ],
      "metadata": {
        "colab": {
          "base_uri": "https://localhost:8080/"
        },
        "id": "trCypVxj6iHf",
        "outputId": "95650452-8f1e-410c-fe44-73ca440a55ae"
      },
      "execution_count": null,
      "outputs": [
        {
          "output_type": "execute_result",
          "data": {
            "text/plain": [
              "65"
            ]
          },
          "metadata": {},
          "execution_count": 7
        }
      ]
    },
    {
      "cell_type": "code",
      "source": [
        "calculated_taskC=glob.glob('/content/drive/MyDrive/features_taskc/*/calculated_features.csv')"
      ],
      "metadata": {
        "id": "MlyqlxrL6jsV"
      },
      "execution_count": null,
      "outputs": []
    },
    {
      "cell_type": "code",
      "source": [
        "#combining the names lists without duplicates\n",
        "names_combined=list(set(names_taskA + names_taskC))"
      ],
      "metadata": {
        "id": "JL3hdo7P62yS"
      },
      "execution_count": null,
      "outputs": []
    },
    {
      "cell_type": "code",
      "source": [
        "len(names_combined)"
      ],
      "metadata": {
        "colab": {
          "base_uri": "https://localhost:8080/"
        },
        "id": "zQ4S4nre6-Ov",
        "outputId": "8f23147c-8f45-403d-f614-6317715ad16f"
      },
      "execution_count": null,
      "outputs": [
        {
          "output_type": "execute_result",
          "data": {
            "text/plain": [
              "69"
            ]
          },
          "metadata": {},
          "execution_count": 15
        }
      ]
    },
    {
      "cell_type": "code",
      "source": [
        "names_combined.sort()"
      ],
      "metadata": {
        "id": "42MHI1BQ7FR6"
      },
      "execution_count": null,
      "outputs": []
    },
    {
      "cell_type": "code",
      "source": [
        "names_dict={}"
      ],
      "metadata": {
        "id": "OGR9hh-z7SBi"
      },
      "execution_count": null,
      "outputs": []
    },
    {
      "cell_type": "code",
      "source": [
        "for index, name in enumerate(names_combined):\n",
        "  names_dict[name]=index"
      ],
      "metadata": {
        "id": "nhtpx5IZ7ewO"
      },
      "execution_count": null,
      "outputs": []
    },
    {
      "cell_type": "code",
      "source": [
        "#all of the calculated features from both tasks\n",
        "files=calculated_taskA+calculated_taskC"
      ],
      "metadata": {
        "id": "pMuKpn5j7S3a"
      },
      "execution_count": null,
      "outputs": []
    },
    {
      "cell_type": "code",
      "source": [
        "result=pd.DataFrame()"
      ],
      "metadata": {
        "id": "uNJCbMYY8CWP"
      },
      "execution_count": null,
      "outputs": []
    },
    {
      "cell_type": "code",
      "source": [
        "for file in files:\n",
        "  df=pd.read_csv(file)\n",
        "  parts=file.split('/')\n",
        "  name=parts[-2]\n",
        "  df['FileId']=names_dict[name]\n",
        "  result=pd.concat([result,df],axis=0).reset_index(drop=True)"
      ],
      "metadata": {
        "id": "j1FK2WQU7WbD"
      },
      "execution_count": null,
      "outputs": []
    },
    {
      "cell_type": "code",
      "source": [
        "result=result.drop('Unnamed: 0.1', axis=1)"
      ],
      "metadata": {
        "id": "xDY-0PHb7lUR"
      },
      "execution_count": null,
      "outputs": []
    },
    {
      "cell_type": "code",
      "source": [
        "result.to_csv('/content/drive/MyDrive/result_taskac.csv')"
      ],
      "metadata": {
        "id": "CsI5JhkblZNI"
      },
      "execution_count": null,
      "outputs": []
    },
    {
      "cell_type": "code",
      "source": [
        "result=pd.read_csv('/content/drive/MyDrive/result_taskac.csv', index_col=[0])"
      ],
      "metadata": {
        "id": "i2X-EMErLKuo"
      },
      "execution_count": null,
      "outputs": []
    },
    {
      "cell_type": "code",
      "source": [
        "result"
      ],
      "metadata": {
        "colab": {
          "base_uri": "https://localhost:8080/",
          "height": 443
        },
        "id": "8k--76gVLl4i",
        "outputId": "9b4380ab-5626-4f4d-dcf3-6d4dda71b48f"
      },
      "execution_count": null,
      "outputs": [
        {
          "output_type": "execute_result",
          "data": {
            "text/plain": [
              "        Nav/Raw.X[RightCheek]_mean  Nav/Raw.X[RightCheek]_std  \\\n",
              "0                         0.348229                   0.043537   \n",
              "1                         0.337956                   0.035829   \n",
              "2                         0.333375                   0.024216   \n",
              "3                         0.352210                   0.024558   \n",
              "4                         0.383455                   0.057073   \n",
              "...                            ...                        ...   \n",
              "420506                    0.322789                   1.278603   \n",
              "420507                   -0.427204                   0.931623   \n",
              "420508                   -0.969824                   0.600849   \n",
              "420509                   -1.326958                   0.438037   \n",
              "420510                   -1.610744                   0.298555   \n",
              "\n",
              "        Nav/Raw.X[RightCheek]_min_  Nav/Raw.X[RightCheek]_max_  \\\n",
              "0                         0.278892                    0.438483   \n",
              "1                         0.278892                    0.438483   \n",
              "2                         0.278892                    0.374414   \n",
              "3                         0.317288                    0.417429   \n",
              "4                         0.331458                    0.529571   \n",
              "...                            ...                         ...   \n",
              "420506                   -1.339922                    2.406812   \n",
              "420507                   -1.469874                    1.840298   \n",
              "420508                   -1.725323                    0.265983   \n",
              "420509                   -1.920038                   -0.361707   \n",
              "420510                   -2.027371                   -1.001887   \n",
              "\n",
              "        Nav/Raw.X[RightCheek]_range_  Nav/Raw.X[RightCheek]_iqr  \\\n",
              "0                           0.159590                   0.037816   \n",
              "1                           0.159590                   0.015066   \n",
              "2                           0.095522                   0.018573   \n",
              "3                           0.100141                   0.035809   \n",
              "4                           0.198113                   0.057152   \n",
              "...                              ...                        ...   \n",
              "420506                      3.746734                   2.097422   \n",
              "420507                      3.310172                   1.375048   \n",
              "420508                      1.991306                   0.972562   \n",
              "420509                      1.558330                   0.596092   \n",
              "420510                      1.025483                   0.469556   \n",
              "\n",
              "        Nav/Raw.X[RightCheek]_kurtosis  Nav/Raw.X[RightCheek]_skewness  \\\n",
              "0                            -0.501721                        0.614952   \n",
              "1                             1.656762                        1.178269   \n",
              "2                            -0.096384                       -0.415703   \n",
              "3                             0.049680                        0.905545   \n",
              "4                             0.483971                        1.273741   \n",
              "...                                ...                             ...   \n",
              "420506                       -1.195207                        0.458554   \n",
              "420507                       -0.280373                        0.798368   \n",
              "420508                       -1.010949                        0.570205   \n",
              "420509                       -0.446095                        0.760662   \n",
              "420510                       -0.989069                        0.225702   \n",
              "\n",
              "        Nav/Raw.X[RightCheek]_rms  Nav/Raw.Y[RightCheek]_mean  ...  \\\n",
              "0                        0.350940                   -1.127508  ...   \n",
              "1                        0.339850                   -1.073165  ...   \n",
              "2                        0.334253                   -1.017790  ...   \n",
              "3                        0.353065                   -0.983217  ...   \n",
              "4                        0.387679                   -0.940316  ...   \n",
              "...                           ...                         ...  ...   \n",
              "420506                   1.318719                   -0.817331  ...   \n",
              "420507                   1.024902                    0.111488  ...   \n",
              "420508                   1.140867                    0.860179  ...   \n",
              "420509                   1.397389                    1.406912  ...   \n",
              "420510                   1.638179                    1.783350  ...   \n",
              "\n",
              "        Prox/Raw[LeftCheek]_std  Prox/Raw[LeftCheek]_min_  \\\n",
              "0                      0.079755                  0.832746   \n",
              "1                      0.093256                  0.832746   \n",
              "2                      0.075644                  0.846374   \n",
              "3                      0.041991                  0.974173   \n",
              "4                      0.022532                  0.992010   \n",
              "...                         ...                       ...   \n",
              "420506                 0.068826                 -1.008502   \n",
              "420507                 0.075694                 -1.010354   \n",
              "420508                 0.075760                 -1.010354   \n",
              "420509                 0.104801                 -1.010354   \n",
              "420510                 0.117697                 -1.010354   \n",
              "\n",
              "        Prox/Raw[LeftCheek]_max_  Prox/Raw[LeftCheek]_range_  \\\n",
              "0                       1.074478                    0.241732   \n",
              "1                       1.080728                    0.247982   \n",
              "2                       1.085602                    0.239228   \n",
              "3                       1.085602                    0.111429   \n",
              "4                       1.094305                    0.102295   \n",
              "...                          ...                         ...   \n",
              "420506                 -0.797106                    0.211397   \n",
              "420507                 -0.797106                    0.213248   \n",
              "420508                 -0.772441                    0.237913   \n",
              "420509                 -0.707294                    0.303060   \n",
              "420510                 -0.707294                    0.303060   \n",
              "\n",
              "        Prox/Raw[LeftCheek]_iqr  Prox/Raw[LeftCheek]_kurtosis  \\\n",
              "0                      0.133732                     -1.256023   \n",
              "1                      0.218754                     -1.424616   \n",
              "2                      0.105443                     -0.251419   \n",
              "3                      0.061677                     -0.910704   \n",
              "4                      0.007587                      4.907859   \n",
              "...                         ...                           ...   \n",
              "420506                 0.134027                     -1.546083   \n",
              "420507                 0.154635                     -1.600995   \n",
              "420508                 0.151289                     -1.487383   \n",
              "420509                 0.174660                     -1.239743   \n",
              "420510                 0.246009                     -1.763081   \n",
              "\n",
              "        Prox/Raw[LeftCheek]_skewness  Prox/Raw[LeftCheek]_rms    Label  FileId  \n",
              "0                           0.402130                 0.925127  neutral       0  \n",
              "1                          -0.222510                 0.969009  neutral       0  \n",
              "2                          -0.900408                 1.016723  neutral       0  \n",
              "3                          -0.944172                 1.051939  neutral       0  \n",
              "4                          -2.372198                 1.072053  neutral       0  \n",
              "...                              ...                      ...      ...     ...  \n",
              "420506                     -0.013367                 0.900467  neutral      68  \n",
              "420507                     -0.060785                 0.907341  neutral      68  \n",
              "420508                      0.024200                 0.908693  neutral      68  \n",
              "420509                      0.426012                 0.890154  neutral      68  \n",
              "420510                     -0.018613                 0.867454  neutral      68  \n",
              "\n",
              "[420511 rows x 164 columns]"
            ],
            "text/html": [
              "\n",
              "  <div id=\"df-58a6d1bd-9b8d-47b2-87ba-24953eb7698b\" class=\"colab-df-container\">\n",
              "    <div>\n",
              "<style scoped>\n",
              "    .dataframe tbody tr th:only-of-type {\n",
              "        vertical-align: middle;\n",
              "    }\n",
              "\n",
              "    .dataframe tbody tr th {\n",
              "        vertical-align: top;\n",
              "    }\n",
              "\n",
              "    .dataframe thead th {\n",
              "        text-align: right;\n",
              "    }\n",
              "</style>\n",
              "<table border=\"1\" class=\"dataframe\">\n",
              "  <thead>\n",
              "    <tr style=\"text-align: right;\">\n",
              "      <th></th>\n",
              "      <th>Nav/Raw.X[RightCheek]_mean</th>\n",
              "      <th>Nav/Raw.X[RightCheek]_std</th>\n",
              "      <th>Nav/Raw.X[RightCheek]_min_</th>\n",
              "      <th>Nav/Raw.X[RightCheek]_max_</th>\n",
              "      <th>Nav/Raw.X[RightCheek]_range_</th>\n",
              "      <th>Nav/Raw.X[RightCheek]_iqr</th>\n",
              "      <th>Nav/Raw.X[RightCheek]_kurtosis</th>\n",
              "      <th>Nav/Raw.X[RightCheek]_skewness</th>\n",
              "      <th>Nav/Raw.X[RightCheek]_rms</th>\n",
              "      <th>Nav/Raw.Y[RightCheek]_mean</th>\n",
              "      <th>...</th>\n",
              "      <th>Prox/Raw[LeftCheek]_std</th>\n",
              "      <th>Prox/Raw[LeftCheek]_min_</th>\n",
              "      <th>Prox/Raw[LeftCheek]_max_</th>\n",
              "      <th>Prox/Raw[LeftCheek]_range_</th>\n",
              "      <th>Prox/Raw[LeftCheek]_iqr</th>\n",
              "      <th>Prox/Raw[LeftCheek]_kurtosis</th>\n",
              "      <th>Prox/Raw[LeftCheek]_skewness</th>\n",
              "      <th>Prox/Raw[LeftCheek]_rms</th>\n",
              "      <th>Label</th>\n",
              "      <th>FileId</th>\n",
              "    </tr>\n",
              "  </thead>\n",
              "  <tbody>\n",
              "    <tr>\n",
              "      <th>0</th>\n",
              "      <td>0.348229</td>\n",
              "      <td>0.043537</td>\n",
              "      <td>0.278892</td>\n",
              "      <td>0.438483</td>\n",
              "      <td>0.159590</td>\n",
              "      <td>0.037816</td>\n",
              "      <td>-0.501721</td>\n",
              "      <td>0.614952</td>\n",
              "      <td>0.350940</td>\n",
              "      <td>-1.127508</td>\n",
              "      <td>...</td>\n",
              "      <td>0.079755</td>\n",
              "      <td>0.832746</td>\n",
              "      <td>1.074478</td>\n",
              "      <td>0.241732</td>\n",
              "      <td>0.133732</td>\n",
              "      <td>-1.256023</td>\n",
              "      <td>0.402130</td>\n",
              "      <td>0.925127</td>\n",
              "      <td>neutral</td>\n",
              "      <td>0</td>\n",
              "    </tr>\n",
              "    <tr>\n",
              "      <th>1</th>\n",
              "      <td>0.337956</td>\n",
              "      <td>0.035829</td>\n",
              "      <td>0.278892</td>\n",
              "      <td>0.438483</td>\n",
              "      <td>0.159590</td>\n",
              "      <td>0.015066</td>\n",
              "      <td>1.656762</td>\n",
              "      <td>1.178269</td>\n",
              "      <td>0.339850</td>\n",
              "      <td>-1.073165</td>\n",
              "      <td>...</td>\n",
              "      <td>0.093256</td>\n",
              "      <td>0.832746</td>\n",
              "      <td>1.080728</td>\n",
              "      <td>0.247982</td>\n",
              "      <td>0.218754</td>\n",
              "      <td>-1.424616</td>\n",
              "      <td>-0.222510</td>\n",
              "      <td>0.969009</td>\n",
              "      <td>neutral</td>\n",
              "      <td>0</td>\n",
              "    </tr>\n",
              "    <tr>\n",
              "      <th>2</th>\n",
              "      <td>0.333375</td>\n",
              "      <td>0.024216</td>\n",
              "      <td>0.278892</td>\n",
              "      <td>0.374414</td>\n",
              "      <td>0.095522</td>\n",
              "      <td>0.018573</td>\n",
              "      <td>-0.096384</td>\n",
              "      <td>-0.415703</td>\n",
              "      <td>0.334253</td>\n",
              "      <td>-1.017790</td>\n",
              "      <td>...</td>\n",
              "      <td>0.075644</td>\n",
              "      <td>0.846374</td>\n",
              "      <td>1.085602</td>\n",
              "      <td>0.239228</td>\n",
              "      <td>0.105443</td>\n",
              "      <td>-0.251419</td>\n",
              "      <td>-0.900408</td>\n",
              "      <td>1.016723</td>\n",
              "      <td>neutral</td>\n",
              "      <td>0</td>\n",
              "    </tr>\n",
              "    <tr>\n",
              "      <th>3</th>\n",
              "      <td>0.352210</td>\n",
              "      <td>0.024558</td>\n",
              "      <td>0.317288</td>\n",
              "      <td>0.417429</td>\n",
              "      <td>0.100141</td>\n",
              "      <td>0.035809</td>\n",
              "      <td>0.049680</td>\n",
              "      <td>0.905545</td>\n",
              "      <td>0.353065</td>\n",
              "      <td>-0.983217</td>\n",
              "      <td>...</td>\n",
              "      <td>0.041991</td>\n",
              "      <td>0.974173</td>\n",
              "      <td>1.085602</td>\n",
              "      <td>0.111429</td>\n",
              "      <td>0.061677</td>\n",
              "      <td>-0.910704</td>\n",
              "      <td>-0.944172</td>\n",
              "      <td>1.051939</td>\n",
              "      <td>neutral</td>\n",
              "      <td>0</td>\n",
              "    </tr>\n",
              "    <tr>\n",
              "      <th>4</th>\n",
              "      <td>0.383455</td>\n",
              "      <td>0.057073</td>\n",
              "      <td>0.331458</td>\n",
              "      <td>0.529571</td>\n",
              "      <td>0.198113</td>\n",
              "      <td>0.057152</td>\n",
              "      <td>0.483971</td>\n",
              "      <td>1.273741</td>\n",
              "      <td>0.387679</td>\n",
              "      <td>-0.940316</td>\n",
              "      <td>...</td>\n",
              "      <td>0.022532</td>\n",
              "      <td>0.992010</td>\n",
              "      <td>1.094305</td>\n",
              "      <td>0.102295</td>\n",
              "      <td>0.007587</td>\n",
              "      <td>4.907859</td>\n",
              "      <td>-2.372198</td>\n",
              "      <td>1.072053</td>\n",
              "      <td>neutral</td>\n",
              "      <td>0</td>\n",
              "    </tr>\n",
              "    <tr>\n",
              "      <th>...</th>\n",
              "      <td>...</td>\n",
              "      <td>...</td>\n",
              "      <td>...</td>\n",
              "      <td>...</td>\n",
              "      <td>...</td>\n",
              "      <td>...</td>\n",
              "      <td>...</td>\n",
              "      <td>...</td>\n",
              "      <td>...</td>\n",
              "      <td>...</td>\n",
              "      <td>...</td>\n",
              "      <td>...</td>\n",
              "      <td>...</td>\n",
              "      <td>...</td>\n",
              "      <td>...</td>\n",
              "      <td>...</td>\n",
              "      <td>...</td>\n",
              "      <td>...</td>\n",
              "      <td>...</td>\n",
              "      <td>...</td>\n",
              "      <td>...</td>\n",
              "    </tr>\n",
              "    <tr>\n",
              "      <th>420506</th>\n",
              "      <td>0.322789</td>\n",
              "      <td>1.278603</td>\n",
              "      <td>-1.339922</td>\n",
              "      <td>2.406812</td>\n",
              "      <td>3.746734</td>\n",
              "      <td>2.097422</td>\n",
              "      <td>-1.195207</td>\n",
              "      <td>0.458554</td>\n",
              "      <td>1.318719</td>\n",
              "      <td>-0.817331</td>\n",
              "      <td>...</td>\n",
              "      <td>0.068826</td>\n",
              "      <td>-1.008502</td>\n",
              "      <td>-0.797106</td>\n",
              "      <td>0.211397</td>\n",
              "      <td>0.134027</td>\n",
              "      <td>-1.546083</td>\n",
              "      <td>-0.013367</td>\n",
              "      <td>0.900467</td>\n",
              "      <td>neutral</td>\n",
              "      <td>68</td>\n",
              "    </tr>\n",
              "    <tr>\n",
              "      <th>420507</th>\n",
              "      <td>-0.427204</td>\n",
              "      <td>0.931623</td>\n",
              "      <td>-1.469874</td>\n",
              "      <td>1.840298</td>\n",
              "      <td>3.310172</td>\n",
              "      <td>1.375048</td>\n",
              "      <td>-0.280373</td>\n",
              "      <td>0.798368</td>\n",
              "      <td>1.024902</td>\n",
              "      <td>0.111488</td>\n",
              "      <td>...</td>\n",
              "      <td>0.075694</td>\n",
              "      <td>-1.010354</td>\n",
              "      <td>-0.797106</td>\n",
              "      <td>0.213248</td>\n",
              "      <td>0.154635</td>\n",
              "      <td>-1.600995</td>\n",
              "      <td>-0.060785</td>\n",
              "      <td>0.907341</td>\n",
              "      <td>neutral</td>\n",
              "      <td>68</td>\n",
              "    </tr>\n",
              "    <tr>\n",
              "      <th>420508</th>\n",
              "      <td>-0.969824</td>\n",
              "      <td>0.600849</td>\n",
              "      <td>-1.725323</td>\n",
              "      <td>0.265983</td>\n",
              "      <td>1.991306</td>\n",
              "      <td>0.972562</td>\n",
              "      <td>-1.010949</td>\n",
              "      <td>0.570205</td>\n",
              "      <td>1.140867</td>\n",
              "      <td>0.860179</td>\n",
              "      <td>...</td>\n",
              "      <td>0.075760</td>\n",
              "      <td>-1.010354</td>\n",
              "      <td>-0.772441</td>\n",
              "      <td>0.237913</td>\n",
              "      <td>0.151289</td>\n",
              "      <td>-1.487383</td>\n",
              "      <td>0.024200</td>\n",
              "      <td>0.908693</td>\n",
              "      <td>neutral</td>\n",
              "      <td>68</td>\n",
              "    </tr>\n",
              "    <tr>\n",
              "      <th>420509</th>\n",
              "      <td>-1.326958</td>\n",
              "      <td>0.438037</td>\n",
              "      <td>-1.920038</td>\n",
              "      <td>-0.361707</td>\n",
              "      <td>1.558330</td>\n",
              "      <td>0.596092</td>\n",
              "      <td>-0.446095</td>\n",
              "      <td>0.760662</td>\n",
              "      <td>1.397389</td>\n",
              "      <td>1.406912</td>\n",
              "      <td>...</td>\n",
              "      <td>0.104801</td>\n",
              "      <td>-1.010354</td>\n",
              "      <td>-0.707294</td>\n",
              "      <td>0.303060</td>\n",
              "      <td>0.174660</td>\n",
              "      <td>-1.239743</td>\n",
              "      <td>0.426012</td>\n",
              "      <td>0.890154</td>\n",
              "      <td>neutral</td>\n",
              "      <td>68</td>\n",
              "    </tr>\n",
              "    <tr>\n",
              "      <th>420510</th>\n",
              "      <td>-1.610744</td>\n",
              "      <td>0.298555</td>\n",
              "      <td>-2.027371</td>\n",
              "      <td>-1.001887</td>\n",
              "      <td>1.025483</td>\n",
              "      <td>0.469556</td>\n",
              "      <td>-0.989069</td>\n",
              "      <td>0.225702</td>\n",
              "      <td>1.638179</td>\n",
              "      <td>1.783350</td>\n",
              "      <td>...</td>\n",
              "      <td>0.117697</td>\n",
              "      <td>-1.010354</td>\n",
              "      <td>-0.707294</td>\n",
              "      <td>0.303060</td>\n",
              "      <td>0.246009</td>\n",
              "      <td>-1.763081</td>\n",
              "      <td>-0.018613</td>\n",
              "      <td>0.867454</td>\n",
              "      <td>neutral</td>\n",
              "      <td>68</td>\n",
              "    </tr>\n",
              "  </tbody>\n",
              "</table>\n",
              "<p>420511 rows × 164 columns</p>\n",
              "</div>\n",
              "    <div class=\"colab-df-buttons\">\n",
              "\n",
              "  <div class=\"colab-df-container\">\n",
              "    <button class=\"colab-df-convert\" onclick=\"convertToInteractive('df-58a6d1bd-9b8d-47b2-87ba-24953eb7698b')\"\n",
              "            title=\"Convert this dataframe to an interactive table.\"\n",
              "            style=\"display:none;\">\n",
              "\n",
              "  <svg xmlns=\"http://www.w3.org/2000/svg\" height=\"24px\" viewBox=\"0 -960 960 960\">\n",
              "    <path d=\"M120-120v-720h720v720H120Zm60-500h600v-160H180v160Zm220 220h160v-160H400v160Zm0 220h160v-160H400v160ZM180-400h160v-160H180v160Zm440 0h160v-160H620v160ZM180-180h160v-160H180v160Zm440 0h160v-160H620v160Z\"/>\n",
              "  </svg>\n",
              "    </button>\n",
              "\n",
              "  <style>\n",
              "    .colab-df-container {\n",
              "      display:flex;\n",
              "      gap: 12px;\n",
              "    }\n",
              "\n",
              "    .colab-df-convert {\n",
              "      background-color: #E8F0FE;\n",
              "      border: none;\n",
              "      border-radius: 50%;\n",
              "      cursor: pointer;\n",
              "      display: none;\n",
              "      fill: #1967D2;\n",
              "      height: 32px;\n",
              "      padding: 0 0 0 0;\n",
              "      width: 32px;\n",
              "    }\n",
              "\n",
              "    .colab-df-convert:hover {\n",
              "      background-color: #E2EBFA;\n",
              "      box-shadow: 0px 1px 2px rgba(60, 64, 67, 0.3), 0px 1px 3px 1px rgba(60, 64, 67, 0.15);\n",
              "      fill: #174EA6;\n",
              "    }\n",
              "\n",
              "    .colab-df-buttons div {\n",
              "      margin-bottom: 4px;\n",
              "    }\n",
              "\n",
              "    [theme=dark] .colab-df-convert {\n",
              "      background-color: #3B4455;\n",
              "      fill: #D2E3FC;\n",
              "    }\n",
              "\n",
              "    [theme=dark] .colab-df-convert:hover {\n",
              "      background-color: #434B5C;\n",
              "      box-shadow: 0px 1px 3px 1px rgba(0, 0, 0, 0.15);\n",
              "      filter: drop-shadow(0px 1px 2px rgba(0, 0, 0, 0.3));\n",
              "      fill: #FFFFFF;\n",
              "    }\n",
              "  </style>\n",
              "\n",
              "    <script>\n",
              "      const buttonEl =\n",
              "        document.querySelector('#df-58a6d1bd-9b8d-47b2-87ba-24953eb7698b button.colab-df-convert');\n",
              "      buttonEl.style.display =\n",
              "        google.colab.kernel.accessAllowed ? 'block' : 'none';\n",
              "\n",
              "      async function convertToInteractive(key) {\n",
              "        const element = document.querySelector('#df-58a6d1bd-9b8d-47b2-87ba-24953eb7698b');\n",
              "        const dataTable =\n",
              "          await google.colab.kernel.invokeFunction('convertToInteractive',\n",
              "                                                    [key], {});\n",
              "        if (!dataTable) return;\n",
              "\n",
              "        const docLinkHtml = 'Like what you see? Visit the ' +\n",
              "          '<a target=\"_blank\" href=https://colab.research.google.com/notebooks/data_table.ipynb>data table notebook</a>'\n",
              "          + ' to learn more about interactive tables.';\n",
              "        element.innerHTML = '';\n",
              "        dataTable['output_type'] = 'display_data';\n",
              "        await google.colab.output.renderOutput(dataTable, element);\n",
              "        const docLink = document.createElement('div');\n",
              "        docLink.innerHTML = docLinkHtml;\n",
              "        element.appendChild(docLink);\n",
              "      }\n",
              "    </script>\n",
              "  </div>\n",
              "\n",
              "\n",
              "<div id=\"df-1a2f6be5-7e0d-4544-8fca-5c04a6b7c6ea\">\n",
              "  <button class=\"colab-df-quickchart\" onclick=\"quickchart('df-1a2f6be5-7e0d-4544-8fca-5c04a6b7c6ea')\"\n",
              "            title=\"Suggest charts.\"\n",
              "            style=\"display:none;\">\n",
              "\n",
              "<svg xmlns=\"http://www.w3.org/2000/svg\" height=\"24px\"viewBox=\"0 0 24 24\"\n",
              "     width=\"24px\">\n",
              "    <g>\n",
              "        <path d=\"M19 3H5c-1.1 0-2 .9-2 2v14c0 1.1.9 2 2 2h14c1.1 0 2-.9 2-2V5c0-1.1-.9-2-2-2zM9 17H7v-7h2v7zm4 0h-2V7h2v10zm4 0h-2v-4h2v4z\"/>\n",
              "    </g>\n",
              "</svg>\n",
              "  </button>\n",
              "\n",
              "<style>\n",
              "  .colab-df-quickchart {\n",
              "      --bg-color: #E8F0FE;\n",
              "      --fill-color: #1967D2;\n",
              "      --hover-bg-color: #E2EBFA;\n",
              "      --hover-fill-color: #174EA6;\n",
              "      --disabled-fill-color: #AAA;\n",
              "      --disabled-bg-color: #DDD;\n",
              "  }\n",
              "\n",
              "  [theme=dark] .colab-df-quickchart {\n",
              "      --bg-color: #3B4455;\n",
              "      --fill-color: #D2E3FC;\n",
              "      --hover-bg-color: #434B5C;\n",
              "      --hover-fill-color: #FFFFFF;\n",
              "      --disabled-bg-color: #3B4455;\n",
              "      --disabled-fill-color: #666;\n",
              "  }\n",
              "\n",
              "  .colab-df-quickchart {\n",
              "    background-color: var(--bg-color);\n",
              "    border: none;\n",
              "    border-radius: 50%;\n",
              "    cursor: pointer;\n",
              "    display: none;\n",
              "    fill: var(--fill-color);\n",
              "    height: 32px;\n",
              "    padding: 0;\n",
              "    width: 32px;\n",
              "  }\n",
              "\n",
              "  .colab-df-quickchart:hover {\n",
              "    background-color: var(--hover-bg-color);\n",
              "    box-shadow: 0 1px 2px rgba(60, 64, 67, 0.3), 0 1px 3px 1px rgba(60, 64, 67, 0.15);\n",
              "    fill: var(--button-hover-fill-color);\n",
              "  }\n",
              "\n",
              "  .colab-df-quickchart-complete:disabled,\n",
              "  .colab-df-quickchart-complete:disabled:hover {\n",
              "    background-color: var(--disabled-bg-color);\n",
              "    fill: var(--disabled-fill-color);\n",
              "    box-shadow: none;\n",
              "  }\n",
              "\n",
              "  .colab-df-spinner {\n",
              "    border: 2px solid var(--fill-color);\n",
              "    border-color: transparent;\n",
              "    border-bottom-color: var(--fill-color);\n",
              "    animation:\n",
              "      spin 1s steps(1) infinite;\n",
              "  }\n",
              "\n",
              "  @keyframes spin {\n",
              "    0% {\n",
              "      border-color: transparent;\n",
              "      border-bottom-color: var(--fill-color);\n",
              "      border-left-color: var(--fill-color);\n",
              "    }\n",
              "    20% {\n",
              "      border-color: transparent;\n",
              "      border-left-color: var(--fill-color);\n",
              "      border-top-color: var(--fill-color);\n",
              "    }\n",
              "    30% {\n",
              "      border-color: transparent;\n",
              "      border-left-color: var(--fill-color);\n",
              "      border-top-color: var(--fill-color);\n",
              "      border-right-color: var(--fill-color);\n",
              "    }\n",
              "    40% {\n",
              "      border-color: transparent;\n",
              "      border-right-color: var(--fill-color);\n",
              "      border-top-color: var(--fill-color);\n",
              "    }\n",
              "    60% {\n",
              "      border-color: transparent;\n",
              "      border-right-color: var(--fill-color);\n",
              "    }\n",
              "    80% {\n",
              "      border-color: transparent;\n",
              "      border-right-color: var(--fill-color);\n",
              "      border-bottom-color: var(--fill-color);\n",
              "    }\n",
              "    90% {\n",
              "      border-color: transparent;\n",
              "      border-bottom-color: var(--fill-color);\n",
              "    }\n",
              "  }\n",
              "</style>\n",
              "\n",
              "  <script>\n",
              "    async function quickchart(key) {\n",
              "      const quickchartButtonEl =\n",
              "        document.querySelector('#' + key + ' button');\n",
              "      quickchartButtonEl.disabled = true;  // To prevent multiple clicks.\n",
              "      quickchartButtonEl.classList.add('colab-df-spinner');\n",
              "      try {\n",
              "        const charts = await google.colab.kernel.invokeFunction(\n",
              "            'suggestCharts', [key], {});\n",
              "      } catch (error) {\n",
              "        console.error('Error during call to suggestCharts:', error);\n",
              "      }\n",
              "      quickchartButtonEl.classList.remove('colab-df-spinner');\n",
              "      quickchartButtonEl.classList.add('colab-df-quickchart-complete');\n",
              "    }\n",
              "    (() => {\n",
              "      let quickchartButtonEl =\n",
              "        document.querySelector('#df-1a2f6be5-7e0d-4544-8fca-5c04a6b7c6ea button');\n",
              "      quickchartButtonEl.style.display =\n",
              "        google.colab.kernel.accessAllowed ? 'block' : 'none';\n",
              "    })();\n",
              "  </script>\n",
              "</div>\n",
              "    </div>\n",
              "  </div>\n"
            ]
          },
          "metadata": {},
          "execution_count": 111
        }
      ]
    },
    {
      "cell_type": "code",
      "source": [
        "#Checking for null values\n",
        "missing_values = result.isnull().sum()\n",
        "print(f\"Number of missing values by column:\\n{missing_values}\")"
      ],
      "metadata": {
        "colab": {
          "base_uri": "https://localhost:8080/"
        },
        "id": "d-WyytQE9KKo",
        "outputId": "ec1fecac-b3b2-451c-fcaf-01ded0dea02e"
      },
      "execution_count": null,
      "outputs": [
        {
          "output_type": "stream",
          "name": "stdout",
          "text": [
            "Number of missing values by column:\n",
            "Nav/Raw.X[RightCheek]_mean      0\n",
            "Nav/Raw.X[RightCheek]_std       0\n",
            "Nav/Raw.X[RightCheek]_min_      0\n",
            "Nav/Raw.X[RightCheek]_max_      0\n",
            "Nav/Raw.X[RightCheek]_range_    0\n",
            "                               ..\n",
            "Prox/Raw[LeftCheek]_kurtosis    0\n",
            "Prox/Raw[LeftCheek]_skewness    0\n",
            "Prox/Raw[LeftCheek]_rms         0\n",
            "Label                           0\n",
            "FileId                          0\n",
            "Length: 164, dtype: int64\n"
          ]
        }
      ]
    },
    {
      "cell_type": "code",
      "source": [
        "result.fillna(0, inplace=True)"
      ],
      "metadata": {
        "id": "U5anRIIM-XWC"
      },
      "execution_count": null,
      "outputs": []
    },
    {
      "cell_type": "code",
      "source": [
        "result.value_counts('Label')"
      ],
      "metadata": {
        "colab": {
          "base_uri": "https://localhost:8080/"
        },
        "id": "7TJktbT3-dMO",
        "outputId": "7682b16b-72c1-48e2-f31e-ee4282931ae5"
      },
      "execution_count": null,
      "outputs": [
        {
          "output_type": "execute_result",
          "data": {
            "text/plain": [
              "Label\n",
              "neutral          274532\n",
              "frown             37091\n",
              "smile             36971\n",
              "eyebrow_raise     36245\n",
              "squeezed_eyes     35672\n",
              "dtype: int64"
            ]
          },
          "metadata": {},
          "execution_count": 114
        }
      ]
    },
    {
      "cell_type": "code",
      "source": [
        "all_subjects=list(range(1,70))"
      ],
      "metadata": {
        "id": "ctGLBOae-gh5"
      },
      "execution_count": null,
      "outputs": []
    },
    {
      "cell_type": "code",
      "source": [
        "random.shuffle(all_subjects)"
      ],
      "metadata": {
        "id": "kSsZAC3_-yTk"
      },
      "execution_count": null,
      "outputs": []
    },
    {
      "cell_type": "code",
      "source": [
        "result.columns = result.columns.str.replace('[', '(').str.replace(']', ')')"
      ],
      "metadata": {
        "id": "ZSrmkBzsNCg6"
      },
      "execution_count": null,
      "outputs": []
    },
    {
      "cell_type": "code",
      "source": [
        "# 49/10/10 train test validation split\n",
        "train_ids=all_subjects[:49]\n",
        "test_ids=all_subjects[49:59]\n",
        "validation_ids=all_subjects[59:69]"
      ],
      "metadata": {
        "id": "mkCom3AW-02W"
      },
      "execution_count": null,
      "outputs": []
    },
    {
      "cell_type": "code",
      "source": [
        "train_df=result[result['FileId'].isin(train_ids)]\n",
        "test_df=result[result['FileId'].isin(test_ids)]\n",
        "validation_df=result[result['FileId'].isin(validation_ids)]"
      ],
      "metadata": {
        "id": "qzk6oohH-8pb"
      },
      "execution_count": null,
      "outputs": []
    },
    {
      "cell_type": "code",
      "source": [
        "#undersampling only the train set\n",
        "undersampled_train_df=pd.DataFrame()\n",
        "undersampled_train_df=undersample_neutral(train_df,7)"
      ],
      "metadata": {
        "id": "tnDs69pB--K1"
      },
      "execution_count": null,
      "outputs": []
    },
    {
      "cell_type": "code",
      "source": [
        "undersampled_train_df.value_counts('Label')"
      ],
      "metadata": {
        "colab": {
          "base_uri": "https://localhost:8080/"
        },
        "id": "p8D1irzN_HUr",
        "outputId": "641c2aa3-19aa-4474-ce04-550add6a1b75"
      },
      "execution_count": null,
      "outputs": [
        {
          "output_type": "execute_result",
          "data": {
            "text/plain": [
              "Label\n",
              "neutral          26855\n",
              "frown            25453\n",
              "smile            25401\n",
              "eyebrow_raise    24921\n",
              "squeezed_eyes    24620\n",
              "dtype: int64"
            ]
          },
          "metadata": {},
          "execution_count": 121
        }
      ]
    },
    {
      "cell_type": "code",
      "source": [
        "X_train=undersampled_train_df.drop(['Label','FileId'],axis=1)\n",
        "y_train=undersampled_train_df['Label']\n",
        "\n",
        "X_test=test_df.drop(['Label','FileId'],axis=1)\n",
        "y_test=test_df['Label']\n",
        "\n",
        "X_val=validation_df.drop(['Label','FileId'],axis=1)\n",
        "y_val=validation_df['Label']"
      ],
      "metadata": {
        "id": "TuZqzuR-_KQ2"
      },
      "execution_count": null,
      "outputs": []
    },
    {
      "cell_type": "code",
      "source": [
        "dummy = DummyClassifier(strategy='uniform')\n",
        "dummy.fit(X_train, y_train)\n",
        "\n",
        "print(\"Score on test: {}\".format(dummy.score(X_test, y_test)))"
      ],
      "metadata": {
        "colab": {
          "base_uri": "https://localhost:8080/"
        },
        "id": "ttgbLtdj_Mi3",
        "outputId": "66bf6394-c77d-4772-d02b-354987f4e587"
      },
      "execution_count": null,
      "outputs": [
        {
          "output_type": "stream",
          "name": "stdout",
          "text": [
            "Score on test: 0.20202711303462323\n"
          ]
        }
      ]
    },
    {
      "cell_type": "code",
      "source": [
        "cm=confusion_matrix(y_test, dummy.predict(X_test),labels=dummy.classes_)\n",
        "disp=ConfusionMatrixDisplay(confusion_matrix=cm,\n",
        "                            display_labels=dummy.classes_)\n",
        "disp.plot()\n",
        "plt.show()"
      ],
      "metadata": {
        "colab": {
          "base_uri": "https://localhost:8080/",
          "height": 450
        },
        "id": "M9-AYt7Z_O6x",
        "outputId": "8e00b6b5-3e9c-4aed-e0a7-fd3c3c3a4988"
      },
      "execution_count": null,
      "outputs": [
        {
          "output_type": "display_data",
          "data": {
            "text/plain": [
              "<Figure size 640x480 with 2 Axes>"
            ],
            "image/png": "[encoded data removed]"
          },
          "metadata": {}
        }
      ]
    },
    {
      "cell_type": "code",
      "source": [
        "rf=RandomForestClassifier()\n",
        "rf.fit(X_train, y_train)\n",
        "\n",
        "print(\"Score on test: {}\".format(rf.score(X_test, y_test)))"
      ],
      "metadata": {
        "colab": {
          "base_uri": "https://localhost:8080/"
        },
        "id": "uDr-XJ7g_Swo",
        "outputId": "101d9dca-5f53-406f-fd40-88123ff226eb"
      },
      "execution_count": null,
      "outputs": [
        {
          "output_type": "stream",
          "name": "stdout",
          "text": [
            "Score on test: 0.8811895366598778\n"
          ]
        }
      ]
    },
    {
      "cell_type": "code",
      "source": [
        "cm=confusion_matrix(y_test, rf.predict(X_test),labels=rf.classes_)\n",
        "disp=ConfusionMatrixDisplay(confusion_matrix=cm,\n",
        "                            display_labels=rf.classes_)\n",
        "disp.plot()\n",
        "plt.show()"
      ],
      "metadata": {
        "colab": {
          "base_uri": "https://localhost:8080/",
          "height": 450
        },
        "id": "JB8SaXRi_VU9",
        "outputId": "7df498b7-6d39-4563-bf91-79325396e6ee"
      },
      "execution_count": null,
      "outputs": [
        {
          "output_type": "display_data",
          "data": {
            "text/plain": [
              "<Figure size 640x480 with 2 Axes>"
            ],
            "image/png": "[encoded data removed]"
          },
          "metadata": {}
        }
      ]
    },
    {
      "cell_type": "code",
      "source": [
        "y_pred=rf.predict(X_test)"
      ],
      "metadata": {
        "id": "StzgfPubA868"
      },
      "execution_count": null,
      "outputs": []
    },
    {
      "cell_type": "code",
      "source": [
        "print(classification_report(y_test,y_pred, target_names=result['Label'].unique()))"
      ],
      "metadata": {
        "colab": {
          "base_uri": "https://localhost:8080/"
        },
        "id": "JlXMltqyBFPA",
        "outputId": "523a3921-bd7c-4022-ff71-7385a357fa67"
      },
      "execution_count": null,
      "outputs": [
        {
          "output_type": "stream",
          "name": "stdout",
          "text": [
            "               precision    recall  f1-score   support\n",
            "\n",
            "      neutral       0.78      0.89      0.83      5494\n",
            "        smile       0.77      0.81      0.79      5538\n",
            "        frown       0.94      0.90      0.92     40927\n",
            "eyebrow_raise       0.83      0.87      0.85      5561\n",
            "squeezed_eyes       0.75      0.79      0.77      5328\n",
            "\n",
            "     accuracy                           0.88     62848\n",
            "    macro avg       0.81      0.85      0.83     62848\n",
            " weighted avg       0.89      0.88      0.88     62848\n",
            "\n"
          ]
        }
      ]
    },
    {
      "cell_type": "code",
      "source": [
        "le = LabelEncoder()\n",
        "y_train = le.fit_transform(y_train)\n",
        "y_test=le.fit_transform(y_test)"
      ],
      "metadata": {
        "id": "k38m3iC4O6TG"
      },
      "execution_count": null,
      "outputs": []
    },
    {
      "cell_type": "code",
      "source": [
        "xgb=XGBClassifier()\n",
        "xgb.fit(X_train, y_train)\n",
        "\n",
        "print(\"Score on test: {}\".format(xgb.score(X_test, y_test)))"
      ],
      "metadata": {
        "colab": {
          "base_uri": "https://localhost:8080/"
        },
        "id": "teqQ_pSDO04f",
        "outputId": "9ff42833-694b-4706-fd68-d35f85b80857"
      },
      "execution_count": null,
      "outputs": [
        {
          "output_type": "stream",
          "name": "stdout",
          "text": [
            "Score on test: 0.8869812881873728\n"
          ]
        }
      ]
    },
    {
      "cell_type": "markdown",
      "source": [
        "# Training a model on a Task A + Task B + Task C dataset"
      ],
      "metadata": {
        "id": "laYj1EK8ln-q"
      }
    },
    {
      "cell_type": "code",
      "source": [
        "names_combined=list(set(names_taskA + names_taskB + names_taskC))"
      ],
      "metadata": {
        "id": "WYvw4PZ2BHDh"
      },
      "execution_count": null,
      "outputs": []
    },
    {
      "cell_type": "code",
      "source": [
        "len(names_combined)"
      ],
      "metadata": {
        "colab": {
          "base_uri": "https://localhost:8080/"
        },
        "id": "efELRjl0mbj_",
        "outputId": "efb215f5-73ce-41a0-ed62-f0e2f3ba9ae6"
      },
      "execution_count": null,
      "outputs": [
        {
          "output_type": "execute_result",
          "data": {
            "text/plain": [
              "69"
            ]
          },
          "metadata": {},
          "execution_count": 36
        }
      ]
    },
    {
      "cell_type": "code",
      "source": [
        "names_dict={}"
      ],
      "metadata": {
        "id": "sJbhadpJmc7H"
      },
      "execution_count": null,
      "outputs": []
    },
    {
      "cell_type": "code",
      "source": [
        "for index, name in enumerate(names_combined):\n",
        "  names_dict[name]=index"
      ],
      "metadata": {
        "id": "Qpq6L8_lml_-"
      },
      "execution_count": null,
      "outputs": []
    },
    {
      "cell_type": "code",
      "source": [
        "files=calculated_taskA + calculated_taskB + calculated_taskC"
      ],
      "metadata": {
        "id": "toh-TAC-mpok"
      },
      "execution_count": null,
      "outputs": []
    },
    {
      "cell_type": "code",
      "source": [
        "files.sort()"
      ],
      "metadata": {
        "id": "yh5ysa2jmya1"
      },
      "execution_count": null,
      "outputs": []
    },
    {
      "cell_type": "code",
      "source": [
        "result=pd.DataFrame()"
      ],
      "metadata": {
        "id": "KJ1GCOjDmzPd"
      },
      "execution_count": null,
      "outputs": []
    },
    {
      "cell_type": "code",
      "source": [
        "for file in files:\n",
        "  df=pd.read_csv(file)\n",
        "  parts=file.split('/')\n",
        "  name=parts[-2]\n",
        "  df['FileId']=names_dict[name]\n",
        "  result=pd.concat([result,df],axis=0).reset_index(drop=True)"
      ],
      "metadata": {
        "id": "lDcdthcOm5ZB"
      },
      "execution_count": null,
      "outputs": []
    },
    {
      "cell_type": "code",
      "source": [
        "result.to_csv('/content/drive/MyDrive/result_all.csv')"
      ],
      "metadata": {
        "id": "2TtlPdWwm8jf"
      },
      "execution_count": null,
      "outputs": []
    },
    {
      "cell_type": "code",
      "source": [
        "result=pd.read_csv('/content/drive/MyDrive/result_all.csv', index_col=[0])"
      ],
      "metadata": {
        "id": "e158d8QEQPpi"
      },
      "execution_count": null,
      "outputs": []
    },
    {
      "cell_type": "code",
      "source": [
        "#Checking for null values\n",
        "missing_values = result.isnull().sum()\n",
        "print(f\"Number of missing values by column:\\n{missing_values}\")"
      ],
      "metadata": {
        "colab": {
          "base_uri": "https://localhost:8080/"
        },
        "id": "UJ65HwghnhXv",
        "outputId": "093fb7e4-de77-427c-c8f1-a6157450742e"
      },
      "execution_count": null,
      "outputs": [
        {
          "output_type": "stream",
          "name": "stdout",
          "text": [
            "Number of missing values by column:\n",
            "Nav/Raw.X[RightCheek]_mean      0\n",
            "Nav/Raw.X[RightCheek]_std       0\n",
            "Nav/Raw.X[RightCheek]_min_      0\n",
            "Nav/Raw.X[RightCheek]_max_      0\n",
            "Nav/Raw.X[RightCheek]_range_    0\n",
            "                               ..\n",
            "Prox/Raw[LeftCheek]_kurtosis    0\n",
            "Prox/Raw[LeftCheek]_skewness    0\n",
            "Prox/Raw[LeftCheek]_rms         0\n",
            "Label                           0\n",
            "FileId                          0\n",
            "Length: 164, dtype: int64\n"
          ]
        }
      ]
    },
    {
      "cell_type": "code",
      "source": [
        "result.fillna(0, inplace=True)"
      ],
      "metadata": {
        "id": "NG5ADYuyouEF"
      },
      "execution_count": null,
      "outputs": []
    },
    {
      "cell_type": "code",
      "source": [
        "result.value_counts('Label')"
      ],
      "metadata": {
        "colab": {
          "base_uri": "https://localhost:8080/"
        },
        "id": "vb-ah3gSoyj2",
        "outputId": "8a206615-836b-41da-bb20-c8ee8c46a406"
      },
      "execution_count": null,
      "outputs": [
        {
          "output_type": "execute_result",
          "data": {
            "text/plain": [
              "Label\n",
              "neutral          380460\n",
              "smile             56815\n",
              "frown             56728\n",
              "eyebrow_raise     55553\n",
              "squeezed_eyes     54729\n",
              "dtype: int64"
            ]
          },
          "metadata": {},
          "execution_count": 135
        }
      ]
    },
    {
      "cell_type": "code",
      "source": [
        "all_subjects=list(range(1,70))"
      ],
      "metadata": {
        "id": "wBubqETTo1-G"
      },
      "execution_count": null,
      "outputs": []
    },
    {
      "cell_type": "code",
      "source": [
        "random.shuffle(all_subjects)"
      ],
      "metadata": {
        "id": "x3QhU-SQtLsd"
      },
      "execution_count": null,
      "outputs": []
    },
    {
      "cell_type": "code",
      "source": [
        "result.columns = result.columns.str.replace('[', '(').str.replace(']', ')')"
      ],
      "metadata": {
        "id": "f4K_HRYZWDrT"
      },
      "execution_count": null,
      "outputs": []
    },
    {
      "cell_type": "code",
      "source": [
        "# 49/10/10 train test validation split\n",
        "train_ids=all_subjects[:49]\n",
        "test_ids=all_subjects[49:59]\n",
        "validation_ids=all_subjects[59:69]"
      ],
      "metadata": {
        "id": "fAL_qIDQtPl6"
      },
      "execution_count": null,
      "outputs": []
    },
    {
      "cell_type": "code",
      "source": [
        "train_df=result[result['FileId'].isin(train_ids)]\n",
        "test_df=result[result['FileId'].isin(test_ids)]\n",
        "validation_df=result[result['FileId'].isin(validation_ids)]"
      ],
      "metadata": {
        "id": "gifWBq5ntTZ8"
      },
      "execution_count": null,
      "outputs": []
    },
    {
      "cell_type": "code",
      "source": [
        "#undersampling only the train set\n",
        "undersampled_train_df=pd.DataFrame()\n",
        "undersampled_train_df=undersample_neutral(train_df,7)"
      ],
      "metadata": {
        "id": "asjnIuZgtYF6"
      },
      "execution_count": null,
      "outputs": []
    },
    {
      "cell_type": "code",
      "source": [
        "undersampled_train_df.value_counts('Label')"
      ],
      "metadata": {
        "colab": {
          "base_uri": "https://localhost:8080/"
        },
        "id": "-NqSS7fftcXx",
        "outputId": "04d16851-c114-4380-ced6-7f6874df47d9"
      },
      "execution_count": null,
      "outputs": [
        {
          "output_type": "execute_result",
          "data": {
            "text/plain": [
              "Label\n",
              "smile            39122\n",
              "frown            39101\n",
              "eyebrow_raise    38490\n",
              "squeezed_eyes    38123\n",
              "neutral          37675\n",
              "dtype: int64"
            ]
          },
          "metadata": {},
          "execution_count": 144
        }
      ]
    },
    {
      "cell_type": "code",
      "source": [
        "X_train=undersampled_train_df.drop(['Label','FileId'],axis=1)\n",
        "y_train=undersampled_train_df['Label']\n",
        "\n",
        "X_test=test_df.drop(['Label','FileId'],axis=1)\n",
        "y_test=test_df['Label']\n",
        "\n",
        "X_val=validation_df.drop(['Label','FileId'],axis=1)\n",
        "y_val=validation_df['Label']"
      ],
      "metadata": {
        "id": "8mb2cei8tgJg"
      },
      "execution_count": null,
      "outputs": []
    },
    {
      "cell_type": "code",
      "source": [
        "dummy = DummyClassifier(strategy='uniform')\n",
        "dummy.fit(X_train, y_train)\n",
        "\n",
        "print(\"Score on test: {}\".format(dummy.score(X_test, y_test)))"
      ],
      "metadata": {
        "colab": {
          "base_uri": "https://localhost:8080/"
        },
        "id": "mblA0-LNtw7G",
        "outputId": "31c4565b-52bd-47dc-e9e1-077398171353"
      },
      "execution_count": null,
      "outputs": [
        {
          "output_type": "stream",
          "name": "stdout",
          "text": [
            "Score on test: 0.20124405007413024\n"
          ]
        }
      ]
    },
    {
      "cell_type": "code",
      "source": [
        "cm=confusion_matrix(y_test, dummy.predict(X_test),labels=dummy.classes_)\n",
        "disp=ConfusionMatrixDisplay(confusion_matrix=cm,\n",
        "                            display_labels=dummy.classes_)\n",
        "disp.plot()\n",
        "plt.show()"
      ],
      "metadata": {
        "colab": {
          "base_uri": "https://localhost:8080/",
          "height": 450
        },
        "id": "eQRi_zeDt2A_",
        "outputId": "7ce7b3ee-0952-4162-f5ca-e2c156fb6a37"
      },
      "execution_count": null,
      "outputs": [
        {
          "output_type": "display_data",
          "data": {
            "text/plain": [
              "<Figure size 640x480 with 2 Axes>"
            ],
            "image/png": "[encoded data removed]"
          },
          "metadata": {}
        }
      ]
    },
    {
      "cell_type": "code",
      "source": [
        "rf=RandomForestClassifier()\n",
        "rf.fit(X_train, y_train)\n",
        "\n",
        "print(\"Score on test: {}\".format(rf.score(X_test, y_test)))"
      ],
      "metadata": {
        "colab": {
          "base_uri": "https://localhost:8080/"
        },
        "id": "YzaJEQsVt9tf",
        "outputId": "d0582a75-3fb0-438e-edc5-8a648ef17cbf"
      },
      "execution_count": null,
      "outputs": [
        {
          "output_type": "stream",
          "name": "stdout",
          "text": [
            "Score on test: 0.897666848740901\n"
          ]
        }
      ]
    },
    {
      "cell_type": "code",
      "source": [
        "cm=confusion_matrix(y_test, rf.predict(X_test),labels=rf.classes_)\n",
        "disp=ConfusionMatrixDisplay(confusion_matrix=cm,\n",
        "                            display_labels=rf.classes_)\n",
        "disp.plot()\n",
        "plt.show()"
      ],
      "metadata": {
        "colab": {
          "base_uri": "https://localhost:8080/",
          "height": 450
        },
        "id": "FD7yPoFRuBH_",
        "outputId": "9950d367-17a2-43b7-bcf4-e0c5ac3d4feb"
      },
      "execution_count": null,
      "outputs": [
        {
          "output_type": "display_data",
          "data": {
            "text/plain": [
              "<Figure size 640x480 with 2 Axes>"
            ],
            "image/png": "[encoded data removed]"
          },
          "metadata": {}
        }
      ]
    },
    {
      "cell_type": "code",
      "source": [
        "y_pred=rf.predict(X_test)"
      ],
      "metadata": {
        "id": "C8sO8IQXxuib"
      },
      "execution_count": null,
      "outputs": []
    },
    {
      "cell_type": "code",
      "source": [
        "print(classification_report(y_test,y_pred, target_names=result['Label'].unique()))"
      ],
      "metadata": {
        "colab": {
          "base_uri": "https://localhost:8080/"
        },
        "id": "2NWyPXHAxx1A",
        "outputId": "13d5106b-b73b-4393-d319-ff792a81d2bf"
      },
      "execution_count": null,
      "outputs": [
        {
          "output_type": "stream",
          "name": "stdout",
          "text": [
            "               precision    recall  f1-score   support\n",
            "\n",
            "      neutral       0.81      0.89      0.85      8072\n",
            "        smile       0.80      0.91      0.85      8416\n",
            "        frown       0.96      0.90      0.93     56935\n",
            "eyebrow_raise       0.82      0.95      0.88      8443\n",
            "squeezed_eyes       0.80      0.84      0.82      7841\n",
            "\n",
            "     accuracy                           0.90     89707\n",
            "    macro avg       0.84      0.90      0.86     89707\n",
            " weighted avg       0.90      0.90      0.90     89707\n",
            "\n"
          ]
        }
      ]
    },
    {
      "cell_type": "code",
      "source": [
        "le = LabelEncoder()\n",
        "y_train = le.fit_transform(y_train)\n",
        "y_test=le.fit_transform(y_test)"
      ],
      "metadata": {
        "id": "MjNrA-Q7x1iX"
      },
      "execution_count": null,
      "outputs": []
    },
    {
      "cell_type": "code",
      "source": [
        "xgb=XGBClassifier()\n",
        "xgb.fit(X_train, y_train)\n",
        "\n",
        "print(\"Score on test: {}\".format(xgb.score(X_test, y_test)))"
      ],
      "metadata": {
        "colab": {
          "base_uri": "https://localhost:8080/"
        },
        "id": "FeMDL30kaRMz",
        "outputId": "0e068377-59e8-4516-dab5-f9596605c1dd"
      },
      "execution_count": null,
      "outputs": [
        {
          "output_type": "stream",
          "name": "stdout",
          "text": [
            "Score on test: 0.9058490418807896\n"
          ]
        }
      ]
    },
    {
      "cell_type": "markdown",
      "source": [
        "# Scoring a model on a Task C dataset, fitted on Task A dataset"
      ],
      "metadata": {
        "id": "fDu4FGvjd4Cf"
      }
    },
    {
      "cell_type": "code",
      "source": [
        "df=pd.read_csv('/content/drive/MyDrive/features_taskc/result.csv',index_col=[0])"
      ],
      "metadata": {
        "id": "_KxqcPU0eA7W"
      },
      "execution_count": null,
      "outputs": []
    },
    {
      "cell_type": "code",
      "source": [
        "df"
      ],
      "metadata": {
        "colab": {
          "base_uri": "https://localhost:8080/",
          "height": 443
        },
        "id": "Za1IoelPeI2v",
        "outputId": "604837a6-c291-47bb-ddee-212aecefd0f7"
      },
      "execution_count": null,
      "outputs": [
        {
          "output_type": "execute_result",
          "data": {
            "text/plain": [
              "        Nav/Raw.X[RightCheek]_mean  Nav/Raw.X[RightCheek]_std  \\\n",
              "0                         0.699789                   0.003589   \n",
              "1                         0.694152                   0.010741   \n",
              "2                         0.685042                   0.017948   \n",
              "3                         0.675738                   0.019088   \n",
              "4                         0.663102                   0.021207   \n",
              "...                            ...                        ...   \n",
              "213145                   -2.996736                   0.051023   \n",
              "213146                   -3.025354                   0.032941   \n",
              "213147                   -3.046876                   0.022171   \n",
              "213148                   -3.061466                   0.020264   \n",
              "213149                   -3.074866                   0.018203   \n",
              "\n",
              "        Nav/Raw.X[RightCheek]_min_  Nav/Raw.X[RightCheek]_max_  \\\n",
              "0                         0.686201                    0.704771   \n",
              "1                         0.665693                    0.701605   \n",
              "2                         0.652996                    0.701605   \n",
              "3                         0.649795                    0.701183   \n",
              "4                         0.621052                    0.701087   \n",
              "...                            ...                         ...   \n",
              "213145                   -3.058574                   -2.885388   \n",
              "213146                   -3.059839                   -2.938335   \n",
              "213147                   -3.084463                   -3.008746   \n",
              "213148                   -3.093469                   -3.027133   \n",
              "213149                   -3.107155                   -3.045026   \n",
              "\n",
              "        Nav/Raw.X[RightCheek]_range_  Nav/Raw.X[RightCheek]_iqr  \\\n",
              "0                           0.018569                   0.003215   \n",
              "1                           0.035912                   0.007754   \n",
              "2                           0.048609                   0.028637   \n",
              "3                           0.051389                   0.040815   \n",
              "4                           0.080035                   0.024523   \n",
              "...                              ...                        ...   \n",
              "213145                      0.173185                   0.076641   \n",
              "213146                      0.121504                   0.040861   \n",
              "213147                      0.075717                   0.030412   \n",
              "213148                      0.066335                   0.034460   \n",
              "213149                      0.062129                   0.031341   \n",
              "\n",
              "        Nav/Raw.X[RightCheek]_kurtosis  Nav/Raw.X[RightCheek]_skewness  \\\n",
              "0                             5.897146                       -2.197705   \n",
              "1                             0.556639                       -1.419756   \n",
              "2                            -1.137321                       -0.682148   \n",
              "3                            -1.675486                        0.076587   \n",
              "4                            -0.577185                        0.130209   \n",
              "...                                ...                             ...   \n",
              "213145                       -0.672668                        0.736812   \n",
              "213146                        0.300536                        1.018227   \n",
              "213147                       -1.078552                        0.070894   \n",
              "213148                       -1.121806                        0.121328   \n",
              "213149                       -1.325732                        0.016385   \n",
              "\n",
              "        Nav/Raw.X[RightCheek]_rms  Nav/Raw.Y[RightCheek]_mean  ...  \\\n",
              "0                        0.699799                    1.032500  ...   \n",
              "1                        0.694235                    1.034001  ...   \n",
              "2                        0.685277                    1.036168  ...   \n",
              "3                        0.676008                    1.040126  ...   \n",
              "4                        0.663441                    1.044938  ...   \n",
              "...                           ...                         ...  ...   \n",
              "213145                   2.997170                    2.748502  ...   \n",
              "213146                   3.025533                    2.783542  ...   \n",
              "213147                   3.046956                    2.810649  ...   \n",
              "213148                   3.061533                    2.832684  ...   \n",
              "213149                   3.074920                    2.840470  ...   \n",
              "\n",
              "        Prox/Raw[LeftCheek]_std  Prox/Raw[LeftCheek]_min_  \\\n",
              "0                      0.011299                  0.398617   \n",
              "1                      0.022791                  0.398617   \n",
              "2                      0.043255                  0.398617   \n",
              "3                      0.075468                  0.398617   \n",
              "4                      0.104858                  0.398617   \n",
              "...                         ...                       ...   \n",
              "213145                 0.033122                 -0.380764   \n",
              "213146                 0.025958                 -0.380885   \n",
              "213147                 0.018671                 -0.393012   \n",
              "213148                 0.012005                 -0.395707   \n",
              "213149                 0.008120                 -0.399579   \n",
              "\n",
              "        Prox/Raw[LeftCheek]_max_  Prox/Raw[LeftCheek]_range_  \\\n",
              "0                       0.452917                    0.054300   \n",
              "1                       0.469911                    0.071294   \n",
              "2                       0.548658                    0.150041   \n",
              "3                       0.632710                    0.234093   \n",
              "4                       0.723509                    0.324891   \n",
              "...                          ...                         ...   \n",
              "213145                 -0.279766                    0.100998   \n",
              "213146                 -0.304085                    0.076800   \n",
              "213147                 -0.328772                    0.064239   \n",
              "213148                 -0.348437                    0.047270   \n",
              "213149                 -0.374031                    0.025548   \n",
              "\n",
              "        Prox/Raw[LeftCheek]_iqr  Prox/Raw[LeftCheek]_kurtosis  \\\n",
              "0                      0.013570                      4.355450   \n",
              "1                      0.013570                     -0.385264   \n",
              "2                      0.057905                      0.367003   \n",
              "3                      0.129966                     -0.645807   \n",
              "4                      0.168318                     -1.110150   \n",
              "...                         ...                           ...   \n",
              "213145                 0.065844                     -1.333831   \n",
              "213146                 0.046308                     -1.197679   \n",
              "213147                 0.021842                     -0.416227   \n",
              "213148                 0.015141                      1.309377   \n",
              "213149                 0.013910                     -1.519250   \n",
              "\n",
              "        Prox/Raw[LeftCheek]_skewness  Prox/Raw[LeftCheek]_rms    Label  FileId  \n",
              "0                           1.813114                 0.412090  neutral       0  \n",
              "1                           1.132580                 0.420264  neutral       0  \n",
              "2                           1.157911                 0.438417  neutral       0  \n",
              "3                           0.787641                 0.481008  neutral       0  \n",
              "4                           0.423906                 0.542384  neutral       0  \n",
              "...                              ...                      ...      ...     ...  \n",
              "213145                      0.129903                 0.338790  neutral      64  \n",
              "213146                      0.554518                 0.355793  neutral      64  \n",
              "213147                      0.944372                 0.370095  neutral      64  \n",
              "213148                      1.159719                 0.380694  neutral      64  \n",
              "213149                      0.084278                 0.387387  neutral      64  \n",
              "\n",
              "[213150 rows x 164 columns]"
            ],
            "text/html": [
              "\n",
              "  <div id=\"df-644a6d8d-f3b6-4bcf-970b-871c937b5560\" class=\"colab-df-container\">\n",
              "    <div>\n",
              "<style scoped>\n",
              "    .dataframe tbody tr th:only-of-type {\n",
              "        vertical-align: middle;\n",
              "    }\n",
              "\n",
              "    .dataframe tbody tr th {\n",
              "        vertical-align: top;\n",
              "    }\n",
              "\n",
              "    .dataframe thead th {\n",
              "        text-align: right;\n",
              "    }\n",
              "</style>\n",
              "<table border=\"1\" class=\"dataframe\">\n",
              "  <thead>\n",
              "    <tr style=\"text-align: right;\">\n",
              "      <th></th>\n",
              "      <th>Nav/Raw.X[RightCheek]_mean</th>\n",
              "      <th>Nav/Raw.X[RightCheek]_std</th>\n",
              "      <th>Nav/Raw.X[RightCheek]_min_</th>\n",
              "      <th>Nav/Raw.X[RightCheek]_max_</th>\n",
              "      <th>Nav/Raw.X[RightCheek]_range_</th>\n",
              "      <th>Nav/Raw.X[RightCheek]_iqr</th>\n",
              "      <th>Nav/Raw.X[RightCheek]_kurtosis</th>\n",
              "      <th>Nav/Raw.X[RightCheek]_skewness</th>\n",
              "      <th>Nav/Raw.X[RightCheek]_rms</th>\n",
              "      <th>Nav/Raw.Y[RightCheek]_mean</th>\n",
              "      <th>...</th>\n",
              "      <th>Prox/Raw[LeftCheek]_std</th>\n",
              "      <th>Prox/Raw[LeftCheek]_min_</th>\n",
              "      <th>Prox/Raw[LeftCheek]_max_</th>\n",
              "      <th>Prox/Raw[LeftCheek]_range_</th>\n",
              "      <th>Prox/Raw[LeftCheek]_iqr</th>\n",
              "      <th>Prox/Raw[LeftCheek]_kurtosis</th>\n",
              "      <th>Prox/Raw[LeftCheek]_skewness</th>\n",
              "      <th>Prox/Raw[LeftCheek]_rms</th>\n",
              "      <th>Label</th>\n",
              "      <th>FileId</th>\n",
              "    </tr>\n",
              "  </thead>\n",
              "  <tbody>\n",
              "    <tr>\n",
              "      <th>0</th>\n",
              "      <td>0.699789</td>\n",
              "      <td>0.003589</td>\n",
              "      <td>0.686201</td>\n",
              "      <td>0.704771</td>\n",
              "      <td>0.018569</td>\n",
              "      <td>0.003215</td>\n",
              "      <td>5.897146</td>\n",
              "      <td>-2.197705</td>\n",
              "      <td>0.699799</td>\n",
              "      <td>1.032500</td>\n",
              "      <td>...</td>\n",
              "      <td>0.011299</td>\n",
              "      <td>0.398617</td>\n",
              "      <td>0.452917</td>\n",
              "      <td>0.054300</td>\n",
              "      <td>0.013570</td>\n",
              "      <td>4.355450</td>\n",
              "      <td>1.813114</td>\n",
              "      <td>0.412090</td>\n",
              "      <td>neutral</td>\n",
              "      <td>0</td>\n",
              "    </tr>\n",
              "    <tr>\n",
              "      <th>1</th>\n",
              "      <td>0.694152</td>\n",
              "      <td>0.010741</td>\n",
              "      <td>0.665693</td>\n",
              "      <td>0.701605</td>\n",
              "      <td>0.035912</td>\n",
              "      <td>0.007754</td>\n",
              "      <td>0.556639</td>\n",
              "      <td>-1.419756</td>\n",
              "      <td>0.694235</td>\n",
              "      <td>1.034001</td>\n",
              "      <td>...</td>\n",
              "      <td>0.022791</td>\n",
              "      <td>0.398617</td>\n",
              "      <td>0.469911</td>\n",
              "      <td>0.071294</td>\n",
              "      <td>0.013570</td>\n",
              "      <td>-0.385264</td>\n",
              "      <td>1.132580</td>\n",
              "      <td>0.420264</td>\n",
              "      <td>neutral</td>\n",
              "      <td>0</td>\n",
              "    </tr>\n",
              "    <tr>\n",
              "      <th>2</th>\n",
              "      <td>0.685042</td>\n",
              "      <td>0.017948</td>\n",
              "      <td>0.652996</td>\n",
              "      <td>0.701605</td>\n",
              "      <td>0.048609</td>\n",
              "      <td>0.028637</td>\n",
              "      <td>-1.137321</td>\n",
              "      <td>-0.682148</td>\n",
              "      <td>0.685277</td>\n",
              "      <td>1.036168</td>\n",
              "      <td>...</td>\n",
              "      <td>0.043255</td>\n",
              "      <td>0.398617</td>\n",
              "      <td>0.548658</td>\n",
              "      <td>0.150041</td>\n",
              "      <td>0.057905</td>\n",
              "      <td>0.367003</td>\n",
              "      <td>1.157911</td>\n",
              "      <td>0.438417</td>\n",
              "      <td>neutral</td>\n",
              "      <td>0</td>\n",
              "    </tr>\n",
              "    <tr>\n",
              "      <th>3</th>\n",
              "      <td>0.675738</td>\n",
              "      <td>0.019088</td>\n",
              "      <td>0.649795</td>\n",
              "      <td>0.701183</td>\n",
              "      <td>0.051389</td>\n",
              "      <td>0.040815</td>\n",
              "      <td>-1.675486</td>\n",
              "      <td>0.076587</td>\n",
              "      <td>0.676008</td>\n",
              "      <td>1.040126</td>\n",
              "      <td>...</td>\n",
              "      <td>0.075468</td>\n",
              "      <td>0.398617</td>\n",
              "      <td>0.632710</td>\n",
              "      <td>0.234093</td>\n",
              "      <td>0.129966</td>\n",
              "      <td>-0.645807</td>\n",
              "      <td>0.787641</td>\n",
              "      <td>0.481008</td>\n",
              "      <td>neutral</td>\n",
              "      <td>0</td>\n",
              "    </tr>\n",
              "    <tr>\n",
              "      <th>4</th>\n",
              "      <td>0.663102</td>\n",
              "      <td>0.021207</td>\n",
              "      <td>0.621052</td>\n",
              "      <td>0.701087</td>\n",
              "      <td>0.080035</td>\n",
              "      <td>0.024523</td>\n",
              "      <td>-0.577185</td>\n",
              "      <td>0.130209</td>\n",
              "      <td>0.663441</td>\n",
              "      <td>1.044938</td>\n",
              "      <td>...</td>\n",
              "      <td>0.104858</td>\n",
              "      <td>0.398617</td>\n",
              "      <td>0.723509</td>\n",
              "      <td>0.324891</td>\n",
              "      <td>0.168318</td>\n",
              "      <td>-1.110150</td>\n",
              "      <td>0.423906</td>\n",
              "      <td>0.542384</td>\n",
              "      <td>neutral</td>\n",
              "      <td>0</td>\n",
              "    </tr>\n",
              "    <tr>\n",
              "      <th>...</th>\n",
              "      <td>...</td>\n",
              "      <td>...</td>\n",
              "      <td>...</td>\n",
              "      <td>...</td>\n",
              "      <td>...</td>\n",
              "      <td>...</td>\n",
              "      <td>...</td>\n",
              "      <td>...</td>\n",
              "      <td>...</td>\n",
              "      <td>...</td>\n",
              "      <td>...</td>\n",
              "      <td>...</td>\n",
              "      <td>...</td>\n",
              "      <td>...</td>\n",
              "      <td>...</td>\n",
              "      <td>...</td>\n",
              "      <td>...</td>\n",
              "      <td>...</td>\n",
              "      <td>...</td>\n",
              "      <td>...</td>\n",
              "      <td>...</td>\n",
              "    </tr>\n",
              "    <tr>\n",
              "      <th>213145</th>\n",
              "      <td>-2.996736</td>\n",
              "      <td>0.051023</td>\n",
              "      <td>-3.058574</td>\n",
              "      <td>-2.885388</td>\n",
              "      <td>0.173185</td>\n",
              "      <td>0.076641</td>\n",
              "      <td>-0.672668</td>\n",
              "      <td>0.736812</td>\n",
              "      <td>2.997170</td>\n",
              "      <td>2.748502</td>\n",
              "      <td>...</td>\n",
              "      <td>0.033122</td>\n",
              "      <td>-0.380764</td>\n",
              "      <td>-0.279766</td>\n",
              "      <td>0.100998</td>\n",
              "      <td>0.065844</td>\n",
              "      <td>-1.333831</td>\n",
              "      <td>0.129903</td>\n",
              "      <td>0.338790</td>\n",
              "      <td>neutral</td>\n",
              "      <td>64</td>\n",
              "    </tr>\n",
              "    <tr>\n",
              "      <th>213146</th>\n",
              "      <td>-3.025354</td>\n",
              "      <td>0.032941</td>\n",
              "      <td>-3.059839</td>\n",
              "      <td>-2.938335</td>\n",
              "      <td>0.121504</td>\n",
              "      <td>0.040861</td>\n",
              "      <td>0.300536</td>\n",
              "      <td>1.018227</td>\n",
              "      <td>3.025533</td>\n",
              "      <td>2.783542</td>\n",
              "      <td>...</td>\n",
              "      <td>0.025958</td>\n",
              "      <td>-0.380885</td>\n",
              "      <td>-0.304085</td>\n",
              "      <td>0.076800</td>\n",
              "      <td>0.046308</td>\n",
              "      <td>-1.197679</td>\n",
              "      <td>0.554518</td>\n",
              "      <td>0.355793</td>\n",
              "      <td>neutral</td>\n",
              "      <td>64</td>\n",
              "    </tr>\n",
              "    <tr>\n",
              "      <th>213147</th>\n",
              "      <td>-3.046876</td>\n",
              "      <td>0.022171</td>\n",
              "      <td>-3.084463</td>\n",
              "      <td>-3.008746</td>\n",
              "      <td>0.075717</td>\n",
              "      <td>0.030412</td>\n",
              "      <td>-1.078552</td>\n",
              "      <td>0.070894</td>\n",
              "      <td>3.046956</td>\n",
              "      <td>2.810649</td>\n",
              "      <td>...</td>\n",
              "      <td>0.018671</td>\n",
              "      <td>-0.393012</td>\n",
              "      <td>-0.328772</td>\n",
              "      <td>0.064239</td>\n",
              "      <td>0.021842</td>\n",
              "      <td>-0.416227</td>\n",
              "      <td>0.944372</td>\n",
              "      <td>0.370095</td>\n",
              "      <td>neutral</td>\n",
              "      <td>64</td>\n",
              "    </tr>\n",
              "    <tr>\n",
              "      <th>213148</th>\n",
              "      <td>-3.061466</td>\n",
              "      <td>0.020264</td>\n",
              "      <td>-3.093469</td>\n",
              "      <td>-3.027133</td>\n",
              "      <td>0.066335</td>\n",
              "      <td>0.034460</td>\n",
              "      <td>-1.121806</td>\n",
              "      <td>0.121328</td>\n",
              "      <td>3.061533</td>\n",
              "      <td>2.832684</td>\n",
              "      <td>...</td>\n",
              "      <td>0.012005</td>\n",
              "      <td>-0.395707</td>\n",
              "      <td>-0.348437</td>\n",
              "      <td>0.047270</td>\n",
              "      <td>0.015141</td>\n",
              "      <td>1.309377</td>\n",
              "      <td>1.159719</td>\n",
              "      <td>0.380694</td>\n",
              "      <td>neutral</td>\n",
              "      <td>64</td>\n",
              "    </tr>\n",
              "    <tr>\n",
              "      <th>213149</th>\n",
              "      <td>-3.074866</td>\n",
              "      <td>0.018203</td>\n",
              "      <td>-3.107155</td>\n",
              "      <td>-3.045026</td>\n",
              "      <td>0.062129</td>\n",
              "      <td>0.031341</td>\n",
              "      <td>-1.325732</td>\n",
              "      <td>0.016385</td>\n",
              "      <td>3.074920</td>\n",
              "      <td>2.840470</td>\n",
              "      <td>...</td>\n",
              "      <td>0.008120</td>\n",
              "      <td>-0.399579</td>\n",
              "      <td>-0.374031</td>\n",
              "      <td>0.025548</td>\n",
              "      <td>0.013910</td>\n",
              "      <td>-1.519250</td>\n",
              "      <td>0.084278</td>\n",
              "      <td>0.387387</td>\n",
              "      <td>neutral</td>\n",
              "      <td>64</td>\n",
              "    </tr>\n",
              "  </tbody>\n",
              "</table>\n",
              "<p>213150 rows × 164 columns</p>\n",
              "</div>\n",
              "    <div class=\"colab-df-buttons\">\n",
              "\n",
              "  <div class=\"colab-df-container\">\n",
              "    <button class=\"colab-df-convert\" onclick=\"convertToInteractive('df-644a6d8d-f3b6-4bcf-970b-871c937b5560')\"\n",
              "            title=\"Convert this dataframe to an interactive table.\"\n",
              "            style=\"display:none;\">\n",
              "\n",
              "  <svg xmlns=\"http://www.w3.org/2000/svg\" height=\"24px\" viewBox=\"0 -960 960 960\">\n",
              "    <path d=\"M120-120v-720h720v720H120Zm60-500h600v-160H180v160Zm220 220h160v-160H400v160Zm0 220h160v-160H400v160ZM180-400h160v-160H180v160Zm440 0h160v-160H620v160ZM180-180h160v-160H180v160Zm440 0h160v-160H620v160Z\"/>\n",
              "  </svg>\n",
              "    </button>\n",
              "\n",
              "  <style>\n",
              "    .colab-df-container {\n",
              "      display:flex;\n",
              "      gap: 12px;\n",
              "    }\n",
              "\n",
              "    .colab-df-convert {\n",
              "      background-color: #E8F0FE;\n",
              "      border: none;\n",
              "      border-radius: 50%;\n",
              "      cursor: pointer;\n",
              "      display: none;\n",
              "      fill: #1967D2;\n",
              "      height: 32px;\n",
              "      padding: 0 0 0 0;\n",
              "      width: 32px;\n",
              "    }\n",
              "\n",
              "    .colab-df-convert:hover {\n",
              "      background-color: #E2EBFA;\n",
              "      box-shadow: 0px 1px 2px rgba(60, 64, 67, 0.3), 0px 1px 3px 1px rgba(60, 64, 67, 0.15);\n",
              "      fill: #174EA6;\n",
              "    }\n",
              "\n",
              "    .colab-df-buttons div {\n",
              "      margin-bottom: 4px;\n",
              "    }\n",
              "\n",
              "    [theme=dark] .colab-df-convert {\n",
              "      background-color: #3B4455;\n",
              "      fill: #D2E3FC;\n",
              "    }\n",
              "\n",
              "    [theme=dark] .colab-df-convert:hover {\n",
              "      background-color: #434B5C;\n",
              "      box-shadow: 0px 1px 3px 1px rgba(0, 0, 0, 0.15);\n",
              "      filter: drop-shadow(0px 1px 2px rgba(0, 0, 0, 0.3));\n",
              "      fill: #FFFFFF;\n",
              "    }\n",
              "  </style>\n",
              "\n",
              "    <script>\n",
              "      const buttonEl =\n",
              "        document.querySelector('#df-644a6d8d-f3b6-4bcf-970b-871c937b5560 button.colab-df-convert');\n",
              "      buttonEl.style.display =\n",
              "        google.colab.kernel.accessAllowed ? 'block' : 'none';\n",
              "\n",
              "      async function convertToInteractive(key) {\n",
              "        const element = document.querySelector('#df-644a6d8d-f3b6-4bcf-970b-871c937b5560');\n",
              "        const dataTable =\n",
              "          await google.colab.kernel.invokeFunction('convertToInteractive',\n",
              "                                                    [key], {});\n",
              "        if (!dataTable) return;\n",
              "\n",
              "        const docLinkHtml = 'Like what you see? Visit the ' +\n",
              "          '<a target=\"_blank\" href=https://colab.research.google.com/notebooks/data_table.ipynb>data table notebook</a>'\n",
              "          + ' to learn more about interactive tables.';\n",
              "        element.innerHTML = '';\n",
              "        dataTable['output_type'] = 'display_data';\n",
              "        await google.colab.output.renderOutput(dataTable, element);\n",
              "        const docLink = document.createElement('div');\n",
              "        docLink.innerHTML = docLinkHtml;\n",
              "        element.appendChild(docLink);\n",
              "      }\n",
              "    </script>\n",
              "  </div>\n",
              "\n",
              "\n",
              "<div id=\"df-a88a7d68-f33c-4a96-a31a-204d587d794b\">\n",
              "  <button class=\"colab-df-quickchart\" onclick=\"quickchart('df-a88a7d68-f33c-4a96-a31a-204d587d794b')\"\n",
              "            title=\"Suggest charts.\"\n",
              "            style=\"display:none;\">\n",
              "\n",
              "<svg xmlns=\"http://www.w3.org/2000/svg\" height=\"24px\"viewBox=\"0 0 24 24\"\n",
              "     width=\"24px\">\n",
              "    <g>\n",
              "        <path d=\"M19 3H5c-1.1 0-2 .9-2 2v14c0 1.1.9 2 2 2h14c1.1 0 2-.9 2-2V5c0-1.1-.9-2-2-2zM9 17H7v-7h2v7zm4 0h-2V7h2v10zm4 0h-2v-4h2v4z\"/>\n",
              "    </g>\n",
              "</svg>\n",
              "  </button>\n",
              "\n",
              "<style>\n",
              "  .colab-df-quickchart {\n",
              "      --bg-color: #E8F0FE;\n",
              "      --fill-color: #1967D2;\n",
              "      --hover-bg-color: #E2EBFA;\n",
              "      --hover-fill-color: #174EA6;\n",
              "      --disabled-fill-color: #AAA;\n",
              "      --disabled-bg-color: #DDD;\n",
              "  }\n",
              "\n",
              "  [theme=dark] .colab-df-quickchart {\n",
              "      --bg-color: #3B4455;\n",
              "      --fill-color: #D2E3FC;\n",
              "      --hover-bg-color: #434B5C;\n",
              "      --hover-fill-color: #FFFFFF;\n",
              "      --disabled-bg-color: #3B4455;\n",
              "      --disabled-fill-color: #666;\n",
              "  }\n",
              "\n",
              "  .colab-df-quickchart {\n",
              "    background-color: var(--bg-color);\n",
              "    border: none;\n",
              "    border-radius: 50%;\n",
              "    cursor: pointer;\n",
              "    display: none;\n",
              "    fill: var(--fill-color);\n",
              "    height: 32px;\n",
              "    padding: 0;\n",
              "    width: 32px;\n",
              "  }\n",
              "\n",
              "  .colab-df-quickchart:hover {\n",
              "    background-color: var(--hover-bg-color);\n",
              "    box-shadow: 0 1px 2px rgba(60, 64, 67, 0.3), 0 1px 3px 1px rgba(60, 64, 67, 0.15);\n",
              "    fill: var(--button-hover-fill-color);\n",
              "  }\n",
              "\n",
              "  .colab-df-quickchart-complete:disabled,\n",
              "  .colab-df-quickchart-complete:disabled:hover {\n",
              "    background-color: var(--disabled-bg-color);\n",
              "    fill: var(--disabled-fill-color);\n",
              "    box-shadow: none;\n",
              "  }\n",
              "\n",
              "  .colab-df-spinner {\n",
              "    border: 2px solid var(--fill-color);\n",
              "    border-color: transparent;\n",
              "    border-bottom-color: var(--fill-color);\n",
              "    animation:\n",
              "      spin 1s steps(1) infinite;\n",
              "  }\n",
              "\n",
              "  @keyframes spin {\n",
              "    0% {\n",
              "      border-color: transparent;\n",
              "      border-bottom-color: var(--fill-color);\n",
              "      border-left-color: var(--fill-color);\n",
              "    }\n",
              "    20% {\n",
              "      border-color: transparent;\n",
              "      border-left-color: var(--fill-color);\n",
              "      border-top-color: var(--fill-color);\n",
              "    }\n",
              "    30% {\n",
              "      border-color: transparent;\n",
              "      border-left-color: var(--fill-color);\n",
              "      border-top-color: var(--fill-color);\n",
              "      border-right-color: var(--fill-color);\n",
              "    }\n",
              "    40% {\n",
              "      border-color: transparent;\n",
              "      border-right-color: var(--fill-color);\n",
              "      border-top-color: var(--fill-color);\n",
              "    }\n",
              "    60% {\n",
              "      border-color: transparent;\n",
              "      border-right-color: var(--fill-color);\n",
              "    }\n",
              "    80% {\n",
              "      border-color: transparent;\n",
              "      border-right-color: var(--fill-color);\n",
              "      border-bottom-color: var(--fill-color);\n",
              "    }\n",
              "    90% {\n",
              "      border-color: transparent;\n",
              "      border-bottom-color: var(--fill-color);\n",
              "    }\n",
              "  }\n",
              "</style>\n",
              "\n",
              "  <script>\n",
              "    async function quickchart(key) {\n",
              "      const quickchartButtonEl =\n",
              "        document.querySelector('#' + key + ' button');\n",
              "      quickchartButtonEl.disabled = true;  // To prevent multiple clicks.\n",
              "      quickchartButtonEl.classList.add('colab-df-spinner');\n",
              "      try {\n",
              "        const charts = await google.colab.kernel.invokeFunction(\n",
              "            'suggestCharts', [key], {});\n",
              "      } catch (error) {\n",
              "        console.error('Error during call to suggestCharts:', error);\n",
              "      }\n",
              "      quickchartButtonEl.classList.remove('colab-df-spinner');\n",
              "      quickchartButtonEl.classList.add('colab-df-quickchart-complete');\n",
              "    }\n",
              "    (() => {\n",
              "      let quickchartButtonEl =\n",
              "        document.querySelector('#df-a88a7d68-f33c-4a96-a31a-204d587d794b button');\n",
              "      quickchartButtonEl.style.display =\n",
              "        google.colab.kernel.accessAllowed ? 'block' : 'none';\n",
              "    })();\n",
              "  </script>\n",
              "</div>\n",
              "    </div>\n",
              "  </div>\n"
            ]
          },
          "metadata": {},
          "execution_count": 155
        }
      ]
    },
    {
      "cell_type": "code",
      "source": [
        "#Checking for null values\n",
        "missing_values = df.isnull().sum()\n",
        "print(f\"Number of missing values by column:\\n{missing_values}\")"
      ],
      "metadata": {
        "colab": {
          "base_uri": "https://localhost:8080/"
        },
        "id": "5J65uVPfeQmc",
        "outputId": "ebaf4d99-4f15-47b1-d02c-30f7d663dfe0"
      },
      "execution_count": null,
      "outputs": [
        {
          "output_type": "stream",
          "name": "stdout",
          "text": [
            "Number of missing values by column:\n",
            "Nav/Raw.X[RightCheek]_mean      0\n",
            "Nav/Raw.X[RightCheek]_std       0\n",
            "Nav/Raw.X[RightCheek]_min_      0\n",
            "Nav/Raw.X[RightCheek]_max_      0\n",
            "Nav/Raw.X[RightCheek]_range_    0\n",
            "                               ..\n",
            "Prox/Raw[LeftCheek]_kurtosis    0\n",
            "Prox/Raw[LeftCheek]_skewness    0\n",
            "Prox/Raw[LeftCheek]_rms         0\n",
            "Label                           0\n",
            "FileId                          0\n",
            "Length: 164, dtype: int64\n"
          ]
        }
      ]
    },
    {
      "cell_type": "code",
      "source": [
        "df.fillna(0, inplace=True)"
      ],
      "metadata": {
        "id": "g0YZSbMReWr_"
      },
      "execution_count": null,
      "outputs": []
    },
    {
      "cell_type": "code",
      "source": [
        "df.value_counts('Label')"
      ],
      "metadata": {
        "colab": {
          "base_uri": "https://localhost:8080/"
        },
        "id": "K9tPPFo3eb_z",
        "outputId": "1de147c4-e4f8-4011-8b30-26388ae802ca"
      },
      "execution_count": null,
      "outputs": [
        {
          "output_type": "execute_result",
          "data": {
            "text/plain": [
              "Label\n",
              "neutral          143147\n",
              "frown             17908\n",
              "smile             17511\n",
              "eyebrow_raise     17372\n",
              "squeezed_eyes     17212\n",
              "dtype: int64"
            ]
          },
          "metadata": {},
          "execution_count": 158
        }
      ]
    },
    {
      "cell_type": "code",
      "source": [
        "all_subjects=list(range(1,66))"
      ],
      "metadata": {
        "id": "wR2k3NRHefUR"
      },
      "execution_count": null,
      "outputs": []
    },
    {
      "cell_type": "code",
      "source": [
        "random.shuffle(all_subjects)"
      ],
      "metadata": {
        "id": "5igIuyWTekDK"
      },
      "execution_count": null,
      "outputs": []
    },
    {
      "cell_type": "code",
      "source": [
        "# 45/10/10 train test validation split\n",
        "train_ids=all_subjects[:45]\n",
        "test_ids=all_subjects[45:55]\n",
        "validation_ids=all_subjects[55:65]"
      ],
      "metadata": {
        "id": "KIvbcWhQenNA"
      },
      "execution_count": null,
      "outputs": []
    },
    {
      "cell_type": "code",
      "source": [
        "train_df=df[df['FileId'].isin(train_ids)]\n",
        "test_df=df[df['FileId'].isin(test_ids)]\n",
        "validation_df=df[df['FileId'].isin(validation_ids)]"
      ],
      "metadata": {
        "id": "S15cuREWeug8"
      },
      "execution_count": null,
      "outputs": []
    },
    {
      "cell_type": "code",
      "source": [
        "#undersampling only the train set\n",
        "undersampled_train_df=pd.DataFrame()\n",
        "undersampled_train_df=undersample_neutral(train_df,8)"
      ],
      "metadata": {
        "id": "KMjEbEj0eyVE"
      },
      "execution_count": null,
      "outputs": []
    },
    {
      "cell_type": "code",
      "source": [
        "undersampled_train_df.value_counts('Label')"
      ],
      "metadata": {
        "colab": {
          "base_uri": "https://localhost:8080/"
        },
        "id": "PQ8GKHQbe3Vt",
        "outputId": "0037075e-f1f1-4c49-df9c-d468a5021c52"
      },
      "execution_count": null,
      "outputs": [
        {
          "output_type": "execute_result",
          "data": {
            "text/plain": [
              "Label\n",
              "neutral          12190\n",
              "frown            12020\n",
              "smile            11792\n",
              "eyebrow_raise    11679\n",
              "squeezed_eyes    11580\n",
              "dtype: int64"
            ]
          },
          "metadata": {},
          "execution_count": 170
        }
      ]
    },
    {
      "cell_type": "code",
      "source": [
        "X_train=undersampled_train_df.drop(['Label','FileId'],axis=1)\n",
        "y_train=undersampled_train_df['Label']\n",
        "\n",
        "X_test=test_df.drop(['Label','FileId'],axis=1)\n",
        "y_test=test_df['Label']\n",
        "\n",
        "X_val=validation_df.drop(['Label','FileId'],axis=1)\n",
        "y_val=validation_df['Label']"
      ],
      "metadata": {
        "id": "OkmR4SX_e7Ei"
      },
      "execution_count": null,
      "outputs": []
    },
    {
      "cell_type": "code",
      "source": [
        "rf=joblib.load('/content/drive/MyDrive/rf_500.sav')"
      ],
      "metadata": {
        "id": "QTbAi45SfE2b"
      },
      "execution_count": null,
      "outputs": []
    },
    {
      "cell_type": "code",
      "source": [
        "result_rf = rf.score(X_test, y_test)\n",
        "print(result_rf)"
      ],
      "metadata": {
        "colab": {
          "base_uri": "https://localhost:8080/"
        },
        "id": "4XZFh-4JfKD2",
        "outputId": "a065d3ed-5ec8-425a-d256-4318057cd521"
      },
      "execution_count": null,
      "outputs": [
        {
          "output_type": "stream",
          "name": "stdout",
          "text": [
            "0.8526791606176587\n"
          ]
        }
      ]
    },
    {
      "cell_type": "code",
      "source": [
        "xgb=joblib.load('/content/drive/MyDrive/xgb_500.sav')"
      ],
      "metadata": {
        "id": "mNUldKMTfOB6"
      },
      "execution_count": null,
      "outputs": []
    },
    {
      "cell_type": "code",
      "source": [
        "df.columns = df.columns.str.replace('[', '(').str.replace(']', ')')"
      ],
      "metadata": {
        "colab": {
          "base_uri": "https://localhost:8080/"
        },
        "id": "RFpOtHE0fTg_",
        "outputId": "24f84cec-ae10-42c0-977b-4f3b44eb6fa6"
      },
      "execution_count": null,
      "outputs": [
        {
          "output_type": "stream",
          "name": "stderr",
          "text": [
            "<ipython-input-175-6e916e3d41d7>:1: FutureWarning: The default value of regex will change from True to False in a future version. In addition, single character regular expressions will *not* be treated as literal strings when regex=True.\n",
            "  df.columns = df.columns.str.replace('[', '(').str.replace(']', ')')\n",
            "<ipython-input-175-6e916e3d41d7>:1: FutureWarning: The default value of regex will change from True to False in a future version. In addition, single character regular expressions will *not* be treated as literal strings when regex=True.\n",
            "  df.columns = df.columns.str.replace('[', '(').str.replace(']', ')')\n"
          ]
        }
      ]
    },
    {
      "cell_type": "code",
      "source": [
        "train_df=df[df['FileId'].isin(train_ids)]\n",
        "test_df=df[df['FileId'].isin(test_ids)]\n",
        "validation_df=df[df['FileId'].isin(validation_ids)]"
      ],
      "metadata": {
        "id": "gtss55YgfW5x"
      },
      "execution_count": null,
      "outputs": []
    },
    {
      "cell_type": "code",
      "source": [
        "#undersampling only the train set\n",
        "undersampled_train_df=pd.DataFrame()\n",
        "undersampled_train_df=undersample_neutral(train_df,8)"
      ],
      "metadata": {
        "id": "qZkduOaefafE"
      },
      "execution_count": null,
      "outputs": []
    },
    {
      "cell_type": "code",
      "source": [
        "X_train=undersampled_train_df.drop(['Label','FileId'],axis=1)\n",
        "y_train=undersampled_train_df['Label']\n",
        "\n",
        "X_test=test_df.drop(['Label','FileId'],axis=1)\n",
        "y_test=test_df['Label']\n",
        "\n",
        "X_val=validation_df.drop(['Label','FileId'],axis=1)\n",
        "y_val=validation_df['Label']"
      ],
      "metadata": {
        "id": "_29HBbhAfdKB"
      },
      "execution_count": null,
      "outputs": []
    },
    {
      "cell_type": "code",
      "source": [
        "from sklearn.preprocessing import LabelEncoder\n",
        "le = LabelEncoder()\n",
        "y_train = le.fit_transform(y_train)\n",
        "y_test=le.fit_transform(y_test)"
      ],
      "metadata": {
        "id": "_mpD38i6fs6W"
      },
      "execution_count": null,
      "outputs": []
    },
    {
      "cell_type": "code",
      "source": [
        "result_xgb=xgb.score(X_test,y_test)\n",
        "print(result_xgb)"
      ],
      "metadata": {
        "colab": {
          "base_uri": "https://localhost:8080/"
        },
        "id": "YoTBwzhhffRu",
        "outputId": "23185769-d09f-4c02-97c2-6a03d3caf326"
      },
      "execution_count": null,
      "outputs": [
        {
          "output_type": "stream",
          "name": "stdout",
          "text": [
            "0.8566385112841494\n"
          ]
        }
      ]
    }
  ]
}